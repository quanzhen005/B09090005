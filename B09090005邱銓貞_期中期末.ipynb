{
  "nbformat": 4,
  "nbformat_minor": 0,
  "metadata": {
    "colab": {
      "name": "B09090005邱銓貞 期中期末.ipynb",
      "provenance": [],
      "collapsed_sections": []
    },
    "kernelspec": {
      "name": "python3",
      "display_name": "Python 3"
    },
    "language_info": {
      "name": "python"
    }
  },
  "cells": [
    {
      "cell_type": "markdown",
      "source": [
        "# ***期中考***"
      ],
      "metadata": {
        "id": "L6T5f_asnnhK"
      }
    },
    {
      "cell_type": "code",
      "source": [
        "a=5\n",
        "b=3\n",
        "a+b"
      ],
      "metadata": {
        "colab": {
          "base_uri": "https://localhost:8080/"
        },
        "id": "S7R6CTzjnpu4",
        "outputId": "2e6874cc-dab7-4e2d-c457-c05c96885f46"
      },
      "execution_count": 5,
      "outputs": [
        {
          "output_type": "execute_result",
          "data": {
            "text/plain": [
              "8"
            ]
          },
          "metadata": {},
          "execution_count": 5
        }
      ]
    },
    {
      "cell_type": "code",
      "source": [
        "import calendar\n",
        "print(calendar.month(2021,2))"
      ],
      "metadata": {
        "colab": {
          "base_uri": "https://localhost:8080/"
        },
        "id": "1W260W8Anry7",
        "outputId": "0f980306-49d2-4f14-f19e-dd7fe946d22b"
      },
      "execution_count": 6,
      "outputs": [
        {
          "output_type": "stream",
          "name": "stdout",
          "text": [
            "   February 2021\n",
            "Mo Tu We Th Fr Sa Su\n",
            " 1  2  3  4  5  6  7\n",
            " 8  9 10 11 12 13 14\n",
            "15 16 17 18 19 20 21\n",
            "22 23 24 25 26 27 28\n",
            "\n"
          ]
        }
      ]
    },
    {
      "cell_type": "code",
      "source": [
        "import matplotlib.pyplot as plt\n",
        "x=[2,3,4]\n",
        "y=[6,5,4]\n",
        "plt.bar(x,y)\n",
        "plt.show"
      ],
      "metadata": {
        "colab": {
          "base_uri": "https://localhost:8080/",
          "height": 283
        },
        "id": "IGiKZW3Fn7T5",
        "outputId": "484b3866-69dd-4bbe-8657-04a247c9ab4a"
      },
      "execution_count": 7,
      "outputs": [
        {
          "output_type": "execute_result",
          "data": {
            "text/plain": [
              "<function matplotlib.pyplot.show>"
            ]
          },
          "metadata": {},
          "execution_count": 7
        },
        {
          "output_type": "display_data",
          "data": {
            "text/plain": [
              "<Figure size 432x288 with 1 Axes>"
            ],
            "image/png": "[encoded data removed]"
          },
          "metadata": {
            "needs_background": "light"
          }
        }
      ]
    },
    {
      "cell_type": "code",
      "source": [
        "import requests\n",
        "a=requests.get(\"http://www.must.edu.tw/\")\n",
        "print(a.text)"
      ],
      "metadata": {
        "colab": {
          "base_uri": "https://localhost:8080/"
        },
        "id": "7OoxALAbn8yl",
        "outputId": "f37d21c3-f1cc-4a16-c7ad-139b66cb1b46"
      },
      "execution_count": 8,
      "outputs": [
        {
          "output_type": "stream",
          "name": "stdout",
          "text": [
            "<!DOCTYPE html>\n",
            "<html xmlns=\"http://www.w3.org/1999/xhtml\" xml:lang=\"zh-tw\" lang=\"zh-tw\" dir=\"ltr\">\n",
            "\n",
            "<head>\n",
            "  <title>明新科技大學 - 首頁</title>\n",
            "    <!-- Required Meta Tags Start -->\n",
            "  <meta charset=\"utf-8\">\n",
            "  <meta http-equiv=\"x-ua-compatible\" content=\"ie=edge\">\n",
            "  <meta name=\"description\" content=\"\">\n",
            "  <meta name=\"keywords\" content=\"\">\n",
            "  <meta name=\"author\" content=\"must\">\n",
            "  <meta name=\"viewport\" content=\"width=device-width, initial-scale=1, shrink-to-fit=no\">\n",
            "  <!-- Required Meta Tags End -->\n",
            "\n",
            "  <!-- Favicon Tags Start -->\n",
            "  <link rel=\"shortcut icon\" href=\"https://www.must.edu.tw/favicon.ico\">\n",
            "  <!-- Favicon Tags End -->\n",
            "\n",
            "  <!-- CSS here -->\n",
            "  <link rel=\"stylesheet\" href=\"https://www.must.edu.tw/templates/plugin/plugin.css\">\n",
            "  <link rel=\"stylesheet\" href=\"https://www.must.edu.tw/templates/css/style.css\">\n",
            "  <link rel=\"stylesheet\" href=\"https://www.must.edu.tw/templates/plugin/slick/slick.css\">\n",
            "  <link rel=\"stylesheet\" href=\"https://www.must.edu.tw/templates/css/custom.css\">\n",
            "\n",
            "\n",
            "    <!-- Global site tag (gtag.js) - Google Analytics -->\n",
            "  <script async src=\"https://www.googletagmanager.com/gtag/js?id=UA-131310035-1\"></script>\n",
            "</head>\n",
            "\n",
            "<body>\n",
            "  <!-- Mobile Header-->\n",
            "<div class=\"navbar-fixed-top d-xl-none header-mobile\">\n",
            "    <!-- LOGO-->\n",
            "    <div class=\"logo\"><a href=\"https://www.must.edu.tw/\"><img src=\"https://www.must.edu.tw/images/ui/logo_white.svg\" width=\"290\"></a></div>\n",
            "\n",
            "    <div class=\"menu-btn\">\n",
            "        <div class=\"line-wrap\">\n",
            "            <span class=\"line-1\"></span>\n",
            "            <span class=\"line-2\"></span>\n",
            "            <span class=\"line-3\"></span>\n",
            "    </div>\n",
            "    </div>\n",
            "\n",
            "</div>\n",
            "\n",
            "<nav class=\"mobilenav\">\n",
            "    <!-- Module -->\n",
            "    <div class=\"m-menu\">\n",
            "        <ul id=\"accordion\" class=\"accordion\">\n",
            "            <li>\n",
            "                <div class=\"link\">關於明新</div>\n",
            "                <ul class=\"submenu\">\n",
            "                    <li><a href=\"https://www.must.edu.tw/about/about-4.php\" title=\"校史\">校史</a></li>\n",
            "                    <li><a href=\"https://www.must.edu.tw/about/about-2.php\" title=\"校訓\">校訓</a></li>\n",
            "                    <li><a href=\"https://www.must.edu.tw/about/about-3.php\" title=\"校歌\">校歌</a></li>\n",
            "                    <li><a href=\"https://www.must.edu.tw/about/about-18.php\" title=\"教育目標\">教育目標</a></li>\n",
            "                    <li><a href=\"https://www.must.edu.tw/about/about-16.php\" title=\"創校元老\">創校元老</a></li>\n",
            "                    <li><a href=\"http://webc1.must.edu.tw/mustj001\" title=\"董事會\">董事會</a></li>\n",
            "                    <li><a href=\"https://admin.must.edu.tw/index.aspx?UnitID=1184\" title=\"校長室\">校長室</a></li>\n",
            "                    <li><a href=\"https://admin.must.edu.tw/index.aspx?UnitID=1185\" title=\"副校長室\">副校長室</a></li>\n",
            "                    <li><a href=\"../ochart/chart.pdf\" title=\"學校組織系統圖\">學校組織系統圖</a></li>\n",
            "                    <li><a href=\"https://www.must.edu.tw/about/mustmap.php\" title=\"如何到明新\">如何到明新</a></li>\n",
            "                    <li><a href=\"http://webc1.must.edu.tw/jtmust073/index.php/2017-01-20-03-50-06/2017-01-23-06-53-36\"\n",
            "                            title=\"校內平面圖\">校內平面圖</a></li>\n",
            "                </ul>\n",
            "            </li>\n",
            "\t\t\t<li><a href=\"https://www.must.edu.tw/admissions.php\" title=\"\">招生資訊</a></li>\n",
            "\t\t\t<li><a href=\"https://www.must.edu.tw/hall-of-fame-img-list.php\" title=\"明新的驕傲\">明新的驕傲</a></li>\n",
            "\t\t\n",
            "\t\t\t\n",
            "\t\t\t\n",
            "\t\t\t\n",
            "            <li>\n",
            "                <div class=\"link\">學術單位</div>\n",
            "                <ul class=\"submenu\">\n",
            "                    <li class=\"inner\">\n",
            "                        <div class=\"link\">半導體學院</div>\n",
            "                        <ul class=\"submenu\">\n",
            "                            <li><a href=\"http://webc1.must.edu.tw/jtmust090\" title=\"半導體學院\">半導體學院</a></li>\n",
            "\t\t\t\t\t\t\t<li><a href=\"http://webc2.must.edu.tw/jtmust005\" title=\"電機工程系(學士班、碩士班)\">電機工程系(學士班、碩士班)</a></li>\n",
            "                            <li><a href=\"http://eed.must.edu.tw/\" title=\"電子工程系(學士班、碩士班)\">電子工程系(學士班、碩士班)</a></li>\t\t\t\t\t\t\t\n",
            "\t\t\t\t\t\t\t<li><a href=\"http://webc2.must.edu.tw/jtmust020/\" title=\"應用材料科技系(原化學工程與材料科技系)(學士班、碩士班)\">應用材料科技系(原化學工程與材料科技系)(學士班、碩士班)</a></li>\n",
            "\t\t\t\t\t\t\t<li><a href=\"http://webc2.must.edu.tw/jtmust012\" title=\"半導體與光電科技系(學士班、碩士班)\">半導體與光電科技系(原光電工程系)(學士班、碩士班)</a></li>\n",
            "                        </ul>\n",
            "                    </li>\n",
            "\t\t\t\t\t\n",
            "\t\t\t\t\t<li class=\"inner\">\n",
            "                        <div class=\"link\">工程學院</div>\n",
            "                        <ul class=\"submenu\">\n",
            "                            <li><a href=\"http://smart.must.edu.tw/\" title=\"工程學院\">工程學院</a></li>\n",
            "\t\t\t\t\t\t\t<li><a href=\"http://meu.must.edu.tw/\" title=\"機械工程系(學士班、精密機電工程碩士班)\">機械工程系(學士班、精密機電工程碩士班)</a></li>\n",
            "\t\t\t\t\t\t\t<li><a href=\"http://civil.must.edu.tw/\" title=\"土木工程與環境資源管理系(學士班、碩士班)\">土木工程與環境資源管理系(學士班、碩士班)</a></li>\n",
            "\t\t\t\t\t\t\t<li><a href=\"http://csie.must.edu.tw/\" title=\"資訊工程系(學士班)\">資訊工程系(學士班)</a></li>\n",
            "                        </ul>\n",
            "                    </li>\n",
            "\t\t\t\t\t\n",
            "\t\t\t\t\t\n",
            "                    <li class=\"inner\">\n",
            "                        <div class=\"link\">管理學院</div>\n",
            "                        <ul class=\"submenu\">\n",
            "\t\t\t\t\t\t\t<li><a href=\"https://acade.must.edu.tw/index.aspx?UnitID=45\"  title=\"管理學院\">管理學院</a></li>\n",
            "                            <li><a href=\"http://webc2.must.edu.tw/jtmust028\" title=\"工業工程與管理系(學士班、碩士班) \">工業工程與管理系(學士班、碩士班)</a></li>\n",
            "                            <li><a href=\"http://www.im.must.edu.tw/\" title=\"資訊管理系(學士班、碩士班)\">資訊管理系(學士班、碩士班)</a></li>\n",
            "                            <li><a href=\"https://acade.must.edu.tw/index.aspx?UnitID=48\" title=\"行銷與流通管理系(學士班)\">行銷與流通管理系(學士班)</a></li>\n",
            "                            <li><a href=\"https://acade.must.edu.tw/index.aspx?UnitID=49\" title=\"企業管理系(學士班)\">企業管理系(學士班)</a></li>\n",
            "                            <li><a href=\"http://webc2.must.edu.tw/jtmust021\" title=\"財務金融系(學士班)\">財務金融系(學士班)</a></li>\n",
            "                            <li><a href=\"https://acade.must.edu.tw/index.aspx?UnitID=51\" title=\"管理研究所(碩士班)\">管理研究所(碩士班)</a></li>\n",
            "                            <!--<li><a href=\"http://webc2.must.edu.tw/jtmust013/\" title=\"全球運籌管理中心\">全球運籌管理中心</a></li>-->\n",
            "                        </ul>\n",
            "                    </li>\n",
            "                    <li class=\"inner\">\n",
            "                        <div class=\"link\">服務產業學院</div>\n",
            "                        <ul class=\"submenu\">\n",
            "\t\t\t\t\t\t\t<li><a href=\"https://acade.must.edu.tw/index.aspx?UnitID=52\" title=\"服務產業學院\">服務產業學院</a> </li>\n",
            "                            <li><a href=\"http://webc1.must.edu.tw/jtmust044\" title=\"服務產業暨管理研究所(碩士班)\">服務產業暨管理研究所(碩士班)</a> </li>\n",
            "                            <li><a href=\"http://webc2.must.edu.tw/jtmust019\" title=\"旅館管理與廚藝創意系(學士班)\">旅館管理與廚藝創意系(學士班)</a> </li>\n",
            "                            <li><a href=\"http://child.must.edu.tw/\" title=\"幼兒保育系(學士班、碩士班)\">幼兒保育系(學士班、碩士班)</a></li>\n",
            "                            <li><a href=\"http://webc2.must.edu.tw/jtmust101\" title=\"休閒事業管理系(學士班)\">休閒事業管理系(學士班)</a></li>\n",
            "                            <li><a href=\"http://webc2.must.edu.tw/jtmust010/\" title=\"樂齡服務產業管理系(學士班)\">樂齡服務產業管理系(學士班)</a>  </li>\n",
            "                            <li><a href=\"https://acade.must.edu.tw/index.aspx?UnitID=58\" title=\"師資培育中心\">師資培育中心</a></li>\n",
            "                        </ul>\n",
            "                    </li>\n",
            "                    <li class=\"inner\">\n",
            "                        <div class=\"link\">人文與設計學院</div>\n",
            "                        <ul class=\"submenu\">\n",
            "                            <li><a href=\"https://acade.must.edu.tw/index.aspx?UnitID=59\" title=\"人文與設計學院\">人文與設計學院</a> </li>\n",
            "\t\t\t\t\t\t\t<li><a href=\"https://acade.must.edu.tw/index.aspx?UnitID=61\" title=\"應用外語系(學士班) \">應用外語系(學士班)</a></li>\n",
            "                            <li><a href=\"http://webc1.must.edu.tw/mustj004\" title=\"運動事業管理系(學士班)\">運動事業管理系(學士班)</a></li>\n",
            "                            <li><a href=\"http://webc2.must.edu.tw/jtmust102/\" title=\"多媒體與遊戲發展系(學士班)\">多媒體與遊戲發展系(學士班)</a>  </li>\n",
            "                            <li><a href=\"http://webc1.must.edu.tw/jtmust080\" title=\"時尚造型與設計系(學士班)\">時尚造型與設計系(學士班)</a>  </li>\n",
            "                            <li><a href=\"http://webc1.must.edu.tw/jtmust048/\" title=\"化妝品應用學士學位學程\">化妝品應用學士學位學程</a></li>\n",
            "\t\t\t\t\t\t\t\n",
            "                            <!--<li><a href=\"http://webc1.must.edu.tw/jtmust041\" title=\"華語文教學中心\">華語文教學中心</a></li>-->\n",
            "                            \n",
            "                        </ul>\n",
            "                    </li>\n",
            "                    <li class=\"inner\">\n",
            "                        <div class=\"link\">共同教育學院</div>\n",
            "                        <ul class=\"submenu\">\n",
            "                            <li><a href=\"http://webc1.must.edu.tw/mustj010\" title=\"共同教育學院\">共同教育學院</a></li>\n",
            "\t\t\t\t\t\t\t<li><a href=\"http://webc2.must.edu.tw/jtmust014\" title=\"通識教育中心\">通識教育中心</a></li>\n",
            "\t\t\t\t\t\t\t<!--<li><a href=\"http://webc1.must.edu.tw/jtmust081\" title=\"人文藝術教學中心\">人文藝術教學中心</a></li>\n",
            "                            <li><a href=\"http://webc1.must.edu.tw/jtmust082\" title=\"社會科學教學中心\">社會科學教學中心</a></li>\n",
            "                            <li><a href=\"http://webc1.must.edu.tw/jtmust083\" title=\"自然科學教學中心\">自然科學教學中心</a></li>\n",
            "                            <li><a href=\"http://webc1.must.edu.tw/jtmust084\" title=\"語言教學中心\">語言教學中心</a></li>-->\n",
            "                        </ul>\n",
            "                    </li>\n",
            "                </ul>\n",
            "            </li>\n",
            "            <li>\n",
            "                <div class=\"link\">行政單位</div>\n",
            "                <ul class=\"submenu\">\n",
            "                <li><a href=\"https://admin.must.edu.tw/index.aspx?UnitID=70\" title=\"稽核處\">稽核處</a></li>\n",
            "                <li><a href=\"https://admin.must.edu.tw/index.aspx?UnitID=71\" title=\"秘書處\">秘書處</a></li>\n",
            "                <li><a href=\"https://admin.must.edu.tw/index.aspx?UnitID=72\" title=\"公共關係處\">公共關係處</a></li>\n",
            "                <li><a href=\"https://admin.must.edu.tw/index.aspx?UnitID=75\" title=\"財務處\">財務處</a></li>\n",
            "                <li><a href=\"https://admin.must.edu.tw/index.aspx?UnitID=76\" title=\"人力資源處\">人力資源處</a></li>\n",
            "                <li><a href=\"http://webc1.must.edu.tw/mustj005/\" title=\"法務處\">法務處</a></li>\n",
            "\t\t\t\t<li><a href=\"#\" title=\"原住民族教育發展處\">原住民族教育發展處</a></li>\n",
            "\t\t\t\t<li><a href=\"http://webs.must.edu.tw/ocmust012\" title=\"原住民族學生資源中心\">- 原住民族學生資源中心</a></li>\n",
            "                <li><a href=\"https://admin.must.edu.tw/index.aspx?UnitID=80\" title=\"大學社會責任辦公室\">大學社會責任辦公室</a></li>    \n",
            "\t\t\t\t\t\n",
            "                    <li class=\"inner\">\n",
            "                        <div class=\"link\">教務處</div>\n",
            "                        <ul class=\"submenu\">\n",
            "                            <li><a href=\"https://admin.must.edu.tw/index.aspx?UnitID=81\" title=\"教務處\">教務處</a></li>\n",
            "\t\t\t\t\t\t\t<li><a href=\"https://admin.must.edu.tw/index.aspx?UnitID=82\" title=\"課務組\">課務組</a></li>\n",
            "\t\t\t\t\t\t\t<li><a href=\"https://admin.must.edu.tw/index.aspx?UnitID=83\" title=\"註冊組\">註冊組</a></li>\n",
            "\t\t\t\t\t\t\t<li><a href=\"https://admin.must.edu.tw/index.aspx?UnitID=84\" title=\"教學發展中心\">教學發展中心</a></li>\n",
            "\t\t\t\t\t\t\t<li><a href=\"https://admin.must.edu.tw/index.aspx?UnitID=85\" title=\"學生實習服務中心\">學生實習服務中心</a></li>\n",
            "\t\t\t\t\t\t\t<li><a href=\"https://admin.must.edu.tw/index.aspx?UnitID=107\" title=\"進修教務組(另開視窗)\">進修教務組</a></li>\n",
            "\t\t\t\t\t\t\t<li><a href=\"https://admin.must.edu.tw/index.aspx?UnitID=1220\" title=\"ROTC專案辦公室(另開視窗)\">ROTC專案辦公室</a></li>\n",
            "                        </ul>\n",
            "                    </li>\n",
            "                    <li class=\"inner\">\n",
            "                        <div class=\"link\">學生事務處</div>\n",
            "                        <ul class=\"submenu\">\n",
            "                            <li><a href=\"https://admin.must.edu.tw/index.aspx?UnitID=86\" title=\"學生事務處\">學生事務處</a></li>\n",
            "\t\t\t\t\t\t\t<li><a href=\"https://admin.must.edu.tw/index.aspx?UnitID=87\" title=\"生活輔導組\">生活輔導組</a></li>\n",
            "\t\t\t\t\t\t\t<li><a href=\"https://admin.must.edu.tw/index.aspx?UnitID=88\" title=\"課外活動指導組\">課外活動指導組</a></li>\n",
            "\t\t\t\t\t\t\t<li><a href=\"https://admin.must.edu.tw/index.aspx?UnitID=89\" title=\"衛生保健組\">衛生保健組</a></li>\n",
            "\t\t\t\t\t\t\t<li><a href=\"https://admin.must.edu.tw/index.aspx?UnitID=90\" title=\"體育室\">體育室</a></li>\n",
            "\t\t\t\t\t\t\t<li><a href=\"https://admin.must.edu.tw/index.aspx?UnitID=91\" title=\"諮商輔導暨職涯發展中心\">諮商輔導暨職涯發展中心</a></li>\n",
            "\t\t\t\t\t\t\t<li><a href=\"https://admin.must.edu.tw/index.aspx?UnitID=92\" title=\"諮商輔導暨職涯發展中心[資源教室]\">諮商輔導暨職涯發展中心[資源教室]</a></li>\n",
            "\t\t\t\t\t\t\t<li><a href=\"https://admin.must.edu.tw/index.aspx?UnitID=93\" title=\"校安中心\">校安中心</a>\n",
            "\t\t\t\t\t\t\t<li><a href=\"https://admin.must.edu.tw/index.aspx?UnitID=108\" title=\"進修學務組(另開視窗)\">進修學務組</a></li>\n",
            "                        </ul>\n",
            "                    </li>\n",
            "                    <li class=\"inner\">\n",
            "                        <div class=\"link\">總務處</div>\n",
            "                        <ul class=\"submenu\">\n",
            "                            <li><a href=\"https://admin.must.edu.tw/index.aspx?UnitID=94\" title=\"總務處\">總務處</a></li>\n",
            "\t\t\t\t\t\t\t<li><a href=\"https://admin.must.edu.tw/index.aspx?UnitID=95\" title=\"文書組\">文書組</a></li>\n",
            "\t\t\t\t\t\t\t<li><a href=\"https://admin.must.edu.tw/index.aspx?UnitID=96\" title=\"事務組\">事務組</a></li>\n",
            "\t\t\t\t\t\t\t<li><a href=\"https://admin.must.edu.tw/index.aspx?UnitID=97\" title=\"出納組\">出納組</a></li>\n",
            "\t\t\t\t\t\t\t<li><a href=\"https://admin.must.edu.tw/index.aspx?UnitID=98\" title=\"營繕組\">營繕組</a></li>\n",
            "\t\t\t\t\t\t\t<li><a href=\"https://admin.must.edu.tw/index.aspx?UnitID=99\" title=\"採購組\">採購組</a></li>\n",
            "\t\t\t\t\t\t\t<li><a href=\"https://admin.must.edu.tw/index.aspx?UnitID=100\" title=\"保管組\">保管組</a></li>\n",
            "\t\t\t\t\t\t\t<li><a href=\"https://admin.must.edu.tw/index.aspx?UnitID=101\" title=\"環境安全衛生中心\">環境安全衛生中心</a></li>\n",
            "                        </ul>\n",
            "                    </li>\n",
            "                    \n",
            "\t\t\t\t\t<li class=\"inner\">\n",
            "                        <div class=\"link\">終身教育處</div>\n",
            "                        <ul class=\"submenu\">\n",
            "\t\t\t\t\t\t\t<li><a href=\"https://admin.must.edu.tw/index.aspx?UnitID=106\" title=\"終身教育處\">終身教育處</a></li>\n",
            "\t\t\t\t\t\t\t<!--<li><a href=\"http://webc2.must.edu.tw/jtmust039\" title=\"進修推廣處課務註冊組\">進修推廣處課務註冊組</a></li>\n",
            "\t\t\t\t\t\t\t<li><a href=\"http://webc2.must.edu.tw/jtmust036\" title=\"進修推廣處綜合事務組\">進修推廣處綜合事務組</a></li>-->\n",
            "\t\t\t\t\t\t\t<li><a href=\"http://eec.must.edu.tw/\" title=\"推廣教育中心\">推廣教育中心</a></li>\n",
            "\t\t\t\t\t\t\t<li><a href=\"https://admin.must.edu.tw/index.aspx?UnitID=1218\" title=\"國軍人才培育中心\">國軍人才培育中心</a></li>\n",
            "                        </ul>\n",
            "                    </li>\n",
            "\t\t\t\t\t\n",
            "\t\t\t\t\t<li class=\"inner\">\n",
            "                        <div class=\"link\">圖書資訊處</div>\n",
            "                        <ul class=\"submenu\">\n",
            "\t\t\t\t\t\t\n",
            "\t\t\t\t\t\t<li><a href=\"https://admin.must.edu.tw/index.aspx?UnitID=74\" target=\"_blank\" title='系統維運組-將另開新視窗(另開視窗)'>系統維運組</a> </li>\n",
            "\t\t\t\t\t\t<li><a href=\"https://admin.must.edu.tw/index.aspx?UnitID=74\" title=\"技術服務組(另開視窗)\">技術服務組</a></li>\n",
            "\t\t\t\t\t\t<li><a href=\"https://admin.must.edu.tw/index.aspx?UnitID=74\" title=\"圖書資源服務組(另開視窗)\">圖書資源服務組</a></li>\n",
            "\t\t\t\t\t\t<li><a href=\"http://webc2.must.edu.tw/jtmust008\" title=\"藝文中心(另開視窗)\">藝文中心</a></li>\n",
            "                 \t\t\n",
            "                        </ul>\n",
            "                    </li>\n",
            "\t\t\t\t\t\n",
            "\t\t\t\t\t\n",
            "\t\t\t\t\t<li class=\"inner\">\n",
            "                        <div class=\"link\">研究發展處</div>\n",
            "                        <ul class=\"submenu\">\n",
            "\t\t\t\t\t\t\t<li><a href=\"https://admin.must.edu.tw/index.aspx?UnitID=116\" title=\"校務研究中心\">校務研究中心</a></li>\n",
            "\t\t\t\t\t\t\t<li><a href=\"https://admin.must.edu.tw/index.aspx?UnitID=117\" title=\"校務企劃中心\">校務企劃中心</a></li>\n",
            "\t\t\t\t\t\t\t<li><a href=\"https://admin.must.edu.tw/index.aspx?UnitID=117\" title=\"校務企劃中心\">校務企劃中心</a></li>\n",
            "\t\t\t\t\t\t\t<li><a href=\"https://admin.must.edu.tw/index.aspx?UnitID=118\" title=\"研究與技術中心\">研究技術中心</a></li>\n",
            "\t\t\t\t\t\t\t\n",
            "                        </ul>\n",
            "                    </li>\n",
            "\t\t\t\t\t\n",
            "\t\t\t\t\t<li class=\"inner\">\n",
            "                        <div class=\"link\">產學營運處</div>\n",
            "                        <ul class=\"submenu\">\n",
            "                            <li><a href=\"https://admin.must.edu.tw/index.aspx?UnitID=119\" target=\"_blank\" title='產學營運處-將另開新視窗'>產學營運處</a> </li>\n",
            "\t\t\t\t\t\t\t<li><a href=\"https://admin.must.edu.tw/index.aspx?UnitID=121\" target=\"_blank\" title='防災中心-將另開新視窗'>防災技術研究中心</a> </li>\n",
            "\t\t\t\t\t\t\t<li><a href=\"https://admin.must.edu.tw/index.aspx?UnitID=122\" title=\"產學及技術移轉中心\">產學及技術移轉中心</a></li>\n",
            "\t\t\t\t\t\t\t<li><a href=\"http://webc1.must.edu.tw/jtmust047\" title=\"創新育成中心\">創新育成中心</a></li>\n",
            "\t\t\t\t\t\t\t<li><a href=\"https://admin.must.edu.tw/index.aspx?UnitID=124\" title=\"校友服務中心(另開視窗)\">校友服務中心</a></li>\n",
            "                        </ul>\n",
            "                    </li>\n",
            "                    \n",
            "\t\t\t\t\t<li class=\"inner\">\n",
            "                        <div class=\"link\">國際暨兩岸事務處</div>\n",
            "                        <ul class=\"submenu\">\n",
            "                            <li><a href=\"https://admin.must.edu.tw/index.aspx?UnitID=110\" title=\"國際暨兩岸事務處\">國際暨兩岸事務處</a></li>\n",
            "\t\t\t\t\t\t\t<li><a href=\"https://admin.must.edu.tw/index.aspx?UnitID=111\" title=\"國際暨兩岸教育中心\">國際暨兩岸教育中心</a></li>\n",
            "\t\t\t\t\t\t\t<li><a href=\"https://admin.must.edu.tw/index.aspx?UnitID=114\" title=\"新住民教育發展中心\">新住民教育發展中心</a></li>\n",
            "\t\t\t\t\t\t\t<li><a href=\"#\" title=\"入學服務中心\">入學服務中心</a></li>\n",
            "\t\t\t\t\t\t </ul>\n",
            "                    </li>\t\n",
            "\t\t\t\t\t\n",
            "\t\t\t\t\t<li class=\"inner\">\n",
            "                        <div class=\"link\">國際專修部</div>\n",
            "                        <ul class=\"submenu\">\t\t\t\t\t\n",
            "\t\t\t\t\t\t\t<li><a href=\"#\" title=\"國際專修部\">國際專修部</a></li>\n",
            "                            <li><a href=\"https://admin.must.edu.tw/index.aspx?UnitID=112\" title=\"境外生輔導與服務中心\">境外生輔導與服務中心</a></li>\n",
            "\t\t\t\t\t\t\t<li><a href=\"https://admin.must.edu.tw/index.aspx?UnitID=113\" title=\"華語文教學中心\">華語文教學中心</a></li>\n",
            "\t\t\t\t\t\t\t\n",
            "                        </ul>\n",
            "                    </li>\n",
            "\t\t\t\t\t\n",
            "\t\t\t\t\t<li class=\"inner\">\n",
            "                        <div class=\"link\">入學服務處</div>\n",
            "                        <ul class=\"submenu\">\n",
            "                            <li><a href=\"http://admission.must.edu.tw/\" target=\"_blank\" title='入學服務處-將另開新視窗'>入學服務處</a> </li>\n",
            "\t\t\t\t\t\t\t<li><a href=\"https://admission.must.edu.tw/view/list.aspx?id=9\" title=\"選才辦公室\">選才辦公室</a></li>\n",
            "\t\t\t\t\t\t\t<li><a href=\"https://admission.must.edu.tw/view/list.aspx?id=9\" title=\"教育行銷組\">教育行銷組</a></li>\n",
            "\t\t\t\t\t\t\t<li><a href=\"https://admission.must.edu.tw/view/list.aspx?id=9\" title=\"行政事務組\">行政事務組</a></li>\n",
            "                   \n",
            "                        </ul>\n",
            "                    </li>\n",
            "\t\t\t\t\t\n",
            "\t\t\t\t\t<li class=\"inner\">\n",
            "                        <div class=\"link\">原住民族教育發展處</div>\n",
            "                        <ul class=\"submenu\">\n",
            "                            <li><a href=\"#\" target=\"_blank\" title='原住民族教育發展處-將另開新視窗'>原住民族教育發展處</a> </li>\n",
            "\t\t\t\t\t\t\t<li><a href=\"https://admin.must.edu.tw/index.aspx?UnitID=78\" title=\"原住民族學生資源中心\">- 原住民族學生資源中心</a></li>\n",
            "                   \n",
            "                        </ul>\n",
            "                    </li>\n",
            "\t\t\t\t\t\n",
            "                </ul>\n",
            "            </li>\n",
            "            \n",
            "            \n",
            "\t\t\t<!--<li>\n",
            "                <div class=\"link\">線上服務</div>\n",
            "                <ul class=\"submenu\">\n",
            "                    <li><a href=\"https://www.must.edu.tw/faq.php\" title=\"常見問答\">常見問答</a></li>\n",
            "                    <li><a href=\"https://sss.must.edu.tw/std_service.html\" title=\"學生專區\">學生專區</a></li>\n",
            "                    <li><a href=\"https://sss.must.edu.tw/teach_service.html\" title=\"教職員專區\">教職員專區</a></li>\n",
            "                    <li><a href=\"https://www.must.edu.tw/download.php\" title=\"檔案下載\">檔案下載</a></li>\n",
            "                    <li><a href=\"https://www.must.edu.tw/qa.php\" title=\"網站問題反映\">網站問題反映</a></li>\n",
            "                    <li><a href=\"mailto://president@must.edu.tw;secretariat.must@must.edu.tw;chen083487@must.edu.tw\"\n",
            "                            title=\"校長信箱\">校長信箱</a></li>\n",
            "                    <li><a href=\"https://www.must.edu.tw/calendar.php\" title=\"校園行事曆\">校園行事曆</a></li>\n",
            "                </ul>\n",
            "            </li>-->\n",
            "            \n",
            "\t\t\t<li><a href=\"http://webs.must.edu.tw/jtmust060\" title=\"\">弱勢助學勸募</a></li>\n",
            "        </ul>\n",
            "        <div class=\"search\">\n",
            "            <form id=\"search\" method=\"get\" action=\"https://www.google.com/custom\" target=\"_blank\"\n",
            "                style=\"border: 0 !important;\">\n",
            "                <input type=\"hidden\" name=\"client\" value=\"pub-&amp;amp\">\n",
            "                <input type=\"hidden\" name=\"ie\" id=\"ie\" value=\"utf-8\">\n",
            "                <input type=\"hidden\" name=\"oe\" id=\"oe\" value=\"utf-8\">\n",
            "                <input type=\"hidden\" name=\"domains\" value=\"www.must.edu.tw\">\n",
            "                <input type=\"hidden\" name=\"sitesearch\" value=\"www.must.edu.tw\">\n",
            "                <label style=\"display:none;\" for=\"q\">Google Search</label>\n",
            "                <label style=\"display:none;\" for=\"q\">請輸入關鍵字</label><input type=\"text\" placeholder=\"請輸入關鍵字\" name=\"q\"\n",
            "                    id=\"q\"><button>搜尋</button>\n",
            "            </form>\n",
            "        </div>\n",
            "        <div class=\"topnav\">\n",
            "            <ul class=\"nav\">\n",
            "                <li><a href=\"https://www.must.edu.tw/index.php\" title=\"首頁\">首頁</a></li>\n",
            "\t\t\t\t<li><a href=\"https://admin.must.edu.tw/news/list.aspx?UnitID=88&id=1246\" title=\"線上畢業典禮專區 \">夢翔~2022年線上畢業典禮專區</a></li>\n",
            "\t\t\t\t<li><a href=\"http://webc1.must.edu.tw/jtmust062/index.php/news/mustepaper\" title=\"電子報\">電子報</a></li>\n",
            "                <!--<li><a href=\"https://sites.google.com/site/mustfreshman\" title=\"新生專區\">新生專區</a></li>\n",
            "                <li><a href=\"https://sss.must.edu.tw/pars_new/pars_index.asp\" title=\"學生家長\">學生家長</a></li>-->\n",
            "                <li><a href=\"https://www.must.edu.tw/contact.php\" title=\"聯絡我們\">聯絡我們</a></li>\n",
            "                \n",
            "\t\t\t\t<li><a href=\"https://www.must.edu.tw//calendar.php\" title=\"校園行事曆\">校園行事曆</a></li>\n",
            "\t\t\t\t<!--<li><a href=\"http://www.lib.must.edu.tw/\" title=\"圖書館\">圖書館</a></li>\n",
            "\t\t\t\t<li><a href=\"http://webs.must.edu.tw/must055/\" title=\"明新55校慶\" target=\"_blank\">明新55校慶</a></li>-->\n",
            "\t\t\t\t<li><a href=\"https://www.must.edu.tw/servies.php\" title=\"線上服務\">線上服務</a></li>\n",
            "                <li><a href=\"https://www.must.edu.tw/sitemap.php\" title=\"網站導覽\">網站導覽</a></li>\n",
            "\t\t\t\t<li><a href=\"http://fg.must.edu.tw/\" title=\"English\">English</a></li>\n",
            "\t\t\t\t\n",
            "            </ul>\n",
            "        </div>\n",
            "    </div>\n",
            "</nav>\n",
            "\n",
            "<script type=\"text/javascript\">\n",
            "    window.onload = function () {\n",
            "        width = window.innerWidth;\n",
            "        $('.menu-btn').click(function () {\n",
            "            $('.mobilenav').toggleClass('open');\n",
            "            $(this).toggleClass('close-btn line');\n",
            "        });\n",
            "\n",
            "        var Accordion = function (el, multiple) {\n",
            "            this.el = el || {};\n",
            "            this.multiple = multiple || false;\n",
            "\n",
            "            // Variables privadas\n",
            "            var links = this.el.find('.link');\n",
            "            // Evento\n",
            "            links.on('click', {\n",
            "                el: this.el,\n",
            "                multiple: this.multiple\n",
            "            }, this.dropdown)\n",
            "        }\n",
            "\n",
            "        Accordion.prototype.dropdown = function (e) {\n",
            "            var $el = e.data.el;\n",
            "            $this = $(this),\n",
            "                $next = $this.next();\n",
            "\n",
            "            $next.slideToggle();\n",
            "            $this.parent().toggleClass('open');\n",
            "\n",
            "            if (!$this.parent().hasClass('inner')) {\n",
            "                $.each($el.find('.open > .submenu > .inner > .link'), function (i, val) {\n",
            "                    val.className = \"link\";\n",
            "                    if (!val.classList.contains('sub-open')) {\n",
            "                        val.classList.remove('sub-close');\n",
            "                        val.classList.add('sub-open');\n",
            "                    } else {\n",
            "                        val.classList.remove('sub-open');\n",
            "                        val.classList.add('sub-close');\n",
            "                    }\n",
            "                });\n",
            "            } else {\n",
            "                if ($this.hasClass(\"sub-open\")) {\n",
            "                    $this.removeClass('sub-open');\n",
            "                    $this.addClass('sub-close');\n",
            "                } else {\n",
            "                    $this.removeClass('sub-close');\n",
            "                    $this.addClass('sub-open');\n",
            "                }\n",
            "            }\n",
            "\n",
            "            if (!e.data.multiple && !$this.parent().hasClass(\"inner\")) {\n",
            "                $el.find('.submenu').not($next).slideUp().parent().removeClass('open');\n",
            "            };\n",
            "        }\n",
            "        var accordion = new Accordion($('#accordion'), false);\n",
            "    };\n",
            "\n",
            "    window.onresize = function () {\n",
            "        $('.mobilenav').removeClass('open');\n",
            "        $('.menu-btn').removeClass('close-btn line');\n",
            "    };\n",
            "</script><header>\n",
            "  <div class=\"header_index container d-none d-xl-block\">\n",
            "    <div class=\"for_accessibility\">\n",
            "      <a href=\"#content\" class=\"sr-only sr-only-focusable\" title=\"跳到主要內容區塊\">\n",
            "        跳到主要內容區塊</a>\n",
            "    </div>\n",
            "    <div class=\"logo_index\"><a href=\"https://www.must.edu.tw/\"><img src=\"https://www.must.edu.tw/images/ui/400C.png\" alt=\"左上角-明新科大logo\"></a>\n",
            "    </div>\n",
            "    <div class=\"topnav_index\">\n",
            "      <ul class=\"nav\">\n",
            "        <li><a accesskey=\"U\" href=\"#accesskeyU\" title=\"上方導覽區\" name=\"accesskeyU\">:::</a></li>\n",
            "        <li><a href=\"https://www.must.edu.tw/index.php\" title=\"首頁\">首頁</a></li>\n",
            "\t\t<li><a href=\"https://admin.must.edu.tw/news/list.aspx?UnitID=88&id=1246\" title=\"線上畢業典禮專區 \">夢翔~2022年線上<br>畢業典禮專區</a></li>\n",
            "\t\t<li><a href=\"https://www.must.edu.tw/calendar.php\" title=\"校園行事曆\">校園行事曆</a></li>\n",
            "\t\t<li><a href=\"http://webs.must.edu.tw/jtmust060\" title=\"弱勢助學勸募  \">弱勢助學勸募</a></li>\n",
            "        <li><a href=\"https://www.must.edu.tw/sitemap.php\" title=\"網站導覽\">網站導覽</a></li>\n",
            "\t\t<li><a href=\"https://www.must.edu.tw/contact.php\" title=\"聯絡我們\">聯絡我們</a></li>\n",
            "\t\t<li><a href=\"http://fg.must.edu.tw/\" title=\"English(open new window)\">English</a></li>\n",
            "    <li><a class=\"search-btn\" href=\"javascript:void(0)\" title=\" 搜尋按鈕\"><img src=\"https://www.must.edu.tw/images/ui/search-btn.svg\" alt=\"\"></a></li>\n",
            "\t\t\n",
            "\t\t\n",
            "      </ul>\n",
            "    </div>\n",
            "    <div class=\"search_index\" style=\"display:none;\">\n",
            "      <form id=\"search\" method=\"get\" action=\"https://www.google.com/custom\" target=\"_blank\"\n",
            "        style=\"border: 0 !important;\">\n",
            "        <input type=\"hidden\" name=\"client\" value=\"pub-&amp;amp\">\n",
            "        <input type=\"hidden\" name=\"ie\" id=\"ie\" value=\"utf-8\">\n",
            "        <input type=\"hidden\" name=\"oe\" id=\"oe\" value=\"utf-8\">\n",
            "        <input type=\"hidden\" name=\"domains\" value=\"must.edu.tw\">\n",
            "        <input type=\"hidden\" name=\"sitesearch\" value=\"must.edu.tw\">\n",
            "        <label style=\"display:none;\" for=\"q\">Google Search</label>\n",
            "        <label style=\"display:none;\" for=\"q\">請輸入關鍵字</label><input type=\"text\"  accesskey=\"S\" placeholder=\"請輸入關鍵字\" name=\"q\"\n",
            "          id=\"q\"><button>搜尋</button>\n",
            "      </form>\n",
            "    </div>\n",
            "  </div>\n",
            "  <div class=\"mainmenu_index d-none d-xl-block\">\n",
            "    <div class=\"container\">\n",
            "      <div class=\"wrap\">\n",
            "    <div class=\"logo_white\"><a href=\"https://www.must.edu.tw/\"><img src=\"https://www.must.edu.tw/images/ui/logo_white.svg\" alt=\"左上角-明新科大logo\"></a></div>\n",
            "      <ul class=\"nav\">\n",
            "        <li><a href=\"https://www.must.edu.tw/about/aboutmust.php\" title=\"\">關於明新</a>\n",
            "          <ul>\n",
            "            <li><a href=\"https://www.must.edu.tw/about/about-4.php\" title=\"校史\">校史</a></li>\n",
            "            <li><a href=\"https://www.must.edu.tw/about/about-2.php\" title=\"校訓\">校訓</a></li>\n",
            "            <li><a href=\"https://www.must.edu.tw/about/about-3.php\" title=\"校歌\">校歌</a></li>\n",
            "            <li><a href=\"https://www.must.edu.tw/about/about-18.php\" title=\"教育目標\">教育目標</a></li>\n",
            "            <li><a href=\"https://www.must.edu.tw/about/about-16.php\" title=\"創校元老\">創校元老</a></li>\n",
            "            <li><a href=\"http://webc1.must.edu.tw/mustj001\" target=\"_blank\" title=\"董事會  \">董事會</a></li>\n",
            "            <li><a href=\"https://admin.must.edu.tw/index.aspx?UnitID=1184\" target=\"_blank\" title=\"校長室  \">校長室</a></li>\n",
            "            <li><a href=\"https://admin.must.edu.tw/index.aspx?UnitID=1185\" target=\"_blank\" title=\"副校長室  \">副校長室</a></li>\n",
            "            <li><a href=\"../ochart/chart.pdf\" target=\"_blank\" title=\"學校組織系統圖pdf  \">學校組織系統圖</a></li>\n",
            "            <li><a href=\"https://www.must.edu.tw/about/mustmap.php\" title=\"如何到明新\">如何到明新</a></li>\n",
            "            <li><a href=\"http://webc1.must.edu.tw/jtmust073/index.php/2017-01-20-03-50-06/2017-01-23-06-53-36\"\n",
            "                target=\"_blank\" title=\"校內平面圖  \">校內平面圖</a></li>\n",
            "\n",
            "            <!--\n",
            "            <li><a href=\"about.php\" title=\"關於明新\">關於明新</a></li>\n",
            "            <li><a href=\"faq.php\" title=\"常見問答\">常見問答</a></li>\n",
            "            <li><a href=\"download.php\" title=\"檔案下載\">檔案下載</a></li>\n",
            "            <li><a href=\"customer-overview.php\" title=\"訪客專區\">訪客專區</a></li>\n",
            "            <li><a href=\"learning-overview-a.php\" title=\"學術行政a\">學術行政a</a></li>\n",
            "            <li><a href=\"learning-overview-b.php\" title=\"學術行政b\">學術行政b</a></li>\n",
            "            <li><a href=\"contact.php\" title=\"聯絡表單\">聯絡表單</a></li>\n",
            "            <li><a href=\"sitemap.php\" title=\"網站導覽\">網站導覽</a></li>\n",
            "            -->\n",
            "          </ul>\n",
            "        </li>\n",
            "\t\t\n",
            "\t\t <!--<li><a href=\"https://www.must.edu.tw/admissions.php\" title=\"\">招生資訊</a></li>-->\n",
            "        <li class=\"big-menu\"><a href=\"https://www.must.edu.tw/admissions.php\" title=\"招生資訊  \">招生資訊</a>\n",
            "          <ul class=\"row\">\n",
            "\t\t\t\n",
            "\t\t\t<li class=\"col-2\">\n",
            "              <ul>\n",
            "                <li><a href=\"http://admission.must.edu.tw/\" title=\"入學服務處  \">入學服務處</a></li>\n",
            "\t\t\t\t<li><a href=\"https://admission.must.edu.tw/view/list.aspx?id=9\" title=\"選才辦公室\">-選才辦公室</a></li>\n",
            "                <li><a href=\"https://admission.must.edu.tw/view/list.aspx?id=9\" title=\"教育行銷組\">-教育行銷組</a></li>\n",
            "\t\t\t\t<li><a href=\"https://admission.must.edu.tw/view/list.aspx?id=9\" title=\"行政事務組\">-行政事務組</a></li>\n",
            "\t\t\t\t\n",
            "\t\t\t\t</li>\n",
            "                \n",
            "              </ul>\n",
            "            </li>\n",
            "            <div class=\"col-10\">\n",
            "              <div class=\"row\">\n",
            "\t\t\t\n",
            "\t\t\t\n",
            "\t\t\t\n",
            "\t\t\t\n",
            "\n",
            "            <li class=\"col-4\" style=\"padding-bottom: 150px;\">\n",
            "              <div class=\"title\"><a href=\"#\" title=\"研究所招生訊息  \">研究所招生訊息</a></div>\n",
            "              <ul>\n",
            "                <li><a href=\"https://admission.must.edu.tw/admission/index.aspx?id=8\" title=\"碩士班甄試入學  \">碩士班甄試入學</a></li>\n",
            "                <li><a href=\"https://admission.must.edu.tw/admission/index.aspx?id=9\" title=\"碩士班暨碩士在職專班招生  \">碩士班暨碩士在職專班招生</a></li>\n",
            "\t\t\t\t<li><a href=\"https://admission.must.edu.tw/admission/index.aspx?id=42\" title=\"原住民管理碩士在職專班  \">原住民管理碩士在職專班</a></li>\n",
            "\t\t\t\t<li><a href=\"https://admission.must.edu.tw/admission/index.aspx?id=40\" title=\"新住民單獨招生  \">新住民單獨招生</a></li>\n",
            "\t\t\t\t\n",
            "              </ul>\n",
            "            </li>\n",
            "            <li class=\"col-4\" style=\"padding-bottom: 350px;\">\n",
            "              <div class=\"title\"><a href=\"#\" title=\"日間部招生訊息  \">日間部招生訊息</a></div>\n",
            "              <ul>\n",
            "                <li><a href=\"https://admission.must.edu.tw/admission/index.aspx?id=12\" title=\"原住民專班單獨招生  \">原住民專班單獨招生</a></li>\n",
            "\t\t\t\t<li><a href=\"https://admission.must.edu.tw/admission/index.aspx?id=10\" title=\"高中生申請入學  \">高中生申請入學</a></li>\n",
            "                <li><a href=\"https://admission.must.edu.tw/admission/index.aspx?id=11\" title=\"運動績優單獨招生  \">運動績優單獨招生</a></li>\n",
            "                \n",
            "\t\t\t\t<li><a href=\"https://admission.must.edu.tw/admission/index.aspx?id=32\" title=\"四年制日間部單獨招生  \">四年制日間部單獨招生</a></li>\n",
            "                <li><a href=\"https://admission.must.edu.tw/admission/index.aspx?id=13\" title=\"科技校院繁星計畫招生  \">科技校院繁星計畫招生</a></li>\n",
            "                <li><a href=\"https://admission.must.edu.tw/admission/index.aspx?id=14\" title=\"特殊選才  \">特殊選才</a></li>\n",
            "                <li><a href=\"https://admission.must.edu.tw/admission/index.aspx?id=15\" title=\"技優甄審入學  \">技優甄審入學</a></li>\n",
            "                <li><a href=\"https://admission.must.edu.tw/admission/index.aspx?id=16\" title=\"甄選入學  \">甄選入學</a></li>\n",
            "                <li><a href=\"https://admission.must.edu.tw/admission/index.aspx?id=17\" title=\"聯合登記分發  \">聯合登記分發</a></li>\n",
            "                <li><a href=\"https://admission.must.edu.tw/admission/index.aspx?id=18\" title=\"身心障礙學生甄試入學  \">身心障礙學生甄試入學</a></li>\n",
            "                <!--<li><a href=\"https://admission.must.edu.tw/admission/index.aspx?id=19\" title=\"境外臺生因應疫情返台就學銜接專案計畫  \">境外臺生因應疫情返台就學銜接專案計畫</a></li>-->\n",
            "                <li><a href=\"https://admission.must.edu.tw/admission/index.aspx?id=20\" title=\"儲備軍官訓練團(ROTC)招生  \">儲備軍官訓練團(ROTC)招生</a></li>\n",
            "\t\t\t\t<li><a href=\"https://admission.must.edu.tw/admission/index.aspx?id=33\" title=\"新住民及其子女招生  \">新住民及其子女招生</a></li>\n",
            "\t\t\t\t<li><a href=\"https://admission.must.edu.tw/admission/index.aspx?id=40\" title=\"新住民單獨招生  \">新住民單獨招生</a></li>\n",
            "              </ul>\n",
            "            </li>\n",
            "\n",
            "            <li class=\"col-4\">\n",
            "              <div class=\"title\"><a href=\"#\" title=\"進修部招生訊息\">進修部招生訊息</a></div>\n",
            "              <ul>\n",
            "                <li><a href=\"https://admission.must.edu.tw/admission/index.aspx?id=21\"  title=\"二技招生(含四班二輪招生)  \">二技招生(含四班二輪招生)</a></li>\n",
            "                <li><a href=\"https://admission.must.edu.tw/admission/index.aspx?id=22\"   title=\"四技二專招生(含四班二輪招生)  \">四技二專招生(含四班二輪招生)</a></li>\n",
            "                <li><a href=\"https://admission.must.edu.tw/admission/index.aspx?id=23\" title=\"學士後學士班  \">學士後學士班</a> </li>\n",
            "                <li><a href=\"https://admission.must.edu.tw/admission/index.aspx?id=24\" title=\"應屆高中生  \">應屆高中生</a> </li>\n",
            "                <li><a href=\"https://admission.must.edu.tw/admission/index.aspx?id=25\" title=\"儲備軍官訓練團(ROTC)招生  \">儲備軍官訓練團(ROTC)招生</a></li>\n",
            "\t\t\t\t<li><a href=\"https://admission.must.edu.tw/admission/index.aspx?id=33\" title=\"新住民及其子女招生  \">新住民及其子女招生</a></li>\n",
            "\t\t\t\t<li><a href=\"https://admission.must.edu.tw/admission/index.aspx?id=40\" title=\"新住民單獨招生  \">新住民單獨招生</a></li>\n",
            "              </ul>\n",
            "            </li>\n",
            "\n",
            "            <li class=\"col-4\" style=\"padding-bottom: 130px;\">\n",
            "              <div class=\"title\"><a href=\"#\" title=\"產學訓及產學攜手計畫招生訊息  \">產學訓及產學攜手計畫招生訊息</a></div>\n",
            "              <ul>\n",
            "                <!--<li><a href=\"https://admission.must.edu.tw/admission/index.aspx?id=26\" title=\"雙軌旗艦計畫專班  \">雙軌旗艦計畫專班</a></li>-->\n",
            "                <li><a href=\"https://admission.must.edu.tw/admission/index.aspx?id=27\" title=\"產學訓專班  \">產學訓專班</a></li>\n",
            "                <li><a href=\"https://admission.must.edu.tw/admission/index.aspx?id=28\" title=\"產學攜手產業專班  \">產學攜手產業專班</a></li>\n",
            "                <li><a href=\"https://admission.must.edu.tw/admission/index.aspx?id=29\" title=\"2+2N封裝測試產業專班  \">2+2N封裝測試產業專班</a></li>\n",
            "\t\t\t\t<li><a href=\"https://admission.must.edu.tw/admission/index.aspx?id=43\" title=\"2+2N封裝測試產業專班 \">2+2N半導體封裝設備產業專班</a></li>\n",
            "\t\t\t\t\n",
            "              </ul>\n",
            "            </li>\n",
            "\n",
            "            <li class=\"col-4\" style=\"padding-bottom: 130px;\">\n",
            "              <div class=\"title\"><a href=\"#\" title=\"外國學生招生訊息  \">外國學生招生訊息International Student Zone</a></div>\n",
            "              <ul>\n",
            "                <li><a href=\"http://fg.must.edu.tw/english/01_about/01_about.aspx?fid=7\"\n",
            "                    title=\"入學資訊Admission  \">入學資訊Admission</a></li>\n",
            "               \n",
            "              </ul>\n",
            "            </li>\n",
            "\n",
            "            <li class=\"col-4\" style=\"padding-bottom: 130px;\">\n",
            "              <div class=\"title\"><a href=\"#\" title=\"轉學招生資訊  \">轉學招生資訊</a></div>\n",
            "              <ul>\n",
            "                <li><a href=\"https://admission.must.edu.tw/admission/index.aspx?id=31\" title=\"轉學招生資訊  \">轉學招生資訊</a></li>\n",
            "              </ul>\n",
            "            </li>\n",
            "\n",
            "            <!--<li class=\"col-2\">\n",
            "\t\t\t<ul>\n",
            "                <li><a href=\"http://webs.must.edu.tw/ocmust104/\" title=\"轉學招生資訊\">轉學招生資訊</a></li>\n",
            "\t\t\t</ul>-->\n",
            "\t\t\t\n",
            "\t\t\t\n",
            "\t\t\t</div>\n",
            "            </div>\t\n",
            "          </ul>\n",
            "        </li>\n",
            "\t\t\n",
            "\t\t\n",
            "\t\t\n",
            "        <li class=\"big-menu\"><a href=\"https://www.must.edu.tw/acade.php\" title=\"\">學術單位</a>\n",
            "          <ul class=\"row\">\n",
            "\t\t  \n",
            "\t\t   <li class=\"col-4\" style=\"padding-bottom:170px;\">\n",
            "              <div class=\"title\"><a href=\"http://webc1.must.edu.tw/jtmust090\" title=\"半導體學院  \">半導體學院</a></div>\n",
            "              <ul>\n",
            "                <li><a href=\"http://webc2.must.edu.tw/jtmust005\" title=\"電機工程系(學士班、碩士班)  \">電機工程系(學士班、碩士班)</a></li>\n",
            "\t\t\t\t<li><a href=\"http://eed.must.edu.tw/\" title=\"電子工程系(學士班、碩士班)  \">電子工程系(學士班、碩士班)</a></li>\n",
            "\t\t\t\t<li><a href=\"http://webc2.must.edu.tw/jtmust020/\" title=\"應用材料科技系(原化學工程與材料科技系)(學士班、碩士班)  \">應用材料科技系(原化學工程與材料科技系)(學士班、碩士班)</a></li>\n",
            "\t\t\t\t<li><a href=\"http://webc2.must.edu.tw/jtmust012\" title=\"半導體與光電科技系(學士班、碩士班)  \">半導體與光電科技系(原光電工程系)(學士班、碩士班)</a></li>\n",
            "\t\t\t\t<!--<li><a href=\"https://imaster.moe.gov.tw/home\" title=\"產業碩士專班\">產業碩士專班</a></li>-->\t\t\t\t\n",
            "\t\t\t\t</ul>\n",
            "            </li>\n",
            "\t\t  \n",
            "            <li class=\"col-4\" style=\"padding-bottom:170px;\">\n",
            "              <div class=\"title\"><a href=\"http://smart.must.edu.tw\" title=\"工程學院  \">工程學院</a></div>\n",
            "              <ul>\n",
            "                <li><a href=\"http://meu.must.edu.tw/\" title=\"機械工程系(學士班、精密機電工程碩士班)  \">機械工程系(學士班、精密機電工程碩士班)</a></li>\n",
            "                <li><a href=\"http://civil.must.edu.tw\" title=\"土木工程與環境資源管理系(學士班、碩士班)  \">土木工程與環境資源管理系(學士班、碩士班)</a></li>\n",
            "                <li><a href=\"http://csie.must.edu.tw\" title=\"資訊工程系(學士班)  \">資訊工程系(學士班)</a></li>               \n",
            "              </ul>\n",
            "            </li>\n",
            "            <li class=\"col-4\" style=\"padding-bottom:170px;\">\n",
            "               <div class=\"title\"><a href=\"https://acade.must.edu.tw/index.aspx?UnitID=45\" title=\"管理學院  \">管理學院</a></div>\n",
            "              <ul>\n",
            "                <li><a href=\"http://webc2.must.edu.tw/jtmust028\" title=\"工業工程與管理系(學士班、碩士班)  \">工業工程與管理系(學士班、碩士班)</a></li>\n",
            "                <li><a href=\"https://acade.must.edu.tw/index.aspx?UnitID=47\" title=\"資訊管理系(學士班、碩士班) \">資訊管理系(學士班、碩士班)</a></li>\n",
            "                <li><a href=\"https://acade.must.edu.tw/index.aspx?UnitID=48\" title=\"行銷與流通管理系(學士班)  \">行銷與流通管理系(學士班)</a></li>\n",
            "                <li><a href=\"https://acade.must.edu.tw/index.aspx?UnitID=49\" title=\"企業管理系(學士班  )\">企業管理系(學士班)</a></li>\n",
            "                <li><a href=\"http://webc2.must.edu.tw/jtmust021\" title=\"財務金融系(學士班)  \">財務金融系(學士班)</a></li>\n",
            "                <li><a href=\"https://acade.must.edu.tw/index.aspx?UnitID=51\" title=\"管理研究所(碩士班)  \">管理研究所(碩士班)</a></li>\n",
            "                <!--<li><a href=\"http://webc2.must.edu.tw/jtmust013/\" title=\"全球運籌管理中心\">全球運籌管理中心</a></li>-->\n",
            "              </ul>\n",
            "            </li>\n",
            "            <li class=\"col-4\" style=\"padding-bottom:180px;\">\n",
            "              <div class=\"title\"><a href=\"https://acade.must.edu.tw/index.aspx?UnitID=52\" title=\"服務產業學院  \">服務產業學院</a></div>\n",
            "              <ul>\n",
            "                <li><a href=\"http://webc1.must.edu.tw/jtmust044\" title=\"服務產業暨管理研究所(碩士班)  \">服務產業暨管理研究所(碩士班)</a></li>\n",
            "                <li><a href=\"http://webc2.must.edu.tw/jtmust019\" title=\"旅館管理與廚藝創意系(學士班)  \">旅館管理與廚藝創意系(學士班)</a></li>\n",
            "                <li><a href=\"http://child.must.edu.tw/\" title=\"幼兒保育系(學士班、碩士班)  \">幼兒保育系(學士班、碩士班)</a></li>\n",
            "                <li><a href=\"http://webc2.must.edu.tw/jtmust101\" title=\"休閒事業管理系(學士班)  \">休閒事業管理系(學士班)</a></li>\n",
            "                <li><a href=\"http://webc2.must.edu.tw/jtmust010/\" title=\"樂齡服務產業管理系(學士班)  \">樂齡服務產業管理系(學士班)</a></li>\n",
            "                <li><a href=\"https://acade.must.edu.tw/index.aspx?UnitID=58\" title=\"師資培育中心  \">師資培育中心</a></li>\n",
            "              </ul>\n",
            "            </li>\n",
            "            <li class=\"col-4\" style=\"padding-bottom:180px;\">\n",
            "              <div class=\"title\"><a href=\"https://acade.must.edu.tw/index.aspx?UnitID=59\" title=\"人文與設計學院  \">人文與設計學院</a></div>\n",
            "              <ul>\n",
            "                <li><a href=\"https://acade.must.edu.tw/index.aspx?UnitID=61\" title=\"應用外語系(學士班) \">應用外語系(學士班)</a></li>\n",
            "                <li><a href=\"http://webc1.must.edu.tw/mustj004\" title=\"運動事業管理系(學士班)  \">運動事業管理系(學士班)</a></li>\n",
            "                <li><a href=\"http://webc2.must.edu.tw/jtmust102/\" title=\"多媒體與遊戲發展系(學士班)  \">多媒體與遊戲發展系(學士班)</a></li>\n",
            "                <li><a href=\"http://webc1.must.edu.tw/jtmust080\" title=\"時尚造型與設計系(學士班)  \">時尚造型與設計系(學士班)</a></li>\n",
            "                <li><a href=\"http://webc1.must.edu.tw/jtmust048/\" title=\"化妝品應用學士學位學程  \">化妝品應用學士學位學程</a></li>                \n",
            "\t\t\t\t<!--<li><a href=\"http://webc1.must.edu.tw/jtmust041\" title=\"華語文教學中心\">華語文教學中心</a></li>-->\n",
            "                \n",
            "              </ul>\n",
            "            </li>\n",
            "            <li class=\"col-4\" style=\"padding-bottom:180px;\">\n",
            "\t\t\t  <div class=\"title\"><a href=\"http://webc1.must.edu.tw/mustj010\" title=\"共同教育學院  \">共同教育學院</a></div>\n",
            "              <!--<div class=\"title\"><a href=\"http://webc2.must.edu.tw/jtmust014\" title=\"通識教育中心\">通識教育中心</a></div>-->\n",
            "              <ul>\n",
            "                <li><a href=\"http://webc2.must.edu.tw/jtmust014\" title=\"通識教育中心  \">通識教育中心</a></li>\n",
            "\t\t\t\t<!--<li><a href=\"http://webc1.must.edu.tw/jtmust081\" title=\"人文藝術教學中心\">人文藝術教學中心</a></li>\n",
            "                <li><a href=\"http://webc1.must.edu.tw/jtmust082\" title=\"社會科學教學中心\">社會科學教學中心</a></li>\n",
            "                <li><a href=\"http://webc1.must.edu.tw/jtmust083\" title=\"自然科學教學中心\">自然科學教學中心</a></li>\n",
            "                <li><a href=\"http://webc1.must.edu.tw/jtmust084\" title=\"語言教學中心\">語言教學中心</a></li>-->\n",
            "              </ul>\n",
            "            </li>\n",
            "          </ul>\n",
            "        </li>\n",
            "        <li class=\"big-menu\"><a href=\"https://www.must.edu.tw/admin.php\" title=\"行政單位\">行政單位</a>\n",
            "          <ul class=\"row\">\n",
            "            <li class=\"col-2\">\n",
            "              <ul>\n",
            "                <li><a href=\"https://admin.must.edu.tw/index.aspx?UnitID=70\" title=\"稽核處  \">稽核處</a></li>\n",
            "                <li><a href=\"https://admin.must.edu.tw/index.aspx?UnitID=71\" title=\"秘書處  \">秘書處</a></li>\n",
            "\t\t\t\t<li><a href=\"https://admin.must.edu.tw/index.aspx?UnitID=80\" title=\"大學社會責任辦公室  \">- 大學社會責任辦公室</a></li>\n",
            "                <li><a href=\"https://admin.must.edu.tw/index.aspx?UnitID=72\" title=\"公共關係處  \">公共關係處</a></li>                \n",
            "                <li><a href=\"https://admin.must.edu.tw/index.aspx?UnitID=75\" title=\"財務處  \">財務處</a></li>\n",
            "                <li><a href=\"https://admin.must.edu.tw/index.aspx?UnitID=76\" title=\"人力資源處  \">人力資源處</a></li>\n",
            "                <li><a href=\"http://webc1.must.edu.tw/mustj005/\" title=\"法務處  \">法務處</a></li>\n",
            "\t\t\t\t<li><a href=\"#\" title=\"原住民族教育發展處\">原住民族教育發展處</a></li>\n",
            "\t\t\t\t<li><a href=\"https://admin.must.edu.tw/index.aspx?UnitID=78\" title=\"原住民族學生資源中心  \">- 原住民族學生資源中心</a></li>\n",
            "\t\t\t\t\n",
            "\t\t\t\t<li><a href=\"https://admin.must.edu.tw/index.aspx?UnitID=106\" title=\"終身教育處  \">終身教育處</a></li>\n",
            "                <li><a href=\"https://eec.must.edu.tw/\" title=\"推廣教育中心\"> - 推廣教育中心</a></li>\n",
            "\t\t\t\t<li><a href=\"https://admin.must.edu.tw/index.aspx?UnitID=1218\" title=\"國軍人才培育中心\"> - 國軍人才培育中心</a></li>\n",
            "\t\t\t\t\t\n",
            "                <li><a href=\"#\" title=\"國際專修部\">國際專修部</a></li>\n",
            "                <li><a href=\"https://admin.must.edu.tw/index.aspx?UnitID=112\" title=\"境外生輔導與服務中心\"> - 境外生輔導與服務中心</a></li>\n",
            "\t\t\t\t<li><a href=\"https://admin.must.edu.tw/index.aspx?UnitID=113\" title=\"華語文教學中心\"> - 華語文教學中心</a></li>\n",
            "                    \n",
            "                                \n",
            "              </ul>\n",
            "            </li>\n",
            "            <div class=\"col-10\">\n",
            "              <div class=\"row\">\n",
            "               \n",
            "                <li class=\"col-4\" style=\"padding-bottom: 160px;\">\n",
            "                  <div class=\"title\"><a href=\"https://admin.must.edu.tw/index.aspx?UnitID=81\" title=\"教務處  \">教務處</a></div>\n",
            "                  <ul>\n",
            "                    <!--<li><a href=\"http://webc1.must.edu.tw/jtmust057\" title=\"教務處\">綜合業務組</a></li>-->\n",
            "                    <li><a href=\"https://admin.must.edu.tw/index.aspx?UnitID=82\" title=\"課務組  \">課務組</a></li>\n",
            "                    <li><a href=\"https://admin.must.edu.tw/index.aspx?UnitID=83\" title=\"註冊組  \">註冊組</a></li>\n",
            "                    <li><a href=\"https://admin.must.edu.tw/index.aspx?UnitID=84\" title=\"教學發展中心  \">教學發展中心</a></li>\n",
            "\t\t\t\t\t<li><a href=\"https://admin.must.edu.tw/index.aspx?UnitID=85\" title=\"學生實習服務中心  \">學生實習服務中心</a></li>\n",
            "                    <!--<li><a href=\"http://webc2.must.edu.tw/jtmust103/\" title=\"招生中心\">招生中心</a></li>-->\n",
            "\t\t\t\t\t<li><a href=\"https://admin.must.edu.tw/index.aspx?UnitID=107\" title=\"進修教務組  \">進修教務組</a></li>\n",
            "\t\t\t\t\t<li><a href=\"https://admin.must.edu.tw/index.aspx?UnitID=1220\" title=\"ROTC專案辦公室  \">ROTC專案辦公室</a></li>\n",
            "                  </ul>\n",
            "                </li>\n",
            "               \n",
            "\t\t\t\t\n",
            "\t\t\t\t <li class=\"col-4\" style=\"padding-bottom: 200px;\">\n",
            "                  <div class=\"title\"><a href=\"https://admin.must.edu.tw/index.aspx?UnitID=86\" title=\"學生事務處  \">學生事務處</a></div>\n",
            "                  <ul>\n",
            "                    <li><a href=\"https://admin.must.edu.tw/index.aspx?UnitID=87\" title=\"生活輔導組\">生活輔導組</a></li>\n",
            "\t\t\t\t\t<li><a href=\"https://admin.must.edu.tw/index.aspx?UnitID=88\" title=\"課外活動指導組\">課外活動指導組</a></li>\n",
            "\t\t\t\t\t<li><a href=\"https://admin.must.edu.tw/index.aspx?UnitID=89\" title=\"衛生保健組\">衛生保健組</a></li>\n",
            "                    <li><a href=\"https://admin.must.edu.tw/index.aspx?UnitID=90\" title=\"體育室  \">體育室</a></li>\n",
            "                    <li><a href=\"https://admin.must.edu.tw/index.aspx?UnitID=91\" title=\"諮商輔導暨職涯發展中心  \">諮商輔導暨職涯發展中心</a></li>\n",
            "                    <li><a href=\"https://admin.must.edu.tw/index.aspx?UnitID=92\" title=\"諮商輔導暨職涯發展中心[資源教室]  \">諮商輔導暨職涯發展中心[資源教室]</a></li>\n",
            "\t\t\t\t\t<li><a href=\"https://admin.must.edu.tw/index.aspx?UnitID=93\" title=\"校安中心  \">校安中心</a>\n",
            "                    <!--<li><a href=\"http://webs.must.edu.tw/ocmust012\" title=\"原住民族學生資源中心\">原住民族學生資源中心</a></li>\n",
            "\t\t\t\t\t<li><a href=\"http://webc1.must.edu.tw/jtmust070\" title=\"住宿服務組\">住宿服務組</a></li>\n",
            "                    <li><a href=\"http://webc1.must.edu.tw/jtmust042\" title=\"服務學習中心\">服務學習中心</a></li>-->\n",
            "\t\t\t\t\t<li><a href=\"https://admin.must.edu.tw/index.aspx?UnitID=108\" title=\"進修學務組  \">進修學務組</a></li>\n",
            "                  </ul>\n",
            "                </li>\n",
            "\t\t\t\t\n",
            "\t\t\t\t\n",
            "                <li class=\"col-4\" style=\"padding-bottom: 200px;\">\n",
            "                  <div class=\"title\"><a href=\"https://admin.must.edu.tw/index.aspx?UnitID=94\" title=\"總務處  \">總務處</a></div>\n",
            "                  <ul>\n",
            "\t\t\t\t\t\t\t<li><a href=\"https://admin.must.edu.tw/index.aspx?UnitID=95\" title=\"文書組\">文書組</a></li>\n",
            "\t\t\t\t\t\t\t<li><a href=\"https://admin.must.edu.tw/index.aspx?UnitID=96\" title=\"事務組\">事務組</a></li>\n",
            "\t\t\t\t\t\t\t<li><a href=\"https://admin.must.edu.tw/index.aspx?UnitID=97\" title=\"出納組\">出納組</a></li>\n",
            "\t\t\t\t\t\t\t<li><a href=\"https://admin.must.edu.tw/index.aspx?UnitID=98\" title=\"營繕組\">營繕組</a></li>\n",
            "\t\t\t\t\t\t\t<li><a href=\"https://admin.must.edu.tw/index.aspx?UnitID=99\" title=\"採購組\">採購組</a></li>\n",
            "\t\t\t\t\t\t\t<li><a href=\"https://admin.must.edu.tw/index.aspx?UnitID=100\" title=\"保管組\">保管組</a></li>\n",
            "\t\t\t\t\t\t\t<li><a href=\"https://admin.must.edu.tw/index.aspx?UnitID=101\" title=\"環境安全衛生中心\">環境安全衛生中心</a></li>\n",
            "                   \t\t\t\n",
            "                  </ul>\n",
            "                </li>\n",
            "\t\t\t\t\n",
            "\t\t\t\t\t\t\t\t\t\t\n",
            "\t\t\t\t<li class=\"col-4\" style=\"padding-bottom: 160px;\">\n",
            "                  <div class=\"title\"><a href=\"http://admission.must.edu.tw/\" title=\"入學服務處  \">入學服務處</a></div>\n",
            "                  <ul>\n",
            "                    <li><a href=\"https://admission.must.edu.tw/view/list.aspx?id=9\" title=\"選才辦公室\">選才辦公室</a></li>\n",
            "                    <li><a href=\"https://admission.must.edu.tw/view/list.aspx?id=9\" title=\"教育行銷組\">教育行銷組</a></li>\n",
            "\t\t\t\t\t<li><a href=\"https://admission.must.edu.tw/view/list.aspx?id=9\" title=\"行政事務組\">行政事務組</a></li>\n",
            "                   \n",
            "                  </ul>\n",
            "                </li>\n",
            "\t\t\t\t\n",
            "\t\t\t\t\n",
            "\t\t\t\t<li class=\"col-4\" style=\"padding-bottom: 200px;\">\n",
            "                  <div class=\"title\"><a href=\"https://admin.must.edu.tw/index.aspx?UnitID=119\" title=\"產學營運處  \">產學營運處</a></div>\n",
            "                  <ul>\n",
            "                    <li><a href=\"https://admin.must.edu.tw/index.aspx?UnitID=121\" target=\"_blank\" title='防災中心-將另開新視窗  '>防災技術研究中心</a> </li>\n",
            "                    <li><a href=\"https://admin.must.edu.tw/index.aspx?UnitID=122\" title=\"產學及技術移轉中心  \">產學及技術移轉中心</a></li>\n",
            "                    <li><a href=\"http://webc1.must.edu.tw/jtmust047\" title=\"創新育成中心  \">創新育成中心</a></li>\n",
            "\t\t\t\t\t<li><a href=\"https://admin.must.edu.tw/index.aspx?UnitID=124\" title=\"校友服務中心  \">校友服務中心</a></li>\n",
            "                  </ul>\n",
            "                </li>\n",
            "               \n",
            "\t\t\t   <li class=\"col-4\" style=\"padding-bottom: 200px;\">\n",
            "                  <div class=\"title\"><a href=\"https://admin.must.edu.tw/index.aspx?UnitID=74\" title=\"圖資處  \">圖書資訊處</a></div>\n",
            "                  <ul>\n",
            "                    <li><a href=\"https://admin.must.edu.tw/index.aspx?UnitID=74\" target=\"_blank\" title='系統維運組-將另開新視窗  '>系統維運組</a> </li>\n",
            "                    <li><a href=\"https://admin.must.edu.tw/index.aspx?UnitID=74\" title=\"技術服務組  \">技術服務組</a></li>\n",
            "                    <li><a href=\"https://admin.must.edu.tw/index.aspx?UnitID=74\" title=\"圖書資源服務組  \">圖書資源服務組</a></li>\n",
            "\t\t\t\t\t<li><a href=\"http://webc2.must.edu.tw/jtmust008\" title=\"藝文中心  \">藝文中心</a></li>\n",
            "                  </ul>\n",
            "                </li>\n",
            "\t\t\t\t\n",
            "\t\t\t\t\n",
            "\t\t\t\t\n",
            "\t\t\t\t\t\t\t\t\n",
            "\t\t\t\t <li class=\"col-4\" style=\"padding-bottom: 200px;\">\n",
            "                 <div class=\"title\"><a href=\"https://admin.must.edu.tw/index.aspx?UnitID=115\" title=\"研究發展處  \">研究發展處</a></div>\n",
            "\t\t\t\t  <!--<li><a href=\"http://webc1.must.edu.tw/jtmust077\" title=\"校務研究辦公室\">校務研究辦公室</a></li>-->\n",
            "                  <ul>\n",
            "                    <li><a href=\"https://admin.must.edu.tw/index.aspx?UnitID=116\" title=\"校務研究中心\">校務研究中心</a></li>\n",
            "                    <li><a href=\"https://admin.must.edu.tw/index.aspx?UnitID=117\" title=\"校務企劃中心\">校務企劃中心</a></li>\n",
            "                    <li><a href=\"https://admin.must.edu.tw/index.aspx?UnitID=118\" title=\"研究與技術中心  \">研究技術中心</a></li>\n",
            "\t\t\t\t\t\n",
            "                    </li>\n",
            "                  </ul>\n",
            "                </li>\n",
            "\t\t\t\t\n",
            "\t\t\t\t\n",
            "\t\t\t\t\t\t\t\t\n",
            "\t\t\t\t  <li class=\"col-4\" style=\"padding-bottom: 200px;\">\n",
            "                  <div class=\"title\"><a href=\"https://admin.must.edu.tw/index.aspx?UnitID=110\" title=\"國際暨兩岸事務處  \">國際暨兩岸事務處</a></div>\n",
            "                  <ul>\n",
            "                    <li><a href=\"https://admin.must.edu.tw/index.aspx?UnitID=111\" title=\"國際暨兩岸教育中心  \">國際暨兩岸教育中心</a></li>\n",
            "\t\t\t\t\t<li><a href=\"https://admin.must.edu.tw/index.aspx?UnitID=114\" title=\"新住民教育發展中心  \">新住民教育發展中心</a></li>\n",
            "\t\t\t\t\t<li><a href=\"#\" title=\"入學服務中心  \">入學服務中心</a></li>\n",
            "\t\t\t\t\t</ul>\n",
            "                </li>\n",
            "                    <!--<li><a href=\"http://webc2.must.edu.tw/jtmust032\" title=\"兩岸教育與交流中心\">教育與交流中心</a></li>-->\n",
            "\t\t\t\t\t\n",
            "\t\t\t\t \n",
            "\t\t\t\t\t\t\t\n",
            "                \n",
            "\t\t\t   \n",
            "              </div>\n",
            "            </div>\n",
            "          </ul>\n",
            "        </li>\n",
            "\t\t\n",
            "        <li><a href=\"https://admin.must.edu.tw/news/list.aspx?UnitID=88&id=1246\" title=\"線上畢業典禮專區 \">夢翔~2022年線上<br>畢業典禮專區</a></li>\n",
            "\t\t<!--<li><a href=\"https://sites.google.com/site/mustfreshman\" title=\"新生專區  \">新生專區</a></li>-->\n",
            "\t\t<li><a href=\"https://www.must.edu.tw/hall-of-fame-img-list.php\" title=\"明新的驕傲\">明新的驕傲</a></li>\n",
            "\t\t\n",
            "\t\t\n",
            "\t   \n",
            "\t\t<li><a href=\"https://www.must.edu.tw/servies.php\" title=\"\">線上服務</a>\n",
            "        </li>\n",
            "\n",
            "\n",
            "\t\t<!--\n",
            "        <li><a href=\"https://www.must.edu.tw/servies.php\" title=\"\">線上服務</a>\n",
            "          <ul>\n",
            "            <li><a href=\"https://www.must.edu.tw/faq.php\" title=\"常見問答  \">常見問答</a></li>\n",
            "            <li><a href=\"https://sss.must.edu.tw/std_service.html\" title=\"學生專區  \">學生專區</a></li>\n",
            "            <li><a href=\"https://sss.must.edu.tw/teach_service.html\" title=\"教職員專區  \">教職員專區</a></li>\n",
            "            <li><a href=\"https://www.must.edu.tw/download.php\" title=\"檔案下載  \">檔案下載</a></li>\n",
            "            <li><a href=\"https://www.must.edu.tw/qa.php\" title=\"網站問題反映  \">網站問題反映</a></li>\n",
            "            <li><a href=\"mailto://president@must.edu.tw;secretariat.must@must.edu.tw;chen083487@must.edu.tw\"\n",
            "                title=\"校長信箱  \">校長信箱</a></li>\n",
            "            <li><a href=\"https://www.must.edu.tw/calendar.php\" title=\"校園行事曆\">校園行事曆</a></li>\n",
            "          </ul>\n",
            "        </li>-->\n",
            "\t\t\n",
            "        <!-- <li><a href=\"http://webs.must.edu.tw/jtmust060\" title=\"弱勢助學勸募  \">弱勢助學勸募</a></li>-->\n",
            "      </ul>\n",
            "      </div>\n",
            "    </div>\n",
            "  </div>\n",
            "</header>\n",
            "\n",
            "\n",
            "<script async src=\"https://static.addtoany.com/menu/page.js\"></script>\n",
            "<!-- AddToAny BEGIN -->\n",
            "<div class=\"a2a_kit a2a_kit_size_32 a2a_floating_style a2a_vertical_style\" style=\"right:0px; bottom:50px;z-index: 100;\">\n",
            "  <div style=\"font-size:0.8rem; text-align: center;\"></div>\n",
            "  <a class=\"a2a_button_facebook\" title=\"另開新視窗\">\n",
            "  <a class=\"a2a_button_twitter\"  title=\"另開新視窗\" ></a>\n",
            "  <a class=\"a2a_button_line\" title=\"另開新視窗\"></a>\n",
            "  \n",
            "</div>\n",
            "\n",
            "\n",
            "<NOSCRIPT>\n",
            "  <P>您的瀏覽器不支援JavaScript功能，若網頁功能無法正常使用時，請開啟瀏覽器JavaScript狀態</P>\n",
            "  </NOSCRIPT>\n",
            "<!-- AddToAny END -->  <main id=\"maincontent\">\n",
            "    <div class=\"block-top\">\n",
            "      <div class=\"slider d-none d-md-block\">\n",
            "        <!-- start htmlType6 -->\n",
            "\t              <div><a href=\"https://admin.must.edu.tw/news/list.aspx?UnitID=88&id=1246\" target=\"_blank\" title=\"Open new window\"><img src=\"https://mustwebsystem.must.edu.tw/ashx/chchou/showMustWwwImage.ashx?filegid=111067\" alt=\"畢業必Yes\"><div class=\"text2\"></div></a></div>\n",
            "    \t\t    \n",
            "\t              <div><a href=\"https://admin.must.edu.tw/news/page.aspx?UnitID=72&id=2528\" target=\"_blank\" title=\"Open new window\"><img src=\"https://mustwebsystem.must.edu.tw/ashx/chchou/showMustWwwImage.ashx?filegid=111111\" alt=\"20220513 形象圖_《遠見》2022企業最愛公私立技職科大調查\"><div class=\"text\">企業最愛 Top 2</div><div class=\"sub_text\">遠見雜誌調查：工程及資訊學群本校畢業生起薪 ＞＞＞私立科大最高</div></a></div>\n",
            "    \t\t    \n",
            "\t              <div><a href=\"https://admin.must.edu.tw/news/page.aspx?UnitID=72&id=2110\" target=\"_blank\" title=\"Open new window\"><img src=\"https://mustwebsystem.must.edu.tw/ashx/chchou/showMustWwwImage.ashx?filegid=111097\" alt=\"104人力銀行調查「半導體業」最愛邀約大學 第一名\"><div class=\"text\">金字招牌 企業最愛</div><div class=\"sub_text\">104人力銀行調查「半導體業」最愛邀約大學 第一名</div></a></div>\n",
            "    \t\t    <!-- end htmlType6 -->\n",
            "      </div>\n",
            "\n",
            "      <!-- slider-m -->\n",
            "      <div class=\"slider-m d-md-none\">\n",
            "        <!-- start htmlType7 -->\n",
            "\t              <div><a href=\"https://admin.must.edu.tw/news/list.aspx?UnitID=88&id=1246\" target=\"_blank\" title=\"Open new window\"><img src=\"https://mustwebsystem.must.edu.tw/ashx/chchou/showMustWwwImage.ashx?filegid=111068\" alt=\"畢業必Yes\"><div class=\"text2\"></div></a></div>\n",
            "    \t\t    \n",
            "\t              <div><a href=\"https://admin.must.edu.tw/news/page.aspx?UnitID=72&id=2528\" target=\"_blank\" title=\"Open new window\"><img src=\"https://mustwebsystem.must.edu.tw/ashx/chchou/showMustWwwImage.ashx?filegid=111112\" alt=\"20220513 形象圖_《遠見》2022企業最愛公私立技職科大調查\"><div class=\"text\">企業最愛Top 2 畢業起薪私立科大最高</div><div class=\"sub_text\">《遠見》「2022企業最愛公私立技職科大調查」</div></a></div>\n",
            "    \t\t    \n",
            "\t              <div><a href=\"https://admin.must.edu.tw/news/page.aspx?UnitID=72&id=2110\" target=\"_blank\" title=\"Open new window\"><img src=\"https://mustwebsystem.must.edu.tw/ashx/chchou/showMustWwwImage.ashx?filegid=111098\" alt=\"104人力銀行調查「半導體業」最愛邀約大學 第一名\"><div class=\"text\">金字招牌 企業最愛</div><div class=\"sub_text\">104人力銀行調查「半導體業」最愛邀約大學 第一名</div></a></div>\n",
            "    \t\t    <!-- end htmlType7 -->\n",
            "      </div>\n",
            "\n",
            "      <div class=\"container\">\n",
            "        <div id=\"content\">\n",
            "          <a style=\"margin-bottom:20px; display: inline-block;\" href=\"#accesskeyC\" title=\"中央內容區塊\" accesskey=\"C\" name=\"accesskeyC\" id=\"main-content\">:::</a>\n",
            "          <!--快速連結-->\n",
            "          <div class=\"quick-links\">\n",
            "            <div class=\"item col-4 col-xl-2\"><a href=\"admissions.php\" title=\"未來學生(另開視窗)\"><img src=\"images/quick-link01.svg\" alt=\"未來學生\"></a>\n",
            "            </div>\n",
            "            <div class=\"item col-4  col-xl-2\"><a href=\"https://sss.must.edu.tw/pars_new/pars_index.asp\" title=\"學生家長(另開視窗)\" target=\"_blank\"><img src=\"images/quick-link02.svg\" alt=\"學生家長\"></a>\n",
            "            </div>\n",
            "            <div class=\"item col-4  col-xl-2\"><a href=\"https://sss.must.edu.tw/std_service.html\" title=\"在校學生(另開視窗)\" target=\"_blank\"><img src=\"images/quick-link03.svg\" alt=\"在校學生\"></a>\n",
            "            </div>\n",
            "            <div class=\"item col-4  col-xl-2\"><a href=\"https://eec.must.edu.tw/\" title=\"進修人士長(另開視窗)\" target=\"_blank\"><img src=\"images/quick-link04.svg\" alt=\"進修人士\"></a>\n",
            "            </div>\n",
            "            <div class=\"item col-4  col-xl-2\"><a href=\"https://sss.must.edu.tw/teach_service.html\" title=\"教職員工(另開視窗)\" target=\"_blank\"><img src=\"images/quick-link05.svg\" alt=\"教職員工\"></a>\n",
            "            </div>\n",
            "            <div class=\"item col-4 col-xl-2\"><a href=\"https://admin.must.edu.tw/index.aspx?UnitID=124\" title=\"畢業校友(另開視窗)\" target=\"_blank\"><img src=\"images/quick-link06.svg\" alt=\"畢業校友\"></a>\n",
            "            </div>\n",
            "          </div>\n",
            "\t\t  <!--校長公告-->\n",
            "          <!--<div class=\"antiepidemic-zone\" style=\"padding-top:10px;padding-right:10px;\">\n",
            "            <a href=\"https://www.must.edu.tw/about/news.php\" target=\"_blank\" title=\"Open new window\"><img src=\"images/COVID-0510.jpg\" style=\"width:100%\" alt=\"明新科大公告區\"></a>\n",
            "          </div>-->\n",
            "\n",
            "          <!--防疫專區+小slider-->\n",
            "          <div class=\"row\">\n",
            "            <div class=\"antiepidemic-zone col-12 col-md-6\">\n",
            "              <!-- <a href=\"https://www.must.edu.tw/about/news.php\" title=\"\"><img src=\"images/COVID19-小0519.jpg\" alt=\"明新科大防疫專區\"> -->\n",
            "\t\t\t  \n",
            "\t\t\t  <a href=\"https://sites.google.com/site/mustfreshman\" title=\"\"><img src=\"images/newS01.jpg\" alt=\"明新科大新生專區\">\n",
            "                <div class=\"more\">More</div>\n",
            "              </a>\n",
            "\n",
            "            </div>\n",
            "            <div class=\"col-12 col-md-6\">\n",
            "              <div class=\"s-slider\">\n",
            "\t\t\t    <!-- start htmlType8 -->\n",
            "\t              <div><a href=\"https://admission.must.edu.tw/admission/content.aspx?id=15&tab=M\" target=\"_blank\" title=\"Open new window\"><img src=\"https://mustwebsystem.must.edu.tw/ashx/chchou/showMustWwwImage.ashx?filegid=111102\" alt=\"111技優甄選0609-0622\"><div class=\"more\">More</div></a></div>\n",
            "    \t\t    \n",
            "\t              <div><a href=\"https://admission.must.edu.tw/admission/content.aspx?id=16&tab=M\" target=\"_blank\" title=\"Open new window\"><img src=\"https://mustwebsystem.must.edu.tw/ashx/chchou/showMustWwwImage.ashx?filegid=111144\" alt=\"02_111甄選_二階報名.面試及實作0602-25\"><div class=\"more\">More</div></a></div>\n",
            "    \t\t    \n",
            "\t              <div><a href=\"https://admission.must.edu.tw/\" target=\"_blank\" title=\"Open new window\"><img src=\"https://mustwebsystem.must.edu.tw/ashx/chchou/showMustWwwImage.ashx?filegid=111125\" alt=\"入服處2022招生01\"><div class=\"more\">More</div></a></div>\n",
            "    \t\t    \n",
            "\t              <div><a href=\"http://webc2.must.edu.tw/jtmust008/\" target=\"_blank\" title=\"Open new window\"><img src=\"https://mustwebsystem.must.edu.tw/ashx/chchou/showMustWwwImage.ashx?filegid=111142\" alt=\"20220624 「如果地球有生命」高教深耕就學協助子計畫影像創作團體展\"><div class=\"more\">More</div></a></div>\n",
            "    \t\t    \n",
            "\t              <div><a href=\"https://admission.must.edu.tw/\" target=\"_blank\" title=\"Open new window\"><img src=\"https://mustwebsystem.must.edu.tw/ashx/chchou/showMustWwwImage.ashx?filegid=111126\" alt=\"入服處2022招生02\"><div class=\"more\">More</div></a></div>\n",
            "    \t\t    \n",
            "\t              <div><a href=\"https://admission.must.edu.tw/admission/index.aspx?id=31\" target=\"_blank\" title=\"Open new window\"><img src=\"https://mustwebsystem.must.edu.tw/ashx/chchou/showMustWwwImage.ashx?filegid=111116\" alt=\"20220725 註冊組 111學年度第1學期轉學招生訊息公告1\"><div class=\"more\">More</div></a></div>\n",
            "    \t\t    \n",
            "\t              <div><a href=\"https://admission.must.edu.tw/news/page.aspx?id=2135\" target=\"_blank\" title=\"Open new window\"><img src=\"https://mustwebsystem.must.edu.tw/ashx/chchou/showMustWwwImage.ashx?filegid=111073\" alt=\"早鳥放送0831\"><div class=\"more\">More</div></a></div>\n",
            "    \t\t    <!-- end htmlType8 -->\n",
            "              </div>\n",
            "\n",
            "            </div>\n",
            "          </div>\n",
            "          <!--學校特色-->\n",
            "          <div class=\"school-features\">\n",
            "            <h1>學校特色</h1>\n",
            "            <div class=\"row\">\n",
            "              <div class=\"item col-6 col-md-3\">\n",
            "                <a href=\"https://www.facebook.com/581795358614934/posts/4553115644816199/?sfnsn=mo\" title=\"\">\n",
            "                  <img src=\"images/school-features05.png\" alt=\"\">\n",
            "                  <div class=\"title\">人才永續</div>\n",
            "                  <div class=\"intro\">本校宣布加入「TALENT, in Taiwan，台灣人才永續行動聯盟」</div>\n",
            "                </a>\n",
            "              </div>\n",
            "              <div class=\"item col-6 col-md-3\">\n",
            "                <a href=\"https://admin.must.edu.tw/index.aspx?UnitID=110\">\n",
            "                  <img src=\"images/school-features02.svg\" alt=\"\">\n",
            "                  <div class=\"title\" style=\"display:flex; justify-content: center;\">\n",
            "                    <div class=\"counter\">1,300</div>\n",
            "                    <div style=\"padding-left:5px;\">+</div>\n",
            "                  </div>\n",
            "                  <div class=\"intro\">全國技專校院外國學位生人數第一名</div>\n",
            "                </a>\n",
            "              </div>\n",
            "              <div class=\"item col-6 col-md-3\">\n",
            "                <a href=\"https://admin.must.edu.tw/index.aspx?UnitID=118\">\n",
            "                  <img src=\"images/school-features03.svg\" alt=\"\">\n",
            "                  <div class=\"title\" style=\"display:flex; justify-content: center;\">\n",
            "                    <div class=\"counter\">100</div>\n",
            "                    <div style=\"padding-left:5px;\">+</div>\n",
            "                  </div>\n",
            "                  <div class=\"intro\">科技部大專生研究計畫通過數量全國私立科大第二名</div>\n",
            "                </a>\n",
            "              </div>\n",
            "              <div class=\"item col-6 col-md-3\">\n",
            "                <a href=\"http://webc1.must.edu.tw/jtmust090/\">\n",
            "                  <img src=\"images/school-features04.svg\" alt=\"\">\n",
            "                  <div class=\"title\">半導體產業</div>\n",
            "                  <div class=\"intro\">本校畢業生超越頂尖大學成為「半導體產業」首選</div>\n",
            "                </a>\n",
            "              </div>\n",
            "            </div>\n",
            "          </div>\n",
            "        </div>\n",
            "      </div>\n",
            "      <!--焦點新聞-->\n",
            "      <div class=\"block-news\">\n",
            "        <div class=\"container\">\n",
            "          <div class=\"news-tab\">\n",
            "            <ul class=\"nav nav-pill\" id=\"news-pills-tab\" role=\"tablist\">\n",
            "              <li class=\"nav-item\">\n",
            "                <a class=\"nav-link active\" id=\"news-tab\" data-toggle=\"pill\" href=\"#pills-news\" role=\"tab\" aria-controls=\"pills-news\" aria-selected=\"true\" title=\"最新消息\">最新消息</a>\n",
            "              </li>\n",
            "              <li class=\"nav-item\">\n",
            "                <a class=\"nav-link\" id=\"pills-ad-tab\" data-toggle=\"pill\" href=\"#pills-ad\" role=\"tab\" aria-controls=\"pills-ad\" aria-selected=\"false\" title=\"媒體報導\">媒體報導</a>\n",
            "              </li>\n",
            "              <!--<li class=\"nav-item\">\n",
            "                <a class=\"nav-link\" id=\"pills-ad-tab\" data-toggle=\"pill\" href=\"#pills-ad\" role=\"tab\" aria-controls=\"pills-ad\" aria-selected=\"false\" title=\"招生公告\">招生公告</a>\n",
            "              </li>-->\n",
            "            </ul>\n",
            "            <div class=\"tab-content\" id=\"pills-tabContent\">\n",
            "              <!--最新消息-->\n",
            "              <div class=\"tab-pane fade show active\" id=\"pills-news\" role=\"tabpanel\" aria-labelledby=\"pills-news-tab\">\n",
            "                <div class=\"panel panel-default\">\n",
            "                  <div class=\"panel-heading\">\n",
            "                    <div class=\"panel-title\">\n",
            "                      <a data-toggle=\"collapse\" data-parent=\".tab-pane\" href=\"#collapse-news\" class=\"collapsed\" aria-expanded=\"false\" title=\"分頁畫面\">\n",
            "                        最新消息\n",
            "                      </a>\n",
            "                    </div>\n",
            "                  </div>\n",
            "                  <div id=\"collapse-news\" class=\"panel-collapse in collapse\">\n",
            "                    <div class=\"panel-body row\">\n",
            "                      <div class=\"col-12 col-lg-7 news-wrap\">\n",
            "                        <!-- start htmlType4 -->\n",
            "                    <div class=\"item\">\n",
            "                        <div class=\"date\">2022/06/06</div>\n",
            "                        <div class=\"title\"><a href=\"https://www.must.edu.tw/about/news.php\" target=\"_blank\" title=\"Open new window\">【公告】COVID-19校園防疫專區</a><span class=\"hot\">HOT</span><span class=\"new\">NEW</span></div>\n",
            "                      </div>\n",
            "                \n",
            "                      <div class=\"item\">\n",
            "                        <div class=\"date\">2022/05/02</div>\n",
            "                        <div class=\"title\"><a href=\"https://admin.must.edu.tw/news/page.aspx?UnitID=124&id=2383\" target=\"_blank\" title=\"Open new window\">【公告】竹北68免費巴士5月起增停明新站，歡迎師生多多利用通學通勤</a></div>\n",
            "                      </div>\n",
            "                \n",
            "                      <div class=\"item\">\n",
            "                        <div class=\"date\">2022/06/09</div>\n",
            "                        <div class=\"title\"><a href=\"https://acade.must.edu.tw/news/page.aspx?UnitID=1&id=2335\" target=\"_blank\" title=\"Open new window\">【公告】111學年度第1學期日間部註冊通知</a></div>\n",
            "                      </div>\n",
            "                \n",
            "                      <div class=\"item\">\n",
            "                        <div class=\"date\">2022/06/01</div>\n",
            "                        <div class=\"title\"><a href=\"https://admin.must.edu.tw/news/page.aspx?UnitID=107&id=2566\" target=\"_blank\" title=\"Open new window\">【公告】進修部110學年度畢業證書領取公告</a></div>\n",
            "                      </div>\n",
            "                \n",
            "                      <div class=\"item\">\n",
            "                        <div class=\"date\">2022/05/26</div>\n",
            "                        <div class=\"title\"><a href=\"https://www.facebook.com/1770605486509984/videos/736374930888861\" target=\"_blank\" title=\"Open new window\">【公告】歡迎收聽：臺北電臺公民總主筆節目 專訪劉國偉校長分享明新特色</a></div>\n",
            "                      </div>\n",
            "                \n",
            "                      <div class=\"item\">\n",
            "                        <div class=\"date\">2022/05/16</div>\n",
            "                        <div class=\"title\"><a href=\"https://acade.must.edu.tw/news/page.aspx?UnitID=1&id=2419\" target=\"_blank\" title=\"Open new window\">【公告】日間部110學年度畢業證書領取公告</a></div>\n",
            "                      </div>\n",
            "                \n",
            "                      <div class=\"item\">\n",
            "                        <div class=\"date\">2022/05/16</div>\n",
            "                        <div class=\"title\"><a href=\"https://admin.must.edu.tw/news/page.aspx?UnitID=81&id=2551\" target=\"_blank\" title=\"Open new window\">【公告】因應COVID-19疫情，本校所有課程即日起維持遠距教學到期末</a></div>\n",
            "                      </div>\n",
            "                \n",
            "                      <div class=\"item\">\n",
            "                        <div class=\"date\">2022/04/26</div>\n",
            "                        <div class=\"title\"><a href=\"https://acade.must.edu.tw/news/page.aspx?UnitID=1&id=2335\" target=\"_blank\" title=\"Open new window\">【公告】111學年度第1學期轉學生招生簡章公告</a></div>\n",
            "                      </div>\n",
            "                \n",
            "                      <div class=\"item\">\n",
            "                        <div class=\"date\">2022/04/06</div>\n",
            "                        <div class=\"title\"><a href=\"https://admission.must.edu.tw/admission/index.aspx?id=27\" target=\"_blank\" title=\"Open new window\">【招生】 111學年度【產學訓專班】招生 簡章免費下載~</a></div>\n",
            "                      </div>\n",
            "                \n",
            "                      <div class=\"item\">\n",
            "                        <div class=\"date\">2022/04/06</div>\n",
            "                        <div class=\"title\"><a href=\"https://admission.must.edu.tw/admission/index.aspx?id=22\" target=\"_blank\" title=\"Open new window\">【招生】111學年度【進修部四技二專(含四班二輪)】招生 簡章免費下載~</a></div>\n",
            "                      </div>\n",
            "                <!-- end htmlType4 -->\n",
            "                        <!--<div class=\"more\"><a href=\"http://webc1.must.edu.tw/jtmust062/index.php/news\" title=\"閱讀更多\">閱讀更多</a></div>-->\n",
            "                      </div>\n",
            "                      <div class=\"col-12 col-lg-5 d-none d-lg-block\"><img src=\"images/events.png\" alt=\"\"></div>\n",
            "                    </div>\n",
            "                  </div>\n",
            "                </div>\n",
            "              </div>\n",
            "              <!-- 媒體公告-->\n",
            "              <div class=\"tab-pane\" id=\"pills-ad\" role=\"tabpanel\" aria-labelledby=\"pills-ad-tab\">\n",
            "                <div class=\"panel panel-default\">\n",
            "                  <div class=\"panel-heading\">\n",
            "                    <div class=\"panel-title\">\n",
            "                      <a data-toggle=\"collapse\" data-parent=\".tab-pane\" href=\"#collapse-ad\" class=\"collapsed\" aria-expanded=\"false\" title=\"媒體報導\">\n",
            "                        媒體報導\n",
            "                      </a>\n",
            "                    </div>\n",
            "                  </div>\n",
            "                  <div id=\"collapse-ad\" class=\"panel-collapse in collapse\">\n",
            "                    <div class=\"panel-body row\">\n",
            "                      <div class=\"col-12 col-lg-7 news-wrap\">\n",
            "                        <!-- start htmlType5 -->\n",
            "                    <div class=\"item\">\n",
            "                        <div class=\"date\">2022/05/26</div>\n",
            "                        <div class=\"title\"><a href=\"https://money.udn.com/money/story/5723/6327789\" target=\"_blank\" title=\"Open new window\">【新聞】台灣歐特克捐贈明新科大PowerMILL軟體 攜手培育人才 經濟</a><span class=\"hot\">HOT</span><span class=\"new\">NEW</span></div>\n",
            "                      </div>\n",
            "                \n",
            "                      <div class=\"item\">\n",
            "                        <div class=\"date\">2022/05/26</div>\n",
            "                        <div class=\"title\"><a href=\"https://www.mypeoplevol.com/Article/23384\" target=\"_blank\" title=\"Open new window\">【新聞】明新科大獲贈PowerMILL軟體 產學攜手培育精密加工人才</a></div>\n",
            "                      </div>\n",
            "                \n",
            "                      <div class=\"item\">\n",
            "                        <div class=\"date\">2022/05/18</div>\n",
            "                        <div class=\"title\"><a href=\"https://www.tbc.net.tw/Mobile/News/NewsDetail?id=0aac2334-6169-4b6e-8241-6d5f5412456b&newsType=4\" target=\"_blank\" title=\"Open new window\">【影音】激發青年潛能Team Up 社團新幹線(北視新聞)</a></div>\n",
            "                      </div>\n",
            "                \n",
            "                      <div class=\"item\">\n",
            "                        <div class=\"date\">2022/05/18</div>\n",
            "                        <div class=\"title\"><a href=\"https://youtu.be/BYg0lrJQZu0\" target=\"_blank\" title=\"Open new window\">【影音】竹縣推社團新幹線 鼓勵申請補助.人才培力( 客家電視台)</a></div>\n",
            "                      </div>\n",
            "                \n",
            "                      <div class=\"item\">\n",
            "                        <div class=\"date\">2022/05/16</div>\n",
            "                        <div class=\"title\"><a href=\"https://udn.com/news/story/9489/6312385\" target=\"_blank\" title=\"Open new window\">【報導】智慧明新科技大學 打造未來新勢力 聯合新聞網</a></div>\n",
            "                      </div>\n",
            "                \n",
            "                      <div class=\"item\">\n",
            "                        <div class=\"date\">2022/05/13</div>\n",
            "                        <div class=\"title\"><a href=\"https://www.gvm.com.tw/article/89818\" target=\"_blank\" title=\"Open new window\">【報導】企業最愛科大〉工程、資訊、商管、餐旅8大奪冠學校，起薪大公開</a></div>\n",
            "                      </div>\n",
            "                \n",
            "                      <div class=\"item\">\n",
            "                        <div class=\"date\">2022/05/06</div>\n",
            "                        <div class=\"title\"><a href=\"https://tw.appledaily.com/gadget/20220505/WFJP2NQF7NGPBIJXEX2TYHSSRM/\" target=\"_blank\" title=\"Open new window\">【新聞】不是台清交 半導體百萬年薪搶人 這所科大生平均工作機會3、4個</a></div>\n",
            "                      </div>\n",
            "                \n",
            "                      <div class=\"item\">\n",
            "                        <div class=\"date\">2022/05/06</div>\n",
            "                        <div class=\"title\"><a href=\"https://technews.tw/2022/05/05/military-training/\" target=\"_blank\" title=\"Open new window\">【新聞】人才荒有解！中華精測「以戰練兵」、明新科大推「封裝工程師」證照</a></div>\n",
            "                      </div>\n",
            "                \n",
            "                      <div class=\"item\">\n",
            "                        <div class=\"date\">2022/05/05</div>\n",
            "                        <div class=\"title\"><a href=\"https://youtu.be/ccaAbl_1RyI\" target=\"_blank\" title=\"Open new window\">【影音】機械產業專班培育人才 車廠贈車架助學習(新竹振道)</a></div>\n",
            "                      </div>\n",
            "                \n",
            "                      <div class=\"item\">\n",
            "                        <div class=\"date\">2022/05/04</div>\n",
            "                        <div class=\"title\"><a href=\"https://www.chinatimes.com/realtimenews/20220503002892-260421\" target=\"_blank\" title=\"Open new window\">【報導】明新科大獲選為印尼技職生海外學習官方夥伴學校(中時電子報)</a></div>\n",
            "                      </div>\n",
            "                <!-- end htmlType5 -->\n",
            "                        <div class=\"more\"><a href=\"https://admin.must.edu.tw/news/list.aspx?UnitID=72&id=1113\" title=\"閱讀更多\">閱讀更多</a></div>\n",
            "                      </div>\n",
            "                      <div class=\"col-12 col-lg-5 d-none d-lg-block\"><img src=\"images/events.png\" alt=\"\"></div>\n",
            "                    </div>\n",
            "                  </div>\n",
            "                </div>\n",
            "              </div>\n",
            "\n",
            "            </div>\n",
            "          </div>\n",
            "        </div>\n",
            "      </div>\n",
            "      <!--校園新聞-->\n",
            "      <div class=\"block-events\">\n",
            "        <div class=\"container\">\n",
            "          <h2>校園新聞</h2>\n",
            "          <div class=\"home-events\">\n",
            "            <!-- start htmlType2 -->\n",
            "                  <div><a href=\"https://admin.must.edu.tw/news/page.aspx?UnitID=72&id=3803\" target=\"_blank\" title=\"有愛從自身出發 國際生參與社團活動零距離(Open new window)\"><img src=\"https://mustwebsystem.must.edu.tw/ashx/chchou/showMustWwwImage.ashx?filegid=111141\" alt=\"有愛從自身出發 國際生參與社團活動零距離\"><span class=\"title\">有愛從自身出發 國際生參與社團活動零距離</span></a></div>\n",
            "    \t\t    \n",
            "                  <div><a href=\"https://admin.must.edu.tw/news/page.aspx?UnitID=72&id=2628\" target=\"_blank\" title=\"台灣歐特克捐贈PowerMILL軟體 攜手培育精密加工產業人才(Open new window)\"><img src=\"https://mustwebsystem.must.edu.tw/ashx/chchou/showMustWwwImage.ashx?filegid=111122\" alt=\"台灣歐特克捐贈PowerMILL軟體 攜手培育精密加工產業人才\"><span class=\"title\">台灣歐特克捐贈PowerMILL軟體 攜手培育精密加工產業人才</span></a></div>\n",
            "    \t\t    \n",
            "                  <div><a href=\"https://admin.must.edu.tw/news/page.aspx?UnitID=72&id=2600\" target=\"_blank\" title=\"智泰科技捐贈教發中心VisLab軟體 合作成立AI培訓中心育才(Open new window)\"><img src=\"https://mustwebsystem.must.edu.tw/ashx/chchou/showMustWwwImage.ashx?filegid=111118\" alt=\"智泰科技捐贈教發中心VisLab軟體 合作成立AI培訓中心育才\"><span class=\"title\">智泰科技捐贈教發中心VisLab軟體 合作成立AI培訓中心育才</span></a></div>\n",
            "    \t\t    \n",
            "                  <div><a href=\"https://admin.must.edu.tw/news/page.aspx?UnitID=72&id=2528\" target=\"_blank\" title=\"企業最愛明新科大 畢業起薪私立科大最高(Open new window)\"><img src=\"https://mustwebsystem.must.edu.tw/ashx/chchou/showMustWwwImage.ashx?filegid=111109\" alt=\"企業最愛明新科大 畢業起薪私立科大最高\"><span class=\"title\">企業最愛明新科大 畢業起薪私立科大最高</span></a></div>\n",
            "    \t\t    \n",
            "                  <div><a href=\"https://admin.must.edu.tw/news/page.aspx?UnitID=72&id=2460\" target=\"_blank\" title=\"2022管理與服務創新國際學術研討會 產學官線上研討交流(Open new window)\"><img src=\"https://mustwebsystem.must.edu.tw/ashx/chchou/showMustWwwImage.ashx?filegid=111105\" alt=\"2022管理與服務創新國際學術研討會 產學官線上研討交流\"><span class=\"title\">2022管理與服務創新國際學術研討會 產學官線上研討交流</span></a></div>\n",
            "    \t\t    \n",
            "                  <div><a href=\"https://admin.must.edu.tw/news/page.aspx?UnitID=72&id=2390\" target=\"_blank\" title=\"明新科大獲選為印尼技職生海外學習官方夥伴學校(Open new window)\"><img src=\"https://mustwebsystem.must.edu.tw/ashx/chchou/showMustWwwImage.ashx?filegid=111092\" alt=\"明新科大獲選為印尼技職生海外學習官方夥伴學校\"><span class=\"title\">明新科大獲選為印尼技職生海外學習官方夥伴學校</span></a></div>\n",
            "    \t\t    <!-- end htmlType2 -->\n",
            "          </div>\n",
            "          <div class=\"more\"><a href=\"https://admin.must.edu.tw/news/list.aspx?UnitID=72&id=1170\" title=\"校園新聞閱讀更多(另開視窗)\">閱讀更多</a></div>\n",
            "        </div>\n",
            "      </div>\n",
            "      <!--影音專區-->\n",
            "      <div class=\"block-videos\">\n",
            "        <div class=\"container\">\n",
            "          <h2>影音專區</h2>\n",
            "          <div class=\"home-videos\">\n",
            "            <!-- start htmlType3 -->\n",
            "                      <div><div class=\"videorwd\"><iframe width=\"100%\" height=\"315\" src=\"https://www.youtube.com/embed/y6rfbIdDnhY\" frameborder=\"0\" allow=\"accelerometer; autoplay; clipboard-write; encrypted-media; gyroscope; picture-in-picture\" allowfullscreen title=\"夢‧翔 110學年度線上畢業典禮直播\"></iframe></div></div>\n",
            "    \t\t    \n",
            "                      <div><div class=\"videorwd\"><iframe width=\"100%\" height=\"315\" src=\"https://www.youtube.com/embed/jUF-_eS1jC4\" frameborder=\"0\" allow=\"accelerometer; autoplay; clipboard-write; encrypted-media; gyroscope; picture-in-picture\" allowfullscreen title=\"明新科技大學校歌(2022 recovery)\"></iframe></div></div>\n",
            "    \t\t    \n",
            "                      <div><div class=\"videorwd\"><iframe width=\"100%\" height=\"315\" src=\"https://www.youtube.com/embed/XoKFPrBp0ko\" frameborder=\"0\" allow=\"accelerometer; autoplay; clipboard-write; encrypted-media; gyroscope; picture-in-picture\" allowfullscreen title=\"智慧工程達人在這裡！\"></iframe></div></div>\n",
            "    \t\t    \n",
            "                      <div><div class=\"videorwd\"><iframe width=\"100%\" height=\"315\" src=\"https://www.youtube.com/embed/ccaAbl_1RyI\" frameborder=\"0\" allow=\"accelerometer; autoplay; clipboard-write; encrypted-media; gyroscope; picture-in-picture\" allowfullscreen title=\"機械產業專班培育人才 車廠贈車架助學習\"></iframe></div></div>\n",
            "    \t\t    \n",
            "                      <div><div class=\"videorwd\"><iframe width=\"100%\" height=\"315\" src=\"https://www.youtube.com/embed/L0020MB8tqM\" frameborder=\"0\" allow=\"accelerometer; autoplay; clipboard-write; encrypted-media; gyroscope; picture-in-picture\" allowfullscreen title=\"運動事業管理系111級學習果表演會highlight\"></iframe></div></div>\n",
            "    \t\t    \n",
            "                      <div><div class=\"videorwd\"><iframe width=\"100%\" height=\"315\" src=\"https://www.youtube.com/embed/P6DcHiB3iOs\" frameborder=\"0\" allow=\"accelerometer; autoplay; clipboard-write; encrypted-media; gyroscope; picture-in-picture\" allowfullscreen title=\"明新科系搜查員-電子工程系之生活日常\"></iframe></div></div>\n",
            "    \t\t    <!-- end htmlType3 -->            \n",
            "          </div>\n",
            "          <div class=\"more\"><a href=\"http://bit.ly/2RCwpha\" title=\"影音專區閱讀更多(另開視窗)\">閱讀更多</a></div>\n",
            "        </div>\n",
            "      </div>\n",
            "      <!--學長姐的話-->\n",
            "      <!--<div class=\"block-predecessor\">\n",
            "        <div class=\"container\">\n",
            "          <h2>學長姐的話</h2>\n",
            "          <div class=\"home-predecessor\">\n",
            "            <!-- start htmlType2 -->\n",
            "            <!--<div><a href=\"http://webc1.must.edu.tw/jtmust062/index.php/1693-1110214\" target=\"_blank\" title=\"《虎》你愛～情人節快閃 課指組與學生會齊營造溫馨校園(Open new window)\"><img src=\"https://mustwebsystem.must.edu.tw/ashx/chchou/showMustWwwImage.ashx?filegid=110997\" alt=\"《虎》你愛～情人節快閃 課指組與學生會齊營造溫馨校園\"><span class=\"title\">《虎》你愛～情人節快閃 課指組與學生會齊營造溫馨校園</span></a></div>\n",
            "\n",
            "            <div><a href=\"http://webc1.must.edu.tw/jtmust062/index.php/1660-1110111\" target=\"_blank\" title=\"本校成立公開組棒球隊 前統一7-ELEVEn獅許聖杰接掌總教練(Open new window)\"><img src=\"https://mustwebsystem.must.edu.tw/ashx/chchou/showMustWwwImage.ashx?filegid=100989\" alt=\"本校成立公開組棒球隊 前統一7-ELEVEn獅許聖杰接掌總教練\"><span class=\"title\">本校成立公開組棒球隊 前統一7-ELEVEn獅許聖杰接掌總教練</span></a>\n",
            "            </div>\n",
            "            <!-- end htmlType2 -->\n",
            "          <!--</div>        \n",
            "          <div class=\"more\"><a href=\"https://admin.must.edu.tw/index.aspx?UnitID=124\" title=\"學長姐的話閱讀更多(另開視窗)\">閱讀更多</a></div>\n",
            "\n",
            "        </div>\n",
            "      </div>-->\n",
            "      <!--相關連結-->\n",
            "      <div class=\"block-links\">\n",
            "        <div class=\"container\">\n",
            "          <h2>相關連結</h2>\n",
            "          <div class=\"links-tab\">\n",
            "            <ul class=\"nav nav-pill\" id=\"news-pills-tab\" role=\"tablist\">\n",
            "              <li class=\"nav-item\">\n",
            "                <a class=\"nav-link active\" id=\"links-hot-tab\" data-toggle=\"pill\" href=\"#pills-links-hot\" role=\"tab\" aria-controls=\"pills-links-hot\" aria-selected=\"true\" title=\"熱門專題\">熱門專題</a>\n",
            "              </li>\n",
            "              <li class=\"nav-item\">\n",
            "                <a class=\"nav-link\" id=\"pills-links-student-tab\" data-toggle=\"pill\" href=\"#pills-links-student\" role=\"tab\" aria-controls=\"pills-links-student\" aria-selected=\"false\" title=\"學生常用資訊\">學生常用資訊</a>\n",
            "              </li>\n",
            "              <li class=\"nav-item\">\n",
            "                <a class=\"nav-link\" id=\"pills-links-employee-tab\" data-toggle=\"pill\" href=\"#pills-links-employee\" role=\"tab\" aria-controls=\"pills-links-employee\" aria-selected=\"false\" title=\"教職員常用資訊\">教職員常用資訊</a>\n",
            "              </li>\n",
            "              <li class=\"nav-item\">\n",
            "                <a class=\"nav-link\" id=\"pills-links-jobs-tab\" data-toggle=\"pill\" href=\"#pills-links-jobs\" role=\"tab\" aria-controls=\"pills-links-jobs\" aria-selected=\"false\" title=\"求職與政令宣導\">求職與政令宣導</a>\n",
            "              </li>\n",
            "              <li class=\"nav-item\">\n",
            "                <a class=\"nav-link\" id=\"pills-links-theme-tab\" data-toggle=\"pill\" href=\"#pills-links-theme\" role=\"tab\" aria-controls=\"pills-links-theme\" aria-selected=\"false\" title=\"主題宣導\">主題宣導</a>\n",
            "              </li>\n",
            "              <li class=\"nav-item\">\n",
            "                <a class=\"nav-link\" id=\"pills-links-other-tab\" data-toggle=\"pill\" href=\"#pills-links-other\" role=\"tab\" aria-controls=\"pills-links-other\" aria-selected=\"false\" title=\"其他\">其他</a>\n",
            "              </li>\n",
            "            </ul>\n",
            "            <div class=\"tab-content\" id=\"pills-tabContent\">\n",
            "              <!--熱門專題-->\n",
            "              <div class=\"tab-pane fade show active\" id=\"pills-links-hot\" role=\"tabpanel\" aria-labelledby=\"pills-links-hot-tab\">\n",
            "                <div class=\"panel panel-default\">\n",
            "                  <div class=\"panel-heading\">\n",
            "                    <div class=\"panel-title\">\n",
            "                      <a data-toggle=\"collapse\" data-parent=\".tab-pane\" href=\"#collapse-links-hot\" class=\"collapsed\" aria-expanded=\"false\" title=\"熱門專題\">\n",
            "                        熱門專題\n",
            "                      </a>\n",
            "                    </div>\n",
            "                  </div>\n",
            "                  <div id=\"collapse-links-hot\" class=\"panel-collapse in collapse\">\n",
            "                    <div class=\"panel-body row links-wrap\">\n",
            "                      <div class=\"col-6 col-md-3\">\n",
            "                        <a class=\"item\" href=\"https://www.facebook.com/hhfnpp\" target=\"_blank\" title=\"非營利幼兒園專區(另開視窗)\"><img src=\"images/links-icon01.svg\" alt=\"非營利幼兒園專區 icon\"><span class=\"title\">非營利幼兒園專區</span></a>\n",
            "                      </div>\n",
            "                      <div class=\"col-6 col-md-3\">\n",
            "                        <a class=\"item\" href=\"https://bit.ly/2V9owBI\" target=\"_blank\" title=\"明日之星(另開視窗)\"><img src=\"images/links-icon02.svg\" alt=\"明日之星 icon\"><span class=\"title\">明日之星</span></a>\n",
            "                      </div>\n",
            "                      <div class=\"col-6 col-md-3\">\n",
            "                        <a class=\"item\" href=\"https://www.must.edu.tw/admissions.php\" target=\"_blank\" title=\"招生專區(另開視窗)\"><img src=\"images/links-icon03.svg\" alt=\"招生專區 icon\"><span class=\"title\">招生專區</span></a>\n",
            "                      </div>\n",
            "                      <div class=\"col-6 col-md-3\">\n",
            "                        <a class=\"item\" href=\"https://eec.must.edu.tw/index/index.aspx\" target=\"_blank\" title=\"推廣教育中心(另開視窗)\"><img src=\"images/links-icon04.svg\" alt=\"推廣教育中心 icon\"><span class=\"title\">推廣教育中心</span></a>\n",
            "                      </div>\n",
            "                      <div class=\"col-6 col-md-3\">\n",
            "                        <a class=\"item\" href=\"https://sites.google.com/site/mustfreshman\" target=\"_blank\" title=\"新生專區(另開視窗)\"><img src=\"images/links-icon05.svg\" alt=\"新生專區 icon\"><span class=\"title\">新生專區</span></a>\n",
            "                      </div>\n",
            "                      <div class=\"col-6 col-md-3\">\n",
            "                        <a class=\"item\" href=\"https://sss.must.edu.tw/std_service.html\" target=\"_blank\" title=\"學生專區(另開視窗)\"><img src=\"images/links-icon06.svg\" alt=\"學生專區 icon\"><span class=\"title\">學生專區</span></a>\n",
            "                      </div>\n",
            "                      <div class=\"col-6 col-md-3\">\n",
            "                        <a class=\"item\" href=\"https://sss.must.edu.tw/pars_new/pars_index.asp\" target=\"_blank\" title=\"家長關懷專區(另開視窗)\"><img src=\"images/links-icon07.svg\" alt=\"家長關懷專區 icon\"><span class=\"title\">家長關懷專區</span></a>\n",
            "                      </div>\n",
            "                      <div class=\"col-6 col-md-3\">\n",
            "                        <a class=\"item\" href=\"http://webs.must.edu.tw/ocmust006\" target=\"_blank\" title=\"獎助學金專區(另開視窗)\"><img src=\"images/links-icon44.svg\" alt=\"獎助學金專區 icon\"><span class=\"title\">獎助學金專區</span></a>\n",
            "                      </div>\n",
            "                    </div>\n",
            "                  </div>\n",
            "                </div>\n",
            "              </div>\n",
            "              <!-- 學生常用資訊-->\n",
            "              <div class=\"tab-pane\" id=\"pills-links-student\" role=\"tabpanel\" aria-labelledby=\"pills-links-student-tab\">\n",
            "                <div class=\"panel panel-default\">\n",
            "                  <div class=\"panel-heading\">\n",
            "                    <div class=\"panel-title\">\n",
            "                      <a data-toggle=\"collapse\" data-parent=\".tab-pane\" href=\"#collapse-links-student\" class=\"collapsed\" aria-expanded=\"false\" title=\"學生常用資訊\">\n",
            "                        學生常用資訊\n",
            "                      </a>\n",
            "                    </div>\n",
            "                  </div>\n",
            "                  <div id=\"collapse-links-student\" class=\"panel-collapse in collapse\">\n",
            "                    <div class=\"panel-body row links-wrap\">\n",
            "                      <div class=\"col-6 col-md-3\">\n",
            "                        <a class=\"item\" href=\"https://sss.must.edu.tw/\" target=\"_blank\" title=\"學生資訊服務系統(另開視窗)\"><img src=\"images/links-icon08.svg\" alt=\"學生資訊服務系統 icon\"><span class=\"title\">學生資訊服務系統</span></a>\n",
            "                      </div>\n",
            "                      <div class=\"col-6 col-md-3\">\n",
            "                        <a class=\"item\" href=\"https://mustwebsystem.must.edu.tw/muststdsystem/index.aspx\" target=\"_blank\" title=\"校務學生資訊系統(另開視窗)\"><img src=\"images/links-icon09.svg\" alt=\"校務學生資訊系統 icon\"><span class=\"title\">校務學生資訊系統</span></a>\n",
            "                      </div>\n",
            "                      <div class=\"col-6 col-md-3\">\n",
            "                        <a class=\"item\" href=\"http://std.must.edu.tw/\" target=\"_blank\" title=\"學生郵件服務系統(另開視窗)\"><img src=\"images/links-icon10.svg\" alt=\"學生郵件服務系統 icon\"><span class=\"title\">學生郵件服務系統</span></a>\n",
            "                      </div>\n",
            "                      <div class=\"col-6 col-md-3\">\n",
            "                        <a class=\"item\" href=\"https://sss.must.edu.tw/?system=b3\" target=\"_blank\" title=\"電子歷程檔案系統(另開視窗)\"><img src=\"images/links-icon11.svg\" alt=\"電子歷程檔案系統 icon\"><span class=\"title\">電子歷程檔案系統</span></a>\n",
            "                      </div>\n",
            "                      <div class=\"col-6 col-md-3\">\n",
            "                        <a class=\"item\" href=\"https://sss.must.edu.tw/tuiRegistry/tuiRegistry_index.asp\" target=\"_blank\" title=\"學雜費網路服務系統(另開視窗)\"><img src=\"images/links-icon12.svg\" alt=\"學雜費網路服務系統 icon\"><span class=\"title\">學雜費網路服務系統</span></a>\n",
            "                      </div>\n",
            "                      <div class=\"col-6 col-md-3\">\n",
            "                        <a class=\"item\" href=\"https://int.must.edu.tw/\" target=\"_blank\" title=\"校外實習管理系統(另開視窗)\"><img src=\"images/links-icon13.svg\" alt=\"校外實習管理系統 icon\"><span class=\"title\">校外實習管理系統</span></a>\n",
            "                      </div>\n",
            "                      <div class=\"col-6 col-md-3\">\n",
            "                        <a class=\"item\" href=\"https://sss.must.edu.tw/?system=b5\" target=\"_blank\" title=\"進修部學生網路請假系統(另開視窗)\"><img src=\"images/links-icon14.svg\" alt=\"進修部學生網路請假系統 icon\"><span class=\"title\">進修部學生網路請假系統</span></a>\n",
            "                      </div>\n",
            "                      <div class=\"col-6 col-md-3\">\n",
            "                        <a class=\"item\" href=\"https://sss.must.edu.tw/?system=b4\" target=\"_blank\" title=\"學生離校申請(另開視窗)\"><img src=\"images/links-icon15.svg\" alt=\"學生離校申請 icon\"><span class=\"title\">學生離校申請</span></a>\n",
            "                      </div>\n",
            "\n",
            "                    </div>\n",
            "                  </div>\n",
            "                </div>\n",
            "              </div>\n",
            "              <!-- 教職員常用資訊-->\n",
            "              <div class=\"tab-pane\" id=\"pills-links-employee\" role=\"tabpanel\" aria-labelledby=\"pills-links-employee-tab\">\n",
            "                <div class=\"panel panel-default\">\n",
            "                  <div class=\"panel-heading\">\n",
            "                    <div class=\"panel-title\">\n",
            "                      <a data-toggle=\"collapse\" data-parent=\".tab-pane\" href=\"#collapse-links-employee\" class=\"collapsed\" aria-expanded=\"false\" title=\"教職員常用資訊\">\n",
            "                        教職員常用資訊\n",
            "                      </a>\n",
            "                    </div>\n",
            "                  </div>\n",
            "                  <div id=\"collapse-links-employee\" class=\"panel-collapse in collapse\">\n",
            "                    <div class=\"panel-body row links-wrap\">\n",
            "                      <div class=\"col-6 col-md-3\">\n",
            "                        <a class=\"item\" href=\"https://sss.must.edu.tw/teachinfo/\" target=\"_blank\" title=\"教職員資訊服務系統(另開視窗)\"><img src=\"images/links-icon16.svg\" alt=\"教職員資訊服務系統 icon\"><span class=\"title\">教職員資訊服務系統</span></a>\n",
            "                      </div>\n",
            "                      <div class=\"col-6 col-md-3\">\n",
            "                        <a class=\"item\" href=\"http://mail.must.edu.tw/\" target=\"_blank\" title=\"教職員郵件服務系統(另開視窗)\"><img src=\"images/links-icon17.svg\" alt=\"教職員郵件服務系統 icon\"><span class=\"title\">教職員郵件服務系統</span></a>\n",
            "                      </div>\n",
            "                      <div class=\"col-6 col-md-3\">\n",
            "                        <a class=\"item\" href=\"https://mustwebsystem.must.edu.tw/\" target=\"_blank\" title=\"教職員校務行政資訊系統 (單一簽入)(另開視窗)\"><img src=\"images/links-icon18.svg\" alt=\"校務行政資訊系統 icon\"><span class=\"title\">教職員校務行政資訊系統 (單一簽入)</span></a>\n",
            "                      </div>\n",
            "                      <div class=\"col-6 col-md-3\">\n",
            "                        <a class=\"item\" href=\"https://u1.must.edu.tw/\" target=\"_blank\" title=\"行政U1管理系統(另開視窗)\"><img src=\"images/links-icon19.svg\" alt=\"行政U1管理系統 icon\"><span class=\"title\">行政U1管理系統</span></a>\n",
            "                      </div>\n",
            "                      <div class=\"col-6 col-md-3\">\n",
            "                        <a class=\"item\" href=\"https://accounting.must.edu.tw/alltop/\" target=\"_blank\" title=\"會計總務系統(另開視窗)\"><img src=\"images/links-icon20.svg\" alt=\"會計總務系統 icon\"><span class=\"title\">會計總務系統</span></a>\n",
            "                      </div>\n",
            "                      <div class=\"col-6 col-md-3\">\n",
            "                        <a class=\"item\" href=\"https://frdp.must.edu.tw/industrywebsystem/\" target=\"_blank\" title=\"教師進行產業研習或研究管理系統(另開視窗)\"><img src=\"images/links-icon21.svg\" alt=\"教師進行產業研習或研究管理系統 icon\"><span class=\"title\">教師進行產業研習或研究管理系統</span></a>\n",
            "                      </div>\n",
            "                      <div class=\"col-6 col-md-3\">\n",
            "                        <a class=\"item\" href=\"https://sss.must.edu.tw/RWD_CosInfo/\" target=\"_blank\" title=\"開課資訊查詢服務(另開視窗)\"><img src=\"images/links-icon22.svg\" alt=\"開課資訊查詢服務 icon\"><span class=\"title\">開課資訊查詢服務</span></a>\n",
            "                      </div>\n",
            "\n",
            "                    </div>\n",
            "                  </div>\n",
            "                </div>\n",
            "              </div>\n",
            "              <!-- 求職與政令宣導-->\n",
            "              <div class=\"tab-pane\" id=\"pills-links-jobs\" role=\"tabpanel\" aria-labelledby=\"pills-links-jobs-tab\">\n",
            "                <div class=\"panel panel-default\">\n",
            "                  <div class=\"panel-heading\">\n",
            "                    <div class=\"panel-title\">\n",
            "                      <a data-toggle=\"collapse\" data-parent=\".tab-pane\" href=\"#collapse-links-jobs\" class=\"collapsed\" aria-expanded=\"false\" title=\"求職與政令宣導\">\n",
            "                        求職與政令宣導\n",
            "                      </a>\n",
            "                    </div>\n",
            "                  </div>\n",
            "                  <div id=\"collapse-links-jobs\" class=\"panel-collapse in collapse\">\n",
            "                    <div class=\"panel-body row links-wrap\">\n",
            "                      <div class=\"col-6 col-md-3\">\n",
            "                        <a class=\"item\" href=\"http://questionnaire.must.edu.tw/\" target=\"_blank\" title=\"求職徵才專區(另開視窗)\"><img src=\"images/links-icon23.svg\" alt=\"求職徵才專區 icon\"><span class=\"title\">求職徵才專區</span></a>\n",
            "                      </div>\n",
            "                      <div class=\"col-6 col-md-3\">\n",
            "                        <a class=\"item\" href=\"http://webc1.must.edu.tw/jtmust069/index.php/2017-02-22-01-45-30/384-2022-3-10\" target=\"_blank\" title=\"2022校園徵才就業博覽會(另開視窗)\"><img src=\"images/links-icon24.svg\" alt=\"2022校園徵才就業博覽會 icon\"><span class=\"title\">2022校園徵才就業博覽會</span></a>\n",
            "                      </div>\n",
            "                      <div class=\"col-6 col-md-3\">\n",
            "                        <a class=\"item\" href=\"https://ucan.moe.edu.tw/Account/Login.aspx\" target=\"_blank\" title=\"UCAN大專校院就職平台網站(另開視窗)\"><img src=\"images/links-icon25.svg\" alt=\"UCAN大專校院就職平台網站 icon\"><span class=\"title\">UCAN大專校院就職平台網站</span></a>\n",
            "                      </div>\n",
            "                      <div class=\"col-6 col-md-3\">\n",
            "                        <a class=\"item\" href=\"http://www.moex.gov.tw/\" target=\"_blank\" title=\"考選部全球資訊網(另開視窗)\"><img src=\"images/links-icon26.svg\" alt=\"考選部全球資訊網 icon\"><span class=\"title\">考選部全球資訊網</span></a>\n",
            "                      </div>\n",
            "                      <div class=\"col-6 col-md-3\">\n",
            "                        <a class=\"item\" href=\"http://www.104.com.tw/\" target=\"_blank\" title=\"104人力銀行(另開視窗)\"><img src=\"images/links-icon27.svg\" alt=\"104人力銀行 icon\"><span class=\"title\">104人力銀行</span></a>\n",
            "                      </div>\n",
            "                      <div class=\"col-6 col-md-3\">\n",
            "                        <a class=\"item\" href=\"http://www.1111.com.tw/\" target=\"_blank\" title=\"1111人力銀行(另開視窗)\"><img src=\"images/links-icon28.svg\" alt=\"1111人力銀行 icon\"><span class=\"title\">1111人力銀行</span></a>\n",
            "                      </div>\n",
            "                      <div class=\"col-6 col-md-3\">\n",
            "                        <a class=\"item\" href=\"https://questionnaire.must.edu.tw/\" target=\"_blank\" title=\"畢業生流向追蹤問卷調查(另開視窗)\"><img src=\"images/links-icon29.svg\" alt=\"畢業生流向追蹤問卷調查 icon\"><span class=\"title\">畢業生流向追蹤問卷調查</span></a>\n",
            "                      </div>\n",
            "\n",
            "                      <div class=\"col-6 col-md-3\">\n",
            "                        <a class=\"item\" href=\"https://www.mol.gov.tw/topic/44761/48532/?roleL1=48555\" target=\"_blank\" title=\"110年協助應屆畢業青年就業措施(另開視窗)\"><img src=\"images/110-101-icon.svg\" alt=\"110應屆畢青年架構 icon\"><span class=\"title\">110年協助應屆畢業青年就業措施</span></a>\n",
            "                      </div>\n",
            "\n",
            "                    </div>\n",
            "                  </div>\n",
            "                </div>\n",
            "              </div>\n",
            "              <!-- 主題宣導-->\n",
            "              <div class=\"tab-pane\" id=\"pills-links-theme\" role=\"tabpanel\" aria-labelledby=\"pills-links-theme-tab\">\n",
            "                <div class=\"panel panel-default\">\n",
            "                  <div class=\"panel-heading\">\n",
            "                    <div class=\"panel-title\">\n",
            "                      <a data-toggle=\"collapse\" data-parent=\".tab-pane\" href=\"#collapse-links-theme\" class=\"collapsed\" aria-expanded=\"false\" title=\"主題宣導\">\n",
            "                        主題宣導\n",
            "                      </a>\n",
            "                    </div>\n",
            "                  </div>\n",
            "                  <div id=\"collapse-links-theme\" class=\"panel-collapse in collapse\">\n",
            "                    <div class=\"panel-body row links-wrap\">\n",
            "                      <div class=\"col-6 col-md-3\">\n",
            "                        <a class=\"item\" href=\"http://webc1.must.edu.tw/jtmust064/\" target=\"_blank\" title=\"性別平等教育專區(另開視窗)\"><img src=\"images/links-icon30.svg\" alt=\"性別平等教育專區 icon\"><span class=\"title\">性別平等教育專區</span></a>\n",
            "                      </div>\n",
            "                      <div class=\"col-6 col-md-3\">\n",
            "                        <a class=\"item\" href=\"http://webc1.must.edu.tw/mustj007/index.php/2017-02-17-06-43-19/2017-02-18-01-40-56/2017-02-18-06-30-33\" target=\"_blank\" title=\"性騷擾暨性侵犯申訴管道(另開視窗)\"><img src=\"images/links-icon31.svg\" alt=\"性騷擾暨性侵犯申訴管道 icon\"><span class=\"title\">性騷擾暨性侵犯申訴管道</span></a>\n",
            "                      </div>\n",
            "                      <div class=\"col-6 col-md-3\">\n",
            "                        <a class=\"item\" href=\"http://webs.must.edu.tw/ocmust004/index.php/2017-09-04-05-42-33\" target=\"_blank\" title=\"保護及尊重智慧財產權(另開視窗)\"><img src=\"images/links-icon32.svg\" alt=\"保護及尊重智慧財產權 icon\"><span class=\"title\">保護及尊重智慧財產權</span></a>\n",
            "                      </div>\n",
            "                      <div class=\"col-6 col-md-3\">\n",
            "                        <a class=\"item\" href=\"http://webs.must.edu.tw/ocmust004/index.php/2017-09-04-05-43-40\" target=\"_blank\" title=\"個資保護專區(另開視窗)\"><img src=\"images/links-icon33.svg\" alt=\"個資保護專區 icon\"><span class=\"title\">個資保護專區</span></a>\n",
            "                      </div>\n",
            "                      <div class=\"col-6 col-md-3\">\n",
            "                        <a class=\"item\" href=\"http://www.165.gov.tw/\" target=\"_blank\" title=\"警政署反詐騙165(另開視窗)\"><img src=\"images/links-icon34.svg\" alt=\"警政署反詐騙165 icon\"><span class=\"title\">警政署反詐騙165</span></a>\n",
            "                      </div>\n",
            "                      <div class=\"col-6 col-md-3\">\n",
            "                        <a class=\"item\" href=\"https://nit.immigration.gov.tw/\" target=\"_blank\" title=\"新住民數位資訊e網(另開視窗)\"><img src=\"images/links-icon35.svg\" alt=\"新住民數位資訊e網 icon\"><span class=\"title\">新住民數位資訊e網</span></a>\n",
            "                      </div>\n",
            "\t\t\t\t\t\t\n",
            "\t\t\t\t\t   <div class=\"col-6 col-md-3\">\n",
            "                      <a class=\"item\" href=\"https://www.youtube.com/playlist?list=PLaCYi1qylJvZKZ-AIxa7tqM2-C251sKvH\" target=\"_blank\" title=\"110年工業及服務業普查宣導(另開視窗)\"><img src=\"images/links-icon45.svg\" alt=\"110年工業及服務業普查宣導 icon\"><span class=\"title\">110年工業及服務業普查宣導</span></a>\n",
            "                    </div>\n",
            "\t\t\t\t\t\t\n",
            "                    </div>\n",
            "                  </div>\n",
            "                </div>\n",
            "              </div>\n",
            "              <!-- 其他-->\n",
            "              <div class=\"tab-pane\" id=\"pills-links-other\" role=\"tabpanel\" aria-labelledby=\"pills-links-other-tab\">\n",
            "                <div class=\"panel panel-default\">\n",
            "                  <div class=\"panel-heading\">\n",
            "                    <div class=\"panel-title\">\n",
            "                      <a data-toggle=\"collapse\" data-parent=\".tab-pane\" href=\"#collapse-links-other\" class=\"collapsed\" aria-expanded=\"false\" title=\"其他\">\n",
            "                        其他\n",
            "                      </a>\n",
            "                    </div>\n",
            "                  </div>\n",
            "                  <div id=\"collapse-links-other\" class=\"panel-collapse in collapse\">\n",
            "                    <div class=\"panel-body row links-wrap\">\n",
            "                      <div class=\"col-6 col-md-3\">\n",
            "                        <a class=\"item\" href=\"https://actss.must.edu.tw/MingStdAssocD/main.aspx\" target=\"_blank\" title=\"學生社團管理系統(另開視窗)\"><img src=\"images/links-icon36.svg\" alt=\"學生社團管理系統 icon\"><span class=\"title\">學生社團管理系統</span></a>\n",
            "                      </div>\n",
            "                      <div class=\"col-6 col-md-3\">\n",
            "                        <a class=\"item\" href=\"http://webc2.must.edu.tw/jtmust037\" target=\"_blank\" title=\"學生住宿相關資訊(另開視窗)\"><img src=\"images/links-icon37.svg\" alt=\"學生住宿相關資訊 icon\"><span class=\"title\">學生住宿相關資訊</span></a>\n",
            "                      </div>\n",
            "                      <div class=\"col-6 col-md-3\">\n",
            "                        <a class=\"item\" href=\"https://mustwebsystem.must.edu.tw/muststdsystem\" target=\"_blank\" title=\"學生住宿資訊系統(另開視窗)\"><img src=\"images/links-icon38.svg\" alt=\"學生住宿資訊系統 icon\"><span class=\"title\">學生住宿資訊系統</span></a>\n",
            "                      </div>\n",
            "                      <div class=\"col-6 col-md-3\">\n",
            "                        <a class=\"item\" href=\"https://tronclass.must.edu.tw/\" target=\"_blank\" title=\"TronClass數位學習平台系統(另開視窗)\"><img src=\"images/links-icon39.svg\" alt=\"TronClass數位學習平台系統 icon\"><span class=\"title\">TronClass數位學習平台系統</span></a>\n",
            "                      </div>\n",
            "                      <div class=\"col-6 col-md-3\">\n",
            "                        <a class=\"item\" href=\"http://webhdd2.must.edu.tw/\" target=\"_blank\" title=\"網路硬碟(新)(另開視窗)\"><img src=\"images/links-icon40.svg\" alt=\"網路硬碟(新) icon\"><span class=\"title\">網路硬碟(新)</span></a>\n",
            "                      </div>\n",
            "                      <div class=\"col-6 col-md-3\">\n",
            "                        <a class=\"item\" href=\"http://www.cc.must.edu.tw/maintain-online/conkout_state.asp\" target=\"_blank\" title=\"電腦維修服務(另開視窗)\"><img src=\"images/links-icon41.svg\" alt=\"電腦維修服務 icon\"><span class=\"title\">電腦維修服務</span></a>\n",
            "                      </div>\n",
            "                      <div class=\"col-6 col-md-3\">\n",
            "                        <a class=\"item\" href=\"http://ftp.must.edu.tw/\" target=\"_blank\" title=\"全校授權軟體下載(僅限校內使用)(另開視窗)\"><img src=\"images/links-icon42.svg\" alt=\"全校授權軟體下載(僅限校內使用) icon\"><span class=\"title\">全校授權軟體下載(僅限校內使用)</span></a>\n",
            "                      </div>\n",
            "                      <div class=\"col-6 col-md-3\">\n",
            "                        <a class=\"item\" href=\"https://accounting.must.edu.tw/alltop_bus/index.php\" target=\"_blank\" title=\"付款紀錄查詢系統(另開視窗)\"><img src=\"images/links-icon43.svg\" alt=\"付款紀錄查詢系統 icon\"><span class=\"title\">付款紀錄查詢系統</span></a>\n",
            "                      </div>\n",
            "                    </div>\n",
            "                  </div>\n",
            "                </div>\n",
            "              </div>\n",
            "            </div>\n",
            "          </div>\n",
            "        </div>\n",
            "      </div>\n",
            "    </div>\n",
            "    </maiin>\n",
            "    <footer>\n",
            "    <div class=\"container\">\n",
            "        <div class=\"row\">\n",
            "            <div class=\"col-12 col-md-7 item\">\n",
            "                <div class=\"title\">校園連結</div>\n",
            "                <ul class=\"campus-links\">\n",
            "                    <li><a href=\"https://mustwebsystem.must.edu.tw/\" target=\"_blank\"\n",
            "                            title=\"教職員校務行政資訊系統 (單一簽入)(另開視窗)\">教職員校務行政資訊系統 (單一簽入)</a></li>\n",
            "                    <li><a href=\"https://teachinfo.must.edu.tw\" target=\"_blank\"\n",
            "                            title=\"教職員資訊服務系統(另開視窗)\">教職員資訊服務系統</a></li>\n",
            "                    <li><a href=\"http://mail.must.edu.tw/\" target=\"_blank\" title=\"教職員郵件服務系統(另開視窗)\">教職員郵件服務系統</a></li>\n",
            "                    <li><a href=\"https://accounting.must.edu.tw/alltop/\" target=\"_blank\" title=\"會計總務系統(另開視窗)\">會計總務系統</a>\n",
            "                    </li>\n",
            "                    <li><a href=\"https://frdp.must.edu.tw/industrywebsystem/\" target=\"_blank\"\n",
            "                            title=\"教師進行產業研習或研究管理系統(另開視窗)\">教師進行產業研習或研究管理系統</a></li>\n",
            "                    <li><a href=\"https://sss.must.edu.tw/RWD_CosInfo/\" target=\"_blank\"\n",
            "                            title=\"開課資訊查詢服務(另開視窗)\">開課資訊查詢服務</a></li>\n",
            "                    <li><a href=\"https://sss.must.edu.tw/tuiRegistry/tuiRegistry_index.asp\" target=\"_blank\"\n",
            "                            title=\"學雜費網路服務系統(另開視窗)\">學雜費網路服務系統</a></li>\n",
            "                    <li><a href=\"https://sss.must.edu.tw/\" target=\"_blank\" title=\"學生資訊服務系統(另開視窗)\">學生資訊服務系統</a></li>\n",
            "                    <li><a href=\"https://mustwebsystem.must.edu.tw/muststdsystem/index.aspx\" target=\"_blank\" title=\"校務學生資訊系統(另開視窗)\">校務學生資訊系統</a>\n",
            "                    </li>\n",
            "                    <li><a href=\"http://std.must.edu.tw/\" target=\"_blank\" title=\"學生郵件服務系統(另開視窗)\">學生郵件服務系統</a></li>\n",
            "                    <li><a href=\"https://sss.must.edu.tw/?system=b3\" target=\"_blank\"\n",
            "                            title=\"電子歷程檔案系統(另開視窗)\">電子歷程檔案系統(e-Portfolio)</a></li>\n",
            "                    <li><a href=\"https://int.must.edu.tw/\" target=\"_blank\" title=\"校外實習管理系統(另開視窗)\">校外實習管理系統</a></li>\n",
            "                    <li><a href=\"https://actss.must.edu.tw/MingStdAssocD/main.aspx\" target=\"_blank\"\n",
            "                            title=\"學生社團(另開視窗)\">學生社團</a></li>\n",
            "                    <li><a href=\"https://webc2.must.edu.tw/jtmust037\" target=\"_blank\" title=\"學生住宿相關資訊(另開視窗)\">學生住宿相關資訊</a>\n",
            "                    </li>\n",
            "                    <li><a href=\"https://sss.must.edu.tw/?system=b5\" target=\"_blank\"\n",
            "                            title=\"進修部學生網路請假系統(另開視窗)\">進修部學生網路請假系統</a></li>\n",
            "                    <li><a href=\"httpS://tronclass.must.edu.tw/\" target=\"_blank\"\n",
            "                            title=\"TronClass數位學習平台系統(另開視窗)\">TronClass數位學習平台系統</a></li>\n",
            "                    <li><a href=\"http://webhdd2.must.edu.tw/\" target=\"_blank\" title=\"網路硬碟(新)(另開視窗)\">網路硬碟(新)</a></li>\n",
            "                    <li><a href=\"https://questionnaire.must.edu.tw/\" target=\"_blank\" title=\"畢業生流向追蹤問卷調查(另開視窗)\">畢業生流向追蹤問卷調查</a></li>\n",
            "                    <li><a href=\"https://u1.must.edu.tw/\" target=\"_blank\" title=\"行政u1管理系統(另開視窗)\">行政u1管理系統</a></li>\n",
            "                    <li><a href=\"https://sss.must.edu.tw/?system=b4\" target=\"_blank\" title=\"學生離校申請(另開視窗)\">學生離校申請</a>\n",
            "                    </li>\n",
            "                    <li><a href=\"https://admin.must.edu.tw/index.aspx?UnitID=130\" target=\"_blank\" title=\"新竹縣北區居家托育服務中心-將另開新視窗\">新竹縣北區居家托育服務中心(原社區保母系統)</a></li>              \n",
            "\t\t\t\t\t<li><a href=\"https://journal.must.edu.tw/\" target=\"_blank\" title=\"明新學報-將另開新視窗\">明新學報</a></li>\n",
            "\t\t\t\t\t<li><a href=\"http://webs.must.edu.tw/must055/\" title=\"明新55校慶\" target=\"_blank\">明新55校慶</a></li>\n",
            "\t\t\t\t\t</ul>\n",
            "\n",
            "            </div>\n",
            "            <div class=\"col-12 col-md-5 item\">\n",
            "                <div class=\"title\">資訊公開連結</div>\n",
            "                <ul class=\"info-links\">\n",
            "                    <li><a href=\"http://webs.must.edu.tw/ocmust008/\" target=\"_blank\" title=\"校務公開資訊(另開視窗)\">校務公開資訊</a>\n",
            "                    </li>\n",
            "                    <li><a href=\"http://webs.must.edu.tw/jtmust060\" target=\"_blank\" title=\"弱勢助學勸募(另開視窗)\">弱勢助學勸募</a></li>\n",
            "                    <li><a href=\"http://webc2.must.edu.tw/jtmust008\" target=\"_blank\" title=\"活動展覽(另開視窗)\">活動展覽</a></li>\n",
            "                    <li><a href=\"https://sss.must.edu.tw/pars_new/pars_index.asp\" target=\"_blank\"\n",
            "                            title=\"家長關懷系統(另開視窗)\">家長關懷系統</a></li>\n",
            "                    <li><a href=\"http://webc1.must.edu.tw/jtmust064/\" target=\"_blank\"\n",
            "                            title=\"性別平等教育專區(另開視窗)\">性別平等教育專區</a></li>\n",
            "                    <li><a href=\"http://webc1.must.edu.tw/mustj007/index.php/2017-02-17-06-43-19/2017-02-18-01-40-56/2017-02-18-06-30-33\"\n",
            "                            target=\"_blank\" title=\"1性騷擾暨性侵犯申訴管道(另開視窗)\">性騷擾暨性侵犯申訴管道</a></li>\n",
            "                    <li><a href=\"http://webs.must.edu.tw/ocmust004/index.php/2017-09-04-05-42-33\" target=\"_blank\"\n",
            "                            title=\"保護及尊重智慧財產權(另開視窗)\">保護及尊重智慧財產權</a></li>\n",
            "                    <li><a href=\"http://webs.must.edu.tw/ocmust004/index.php/2017-09-04-05-43-40\" target=\"_blank\"\n",
            "                            title=\"個資保護專區(另開視窗)\">個資保護專區</a></li>\n",
            "                    <li><a href=\"https://nit.immigration.gov.tw/\" target=\"_blank\" title=\"新住民數位資訊e網(另開視窗)\">新住民數位資訊e網</a>\n",
            "                    </li>\n",
            "                    <li><a href=\"https://accounting.must.edu.tw/alltop_bus/index.php\" target=\"_blank\"\n",
            "                            title=\"付款紀錄查詢系統(另開視窗)\">付款紀錄查詢系統</a></li>\n",
            "                    <li><a href=\"https://165.npa.gov.tw/#/\" target=\"_blank\" title=\"警政署反詐騙165(另開視窗)\">警政署反詐騙165</a></li>\n",
            "                    <li><a href=\"https://www.moj.gov.tw/lp-198-001.html\" target=\"_blank\"\n",
            "                            title=\"法務部「個人資料保護專區」(另開視窗)\">法務部「個人資料保護專區」</a></li>\n",
            "                    <li><a href=\"https://ucan.moe.edu.tw/Account/Login.aspx\" target=\"_blank\"\n",
            "                            title=\"UCAN大專校院就職平台網站(另開視窗)\">UCAN大專校院就職平台網站</a></li>\n",
            "                    <li><a href=\"http://webc1.must.edu.tw/jtmust069/index.php/2017-02-22-01-45-30/384-2022-3-10\"\n",
            "                            target=\"_blank\" title=\"2021校園徵才就業博覽會(另開視窗)\">2022校園徵才就業博覽會</a></li>\n",
            "                    <li><a href=\"http://www.104.com.tw/\" target=\"_blank\" title=\"104人力銀行(另開視窗)\">104人力銀行</a></li>\n",
            "                    <li><a href=\"http://www.1111.com.tw/\" target=\"_blank\" title=\"1111人力銀行(另開視窗)\">1111人力銀行</a></li>\n",
            "                </ul>\n",
            "            </div>\n",
            "            <div class=\"col-12 col-md-6 item\">\n",
            "\n",
            "                <div class=\"title\">資訊公開連結</div>\n",
            "                <div class=\"wrap\">\n",
            "                    <p>電話：<a href=\"tel:+886-3-5593142\">+886-3-5593142</a></p>\n",
            "                    <p>傳真：+886-3-5595142</p>\n",
            "                    <p>地址：30401新竹縣新豐鄉新興路1號 <a href=\"https://goo.gl/maps/ME8bUnh4pXq3fhfe8\" target=\"_blank\"><img\n",
            "                                src=\"https://www.must.edu.tw/images/ui/map-icon.svg\" alt=\"MustMap\"></a></p>\n",
            "                </div>\n",
            "            </div>\n",
            "            <div class=\"col-12 col-md-6 item\">\n",
            "                <div class=\"title\">Follow us 明新社群</div>\n",
            "                <div class=\"row\">\n",
            "                    <div class=\"share col-7\">\n",
            "                        <div class=\"share-item\"><a href=\"https://www.facebook.com/mustminghsin\" target=\"_blank\"\n",
            "                                title=\"明新FB(另開視窗)\"><img src=\"https://www.must.edu.tw/images/ui/fb.svg\" alt=\"明新FB圖示\"></a>\n",
            "                        </div>\n",
            "                        <div class=\"share-item\"><a href=\"http://bit.ly/2Qehz1x\" target=\"_blank\" title=\"明新IG另開視窗)\"><img\n",
            "                                    src=\"https://www.must.edu.tw/images/ui/ig.svg\" alt=\"明新IG圖示\"></a></div>\n",
            "                        <div class=\"share-item\"><a href=\"http://bit.ly/3mt4Uoy\" target=\"_blank\"\n",
            "                                title=\"明新line(另開視窗)\"><img src=\"https://www.must.edu.tw/images/ui/line.svg\"\n",
            "                                    alt=\"明新line圖示\"></a></div>\n",
            "                        <div class=\"share-item\"><a href=\"http://bit.ly/2RCwpha\" target=\"_blank\"\n",
            "                                title=\"明新youtube(另開視窗)\"><img src=\"https://www.must.edu.tw/images/ui/youtube.svg\"\n",
            "                                    alt=\"明新youtube圖示\"></a></div>\n",
            "                    </div>\n",
            "                    <div class=\"col-5 text-right\"> <a\n",
            "                            href=\"https://accessibility.ncc.gov.tw/Applications/Detail?category=20210225163710\"\n",
            "                            title=\"無障礙網站\">\n",
            "                            <img src=\"https://www.must.edu.tw/images/ui/accessibility.jpg\" width=\"88\" height=\"31\"\n",
            "                                alt=\"通過AA無障礙網頁檢測\" />\n",
            "                        </a></div>\n",
            "\n",
            "                </div>\n",
            "            </div>\n",
            "        </div>\n",
            "    </div>\n",
            "</footer>\n",
            "<div class=\"footnav\">\n",
            "    <div class=\"container\">\n",
            "        <ul class=\"nav\">\n",
            "            <li><a href=\"#accesskeyB\" title=\"下方導覽連結區\" accesskey=\"B\" name=\"accesskeyB\">:::</a></li>\n",
            "            <li><a href=\"https://goo.gl/maps/1iNJQAPueee78wxw6\" title=\"明新科大校園地圖(另開視窗)\">明新科大校園地圖</a></li>\n",
            "            <li><a href=\"http://webc1.must.edu.tw/jtmust068\" title=\"緊急聯絡-校安中心值班電話-0937623842\">緊急聯絡電話</a></li>\n",
            "            <li><a href=\"http://webs.must.edu.tw/ocmust004/images/file/pims/pims-1-01.pdf\"\n",
            "                    title=\"個資保護政策pdf(另開視窗)\">個資保護政策</a></li>\n",
            "            <li><a href=\"http://webs.must.edu.tw/ocmust004/images/file/isms/isms.pdf\" title=\"資訊安全政策pdf(另開視窗)\">資訊安全政策</a>\n",
            "            </li>\n",
            "        </ul>\n",
            "        <div class=\"copyright\">明新科技大學 版權所有© All Rights Reserved. | Designed by <a href=\"https://www.gglisten.com/\"\n",
            "                target=\"_blank\">GGlisten</a> X <a href=\"https://www.cadiis.com.tw/\" target=\"_blank\">Cadiis</a></div>\n",
            "    </div>\n",
            "</div>\n",
            "\n",
            "<script src=\"https://code.jquery.com/jquery-1.12.4.js\"></script>\n",
            "<script src=\"https://www.must.edu.tw/templates/plugin/popper.min.js\"></script>\n",
            "<script src=\"https://cdnjs.cloudflare.com/ajax/libs/waypoints/2.0.3/waypoints.min.js\"></script>\n",
            "<script src=\"https://www.must.edu.tw/templates/plugin/counter-up/jquery.counterup.min.js\"></script>\n",
            "<script src=\"https://www.must.edu.tw/templates/plugin/bootstrap/js/bootstrap.min.js\"></script>\n",
            "<script src=\"https://www.must.edu.tw/templates/plugin/slick/slick.min.js\"></script>\n",
            "<NOSCRIPT>\n",
            "    <P>您的瀏覽器不支援JavaScript功能，若網頁功能無法正常使用時，請開啟瀏覽器JavaScript狀態</P>\n",
            "</NOSCRIPT></body>\n",
            "\n",
            "<script>\n",
            "  $('.slider,.s-slider,.slider-m').slick({\n",
            "    dots: false,\n",
            "    infinite: true,\n",
            "    speed: 1000,\n",
            "    fade: true,\n",
            "    adaptiveHeight: true,\n",
            "    cssEase: 'linear',\n",
            "    autoplay: true,\n",
            "    adaptiveHeight: false\n",
            "  });\n",
            "\n",
            "  $('.panel-title').click(function() {\n",
            "    $(this).toggleClass('open');\n",
            "  });\n",
            "\n",
            "  $('.home-events,.home-videos,.home-predecessor').slick({\n",
            "    arrows: false,\n",
            "    dots: true,\n",
            "    infinite: true,\n",
            "    speed: 300,\n",
            "    slidesToShow: 3,\n",
            "    slidesToScroll: 3,\n",
            "    responsive: [{\n",
            "        breakpoint: 1025,\n",
            "        settings: {\n",
            "          slidesToShow: 2,\n",
            "          slidesToScroll: 2,\n",
            "          infinite: true,\n",
            "          dots: true\n",
            "        }\n",
            "      },\n",
            "      {\n",
            "        breakpoint: 768,\n",
            "        settings: {\n",
            "          slidesToShow: 1,\n",
            "          slidesToScroll: 1\n",
            "        }\n",
            "      },\n",
            "      {\n",
            "        breakpoint: 480,\n",
            "        settings: {\n",
            "          slidesToShow: 1,\n",
            "          slidesToScroll: 1\n",
            "        }\n",
            "      }\n",
            "    ]\n",
            "  });\n",
            "\n",
            "  $('.counter').counterUp({\n",
            "    delay: 10,\n",
            "    time: 1000\n",
            "  });\n",
            "\n",
            "  this.addEventListener(\"click\", function(event) {\n",
            "    let btnSearch = event.target.closest('.search-btn');\n",
            "    let btnArray = new Array(btnSearch);\n",
            "    btnArray.forEach(function(btnItem) {\n",
            "      if (btnItem) {\n",
            "        switch (btnItem.classList.length) {\n",
            "          case 1:\n",
            "            if (btnItem.classList.contains('search-btn')) {\n",
            "              jQuery('.search_index').fadeToggle();\n",
            "            }\n",
            "            break;\n",
            "          default:\n",
            "            break;\n",
            "        }\n",
            "      } else {\n",
            "        if (event.target.form !== undefined && event.target.form.id === 'search') {\n",
            "          return;\n",
            "        }\n",
            "        jQuery('.search_index').fadeOut(300);\n",
            "      }\n",
            "    }), false\n",
            "  });\n",
            "\n",
            "  $(window).scroll(function() {\n",
            "    var winTop = $(window).scrollTop();\n",
            "    if (winTop >= 500) {\n",
            "      $(\"body\").addClass(\"sticky-header\");\n",
            "    } else {\n",
            "      $(\"body\").removeClass(\"sticky-header\");\n",
            "    } //if-else\n",
            "  }); //win func.\n",
            "</script>\n",
            "\n",
            "</html>\n"
          ]
        }
      ]
    },
    {
      "cell_type": "code",
      "source": [
        "import calendar\n",
        "print (calendar.calendar(2002))"
      ],
      "metadata": {
        "colab": {
          "base_uri": "https://localhost:8080/"
        },
        "id": "8uMSRY8nn_p_",
        "outputId": "ea6e4963-fdb8-4fea-9d29-ad3a10ee7c90"
      },
      "execution_count": 9,
      "outputs": [
        {
          "output_type": "stream",
          "name": "stdout",
          "text": [
            "                                  2002\n",
            "\n",
            "      January                   February                   March\n",
            "Mo Tu We Th Fr Sa Su      Mo Tu We Th Fr Sa Su      Mo Tu We Th Fr Sa Su\n",
            "    1  2  3  4  5  6                   1  2  3                   1  2  3\n",
            " 7  8  9 10 11 12 13       4  5  6  7  8  9 10       4  5  6  7  8  9 10\n",
            "14 15 16 17 18 19 20      11 12 13 14 15 16 17      11 12 13 14 15 16 17\n",
            "21 22 23 24 25 26 27      18 19 20 21 22 23 24      18 19 20 21 22 23 24\n",
            "28 29 30 31               25 26 27 28               25 26 27 28 29 30 31\n",
            "\n",
            "       April                      May                       June\n",
            "Mo Tu We Th Fr Sa Su      Mo Tu We Th Fr Sa Su      Mo Tu We Th Fr Sa Su\n",
            " 1  2  3  4  5  6  7             1  2  3  4  5                      1  2\n",
            " 8  9 10 11 12 13 14       6  7  8  9 10 11 12       3  4  5  6  7  8  9\n",
            "15 16 17 18 19 20 21      13 14 15 16 17 18 19      10 11 12 13 14 15 16\n",
            "22 23 24 25 26 27 28      20 21 22 23 24 25 26      17 18 19 20 21 22 23\n",
            "29 30                     27 28 29 30 31            24 25 26 27 28 29 30\n",
            "\n",
            "        July                     August                  September\n",
            "Mo Tu We Th Fr Sa Su      Mo Tu We Th Fr Sa Su      Mo Tu We Th Fr Sa Su\n",
            " 1  2  3  4  5  6  7                1  2  3  4                         1\n",
            " 8  9 10 11 12 13 14       5  6  7  8  9 10 11       2  3  4  5  6  7  8\n",
            "15 16 17 18 19 20 21      12 13 14 15 16 17 18       9 10 11 12 13 14 15\n",
            "22 23 24 25 26 27 28      19 20 21 22 23 24 25      16 17 18 19 20 21 22\n",
            "29 30 31                  26 27 28 29 30 31         23 24 25 26 27 28 29\n",
            "                                                    30\n",
            "\n",
            "      October                   November                  December\n",
            "Mo Tu We Th Fr Sa Su      Mo Tu We Th Fr Sa Su      Mo Tu We Th Fr Sa Su\n",
            "    1  2  3  4  5  6                   1  2  3                         1\n",
            " 7  8  9 10 11 12 13       4  5  6  7  8  9 10       2  3  4  5  6  7  8\n",
            "14 15 16 17 18 19 20      11 12 13 14 15 16 17       9 10 11 12 13 14 15\n",
            "21 22 23 24 25 26 27      18 19 20 21 22 23 24      16 17 18 19 20 21 22\n",
            "28 29 30 31               25 26 27 28 29 30         23 24 25 26 27 28 29\n",
            "                                                    30 31\n",
            "\n"
          ]
        }
      ]
    },
    {
      "cell_type": "code",
      "source": [
        "plt.pie(y, labels=x)\n",
        "plt.show"
      ],
      "metadata": {
        "colab": {
          "base_uri": "https://localhost:8080/",
          "height": 266
        },
        "id": "A42S3KxdoCkJ",
        "outputId": "9d3eef96-a99f-4e5b-b014-db2732457537"
      },
      "execution_count": 10,
      "outputs": [
        {
          "output_type": "execute_result",
          "data": {
            "text/plain": [
              "<function matplotlib.pyplot.show>"
            ]
          },
          "metadata": {},
          "execution_count": 10
        },
        {
          "output_type": "display_data",
          "data": {
            "text/plain": [
              "<Figure size 432x288 with 1 Axes>"
            ],
            "image/png": "[encoded data removed]"
          },
          "metadata": {}
        }
      ]
    },
    {
      "cell_type": "markdown",
      "source": [
        "# **Chap 1** 運算式、變數與資料型別"
      ],
      "metadata": {
        "id": "0ZrysjwaoDza"
      }
    },
    {
      "cell_type": "code",
      "source": [
        "#單行註解\n",
        "a=1000\n",
        "b=1002\n",
        "print(a+b)"
      ],
      "metadata": {
        "colab": {
          "base_uri": "https://localhost:8080/"
        },
        "id": "cRkQIDsMoFTA",
        "outputId": "78799da4-109c-4a95-ee5f-380168027af2"
      },
      "execution_count": 11,
      "outputs": [
        {
          "output_type": "stream",
          "name": "stdout",
          "text": [
            "2002\n"
          ]
        }
      ]
    },
    {
      "cell_type": "code",
      "source": [
        "'''\n",
        "多行註解\n",
        "多行註解\n",
        "多行註解\n",
        "'''\n",
        "a=3\n",
        "b=5\n",
        "print(a+b)"
      ],
      "metadata": {
        "colab": {
          "base_uri": "https://localhost:8080/"
        },
        "id": "x-00BpvPoHAT",
        "outputId": "8b7b3d31-20f5-4981-ff28-8a5a0c8d77b3"
      },
      "execution_count": 12,
      "outputs": [
        {
          "output_type": "stream",
          "name": "stdout",
          "text": [
            "8\n"
          ]
        }
      ]
    },
    {
      "cell_type": "markdown",
      "source": [
        "# 運算式"
      ],
      "metadata": {
        "id": "vPT7PM6poIvk"
      }
    },
    {
      "cell_type": "code",
      "source": [
        "#變數交換,透過第3變數z\n",
        "x=100\n",
        "y=10\n",
        "\n",
        "z=x\n",
        "x=y\n",
        "y=z\n",
        "print(x)\n",
        "print(y)"
      ],
      "metadata": {
        "colab": {
          "base_uri": "https://localhost:8080/"
        },
        "id": "jMX9CEIQoJbI",
        "outputId": "81c03202-6039-439b-a185-78925aebb8b6"
      },
      "execution_count": 13,
      "outputs": [
        {
          "output_type": "stream",
          "name": "stdout",
          "text": [
            "10\n",
            "100\n"
          ]
        }
      ]
    },
    {
      "cell_type": "code",
      "source": [
        "#變數交換,不透過第3變數\n",
        "x=20\n",
        "y=10\n",
        "x=x+y\n",
        "y=x-y\n",
        "x=x-y\n",
        "print(x,y)"
      ],
      "metadata": {
        "colab": {
          "base_uri": "https://localhost:8080/"
        },
        "id": "TFaP6W8FoMi6",
        "outputId": "f3c9195e-9827-4c22-a48c-8e7012e19011"
      },
      "execution_count": 14,
      "outputs": [
        {
          "output_type": "stream",
          "name": "stdout",
          "text": [
            "10 20\n"
          ]
        }
      ]
    },
    {
      "cell_type": "code",
      "source": [
        "#python的變數交換\n",
        "x=20\n",
        "y=10\n",
        "x,y=y,x\n",
        "print(x,y)"
      ],
      "metadata": {
        "colab": {
          "base_uri": "https://localhost:8080/"
        },
        "id": "jKRzuL4uoNck",
        "outputId": "85c8caf1-0b7b-4215-a263-600f01965cef"
      },
      "execution_count": 15,
      "outputs": [
        {
          "output_type": "stream",
          "name": "stdout",
          "text": [
            "10 20\n"
          ]
        }
      ]
    },
    {
      "cell_type": "markdown",
      "source": [
        "# 變數<br>\n",
        "變數的平行設定"
      ],
      "metadata": {
        "id": "nyP2BalToPnj"
      }
    },
    {
      "cell_type": "code",
      "source": [
        "#變數的平行設定\n",
        "x,y,z=100,10,100\n",
        "print(x,y,z)"
      ],
      "metadata": {
        "colab": {
          "base_uri": "https://localhost:8080/"
        },
        "id": "-ypoMoBfoQlT",
        "outputId": "facd2ba7-34b0-4a69-dc3a-d653c1288a42"
      },
      "execution_count": 16,
      "outputs": [
        {
          "output_type": "stream",
          "name": "stdout",
          "text": [
            "100 10 100\n"
          ]
        }
      ]
    },
    {
      "cell_type": "code",
      "source": [
        "x,y,z=3,4,5\n",
        "x+=1  #x=x+1-1\n",
        "y*=2  #y=y*2\n",
        "z**=3  #z=z**3\n",
        "print(x,y,z)"
      ],
      "metadata": {
        "colab": {
          "base_uri": "https://localhost:8080/"
        },
        "id": "T5tVaY1AoSr3",
        "outputId": "a4caf5ad-b3a5-4777-9984-b178adf76ab8"
      },
      "execution_count": 17,
      "outputs": [
        {
          "output_type": "stream",
          "name": "stdout",
          "text": [
            "4 8 125\n"
          ]
        }
      ]
    },
    {
      "cell_type": "markdown",
      "source": [
        "# 變數的應用<br>\n",
        "Q：邊長為3, 4, 5的三角形，其面積大小為何?<br>\n",
        "海龍公式：<br>\n",
        "s=(a+b+c)/2<br>\n",
        "sqrt(s(s-a)(s-b)(s-c))"
      ],
      "metadata": {
        "id": "SYhdGkz4oUJK"
      }
    },
    {
      "cell_type": "code",
      "source": [
        "import math\n",
        "a,b,c=3,4,5\n",
        "s=(a+b+c)/2\n",
        "d=math.sqrt(s*(s-a)*(s-b)*(s-c))\n",
        "print(d)"
      ],
      "metadata": {
        "colab": {
          "base_uri": "https://localhost:8080/"
        },
        "id": "GPKedTrGoWLJ",
        "outputId": "684e1773-9672-4d23-ec79-d73f8dd664b8"
      },
      "execution_count": 18,
      "outputs": [
        {
          "output_type": "stream",
          "name": "stdout",
          "text": [
            "6.0\n"
          ]
        }
      ]
    },
    {
      "cell_type": "markdown",
      "source": [
        "# 半徑為15的圓形,請問面積大小為何?"
      ],
      "metadata": {
        "id": "LLhyO67LoXke"
      }
    },
    {
      "cell_type": "code",
      "source": [
        "import math\n",
        "r=15\n",
        "print(r*r*math.pi)"
      ],
      "metadata": {
        "colab": {
          "base_uri": "https://localhost:8080/"
        },
        "id": "Rpj3DwNroZCp",
        "outputId": "610304b7-6b40-4de1-9769-2a4a64118cba"
      },
      "execution_count": 19,
      "outputs": [
        {
          "output_type": "stream",
          "name": "stdout",
          "text": [
            "706.8583470577034\n"
          ]
        }
      ]
    },
    {
      "cell_type": "code",
      "source": [
        "#()將字串轉換成數值運算\n",
        "import math\n",
        "r=eval(input(\"請輸入半徑\")) \n",
        "print(r*r*math.pi)"
      ],
      "metadata": {
        "colab": {
          "base_uri": "https://localhost:8080/"
        },
        "id": "W9HIuYkJoaOb",
        "outputId": "71fac516-98c0-4a01-f568-814561d974f6"
      },
      "execution_count": 20,
      "outputs": [
        {
          "output_type": "stream",
          "name": "stdout",
          "text": [
            "請輸入半徑10\n",
            "314.1592653589793\n"
          ]
        }
      ]
    },
    {
      "cell_type": "code",
      "source": [
        "import math\n",
        "r=eval(input(\"請輸入長\")) \n",
        "t=eval(input(\"請輸入寬\"))\n",
        "print(r*t)"
      ],
      "metadata": {
        "colab": {
          "base_uri": "https://localhost:8080/"
        },
        "id": "ErUwkxyPocX2",
        "outputId": "472f9e0a-3e41-4eac-aac4-4103690cc199"
      },
      "execution_count": 21,
      "outputs": [
        {
          "output_type": "stream",
          "name": "stdout",
          "text": [
            "請輸入長15\n",
            "請輸入寬20\n",
            "300\n"
          ]
        }
      ]
    },
    {
      "cell_type": "markdown",
      "source": [
        "# 資料型別<br>\n",
        "python屬於動態類型變數，使用前不需要宣告資料型態"
      ],
      "metadata": {
        "id": "hGoAHabFoeyl"
      }
    },
    {
      "cell_type": "code",
      "source": [
        "#python屬於動態類型變數，使用前不需要宣告資料型態\n",
        "x=254\n",
        "y=254.0\n",
        "z=\"write\"\n",
        "print(type(x))\n",
        "print(type(y))\n",
        "print(type(z))\n",
        "print(type(x==y))"
      ],
      "metadata": {
        "colab": {
          "base_uri": "https://localhost:8080/"
        },
        "id": "3sxfEmgeogjn",
        "outputId": "cde9a96f-dfd0-4502-ba10-7dd05aae96ab"
      },
      "execution_count": 22,
      "outputs": [
        {
          "output_type": "stream",
          "name": "stdout",
          "text": [
            "<class 'int'>\n",
            "<class 'float'>\n",
            "<class 'str'>\n",
            "<class 'bool'>\n"
          ]
        }
      ]
    },
    {
      "cell_type": "markdown",
      "source": [
        "# 符號"
      ],
      "metadata": {
        "id": "M2WeikYIoid5"
      }
    },
    {
      "cell_type": "code",
      "source": [
        "x=10\n",
        "y=20\n",
        "print(x/y)\n",
        "print(x//y) #取商數\n",
        "print(x%y)  #取餘數"
      ],
      "metadata": {
        "colab": {
          "base_uri": "https://localhost:8080/"
        },
        "id": "466wUP1Jokcd",
        "outputId": "ab25f4a3-db45-4aec-f1d8-606b83daaf52"
      },
      "execution_count": 23,
      "outputs": [
        {
          "output_type": "stream",
          "name": "stdout",
          "text": [
            "0.5\n",
            "0\n",
            "10\n"
          ]
        }
      ]
    },
    {
      "cell_type": "markdown",
      "source": [
        "# 注意數字的正確性"
      ],
      "metadata": {
        "id": "D9ve2bHwomrC"
      }
    },
    {
      "cell_type": "code",
      "source": [
        "x=3.141592627\n",
        "print(x-3.14) #比正確值略小"
      ],
      "metadata": {
        "id": "JImhHrEqonYt"
      },
      "execution_count": null,
      "outputs": []
    },
    {
      "cell_type": "markdown",
      "source": [
        "# 算術符號的順序<br>\n",
        "# ()括號 > *次方 > / 乘除 > +-加減"
      ],
      "metadata": {
        "id": "G48Mdeyloou4"
      }
    },
    {
      "cell_type": "code",
      "source": [
        "#()->次方or*->+or-\n",
        "x=(5*(1+2)**2-3+4/2)\n",
        "print(x)"
      ],
      "metadata": {
        "colab": {
          "base_uri": "https://localhost:8080/"
        },
        "id": "xobRHPu-or_m",
        "outputId": "348bdee2-aae2-49b8-b12c-9453778c079c"
      },
      "execution_count": 24,
      "outputs": [
        {
          "output_type": "stream",
          "name": "stdout",
          "text": [
            "44.0\n"
          ]
        }
      ]
    },
    {
      "cell_type": "markdown",
      "source": [
        "# 型態轉換"
      ],
      "metadata": {
        "id": "0ara7waDotRx"
      }
    },
    {
      "cell_type": "code",
      "source": [
        "x=\"must\"\n",
        "print(type(x)) #字串\n",
        "y=10\n",
        "print(type(y)) #數值\n",
        "print(10*y) \n",
        "print(10*x) #字串*10\n",
        "z=\"10\"\n",
        "print(10*z)\n",
        "print(10*int(z)) #字串轉換成數值\n",
        "print(10*float(z)) #字串轉成浮點數\n",
        "print(10*str(y)) #數值轉成字串"
      ],
      "metadata": {
        "colab": {
          "base_uri": "https://localhost:8080/"
        },
        "id": "pvdWRuS-ouTN",
        "outputId": "41a0b8c9-d484-4d32-f75a-f6fac1697d9b"
      },
      "execution_count": 25,
      "outputs": [
        {
          "output_type": "stream",
          "name": "stdout",
          "text": [
            "<class 'str'>\n",
            "<class 'int'>\n",
            "100\n",
            "mustmustmustmustmustmustmustmustmustmust\n",
            "10101010101010101010\n",
            "100\n",
            "100.0\n",
            "10101010101010101010\n"
          ]
        }
      ]
    },
    {
      "cell_type": "code",
      "source": [
        "a=\"This\"+\"is\"+\"a\"+\"book\"\n",
        "print(a)\n",
        "print(\"This\",\"is\",\"a\",\"book\")"
      ],
      "metadata": {
        "colab": {
          "base_uri": "https://localhost:8080/"
        },
        "id": "s3EvJQYMov1E",
        "outputId": "2160bf74-fcc7-440f-93c0-da6358d1caa9"
      },
      "execution_count": 26,
      "outputs": [
        {
          "output_type": "stream",
          "name": "stdout",
          "text": [
            "Thisisabook\n",
            "This is a book\n"
          ]
        }
      ]
    },
    {
      "cell_type": "markdown",
      "source": [
        "## Chap2 流程控制<br>\n",
        "\n",
        "# if else , elif"
      ],
      "metadata": {
        "id": "LpCYdsfeoxQH"
      }
    },
    {
      "cell_type": "code",
      "source": [
        "a=1000\n",
        "b=250\n",
        "if a>b:\n",
        "  print(\"a>b\")\n",
        "elif a==b:\n",
        "  print(\"a=b\")\n",
        "else:\n",
        "  print(\"a<b\")"
      ],
      "metadata": {
        "colab": {
          "base_uri": "https://localhost:8080/"
        },
        "id": "ECLKoS2HoyhP",
        "outputId": "5b642a98-8e8c-422e-daa7-f404f0ede4e4"
      },
      "execution_count": 27,
      "outputs": [
        {
          "output_type": "stream",
          "name": "stdout",
          "text": [
            "a>b\n"
          ]
        }
      ]
    },
    {
      "cell_type": "code",
      "source": [
        "grade=50\n",
        "print(\"成績評鑑\")\n",
        "if grade>=90:\n",
        "   print(\"優等\")\n",
        "elif grade>=80:\n",
        "    print(\"甲等\")\n",
        "elif grade>=70:\n",
        "    print(\"乙等\")\n",
        "elif grade>=60:\n",
        "    print(\"丙等\")\n",
        "else: \n",
        "    print(\"不及格\")"
      ],
      "metadata": {
        "colab": {
          "base_uri": "https://localhost:8080/"
        },
        "id": "hB_QlIuLo0KG",
        "outputId": "125e2490-d3d9-4bea-e484-66805fb661cf"
      },
      "execution_count": 28,
      "outputs": [
        {
          "output_type": "stream",
          "name": "stdout",
          "text": [
            "成績評鑑\n",
            "不及格\n"
          ]
        }
      ]
    },
    {
      "cell_type": "markdown",
      "source": [
        "# for 迴圈"
      ],
      "metadata": {
        "id": "zVt47Gezo1-_"
      }
    },
    {
      "cell_type": "code",
      "source": [
        "for i in range(10): #for迴圈\n",
        "  print(i)\n",
        "for i in range(0,15,1):\n",
        "  print(i) "
      ],
      "metadata": {
        "colab": {
          "base_uri": "https://localhost:8080/"
        },
        "id": "xBC3blpTo3Z4",
        "outputId": "3b701a19-b50c-4e0f-b171-1ccf5954672d"
      },
      "execution_count": 29,
      "outputs": [
        {
          "output_type": "stream",
          "name": "stdout",
          "text": [
            "0\n",
            "1\n",
            "2\n",
            "3\n",
            "4\n",
            "5\n",
            "6\n",
            "7\n",
            "8\n",
            "9\n",
            "0\n",
            "1\n",
            "2\n",
            "3\n",
            "4\n",
            "5\n",
            "6\n",
            "7\n",
            "8\n",
            "9\n",
            "10\n",
            "11\n",
            "12\n",
            "13\n",
            "14\n"
          ]
        }
      ]
    },
    {
      "cell_type": "code",
      "source": [
        "for c in \"I am a humanity\":\n",
        "  print(c)\n",
        "for p in [\"java,python\",\"C#\"]:\n",
        "  print(p) "
      ],
      "metadata": {
        "colab": {
          "base_uri": "https://localhost:8080/"
        },
        "id": "JtBk_Oevo5i1",
        "outputId": "eb64178b-7c12-4b59-c7b1-c04b3639b34f"
      },
      "execution_count": 30,
      "outputs": [
        {
          "output_type": "stream",
          "name": "stdout",
          "text": [
            "I\n",
            " \n",
            "a\n",
            "m\n",
            " \n",
            "a\n",
            " \n",
            "h\n",
            "u\n",
            "m\n",
            "a\n",
            "n\n",
            "i\n",
            "t\n",
            "y\n",
            "java,python\n",
            "C#\n"
          ]
        }
      ]
    },
    {
      "cell_type": "code",
      "source": [
        "i=1\n",
        "sum=0\n",
        "while i < 111:\n",
        "  sum+=i\n",
        "  i+=1\n",
        "\n",
        "print(sum)"
      ],
      "metadata": {
        "colab": {
          "base_uri": "https://localhost:8080/"
        },
        "id": "thJ9kJbWo7T6",
        "outputId": "95ce9960-2f9b-40df-d2bd-f4b6f2ccb4b4"
      },
      "execution_count": 31,
      "outputs": [
        {
          "output_type": "stream",
          "name": "stdout",
          "text": [
            "6105\n"
          ]
        }
      ]
    },
    {
      "cell_type": "code",
      "source": [
        "sum=0\n",
        "for i in range(1,111,2):\n",
        "  sum+=i\n",
        "print(sum)"
      ],
      "metadata": {
        "colab": {
          "base_uri": "https://localhost:8080/"
        },
        "id": "iK-Dqo6ho8e3",
        "outputId": "34a86739-051d-4ac7-e271-c7d8f5c70d03"
      },
      "execution_count": 32,
      "outputs": [
        {
          "output_type": "stream",
          "name": "stdout",
          "text": [
            "3025\n"
          ]
        }
      ]
    },
    {
      "cell_type": "code",
      "source": [
        "for chicken in range(0,36):\n",
        "    rabbit=35-chicken\n",
        "    if (2*chicken+4*rabbit) == 94:\n",
        "        print(\"雞有\",chicken,\"隻,兔子有\",rabbit,\"隻\")\n",
        "        break\n",
        "else:\n",
        "    print(\"無解\")"
      ],
      "metadata": {
        "id": "ziBymA8Lo-N0"
      },
      "execution_count": null,
      "outputs": []
    },
    {
      "cell_type": "markdown",
      "source": [
        "# while迴圈"
      ],
      "metadata": {
        "id": "vB2dcp7go__v"
      }
    },
    {
      "cell_type": "code",
      "source": [
        "sum=0\n",
        "count=1\n",
        "while count <=10:\n",
        "    sum += count\n",
        "    count += 1\n",
        "print(\"1+2+3+...+10=\",sum)"
      ],
      "metadata": {
        "colab": {
          "base_uri": "https://localhost:8080/"
        },
        "id": "PgHOiafppBVF",
        "outputId": "eb1af8d5-a762-49c5-bfc0-0028010087a1"
      },
      "execution_count": 33,
      "outputs": [
        {
          "output_type": "stream",
          "name": "stdout",
          "text": [
            "1+2+3+...+10= 55\n"
          ]
        }
      ]
    },
    {
      "cell_type": "markdown",
      "source": [
        "# 本金10000元，定存年利率0.6%，請問多久銀行存款會翻倍"
      ],
      "metadata": {
        "id": "qJx7iBmUpDCa"
      }
    },
    {
      "cell_type": "code",
      "source": [
        "x=10000\n",
        "years=0\n",
        "while x <= 20000:\n",
        "    x=x*1.006\n",
        "    years += 1\n",
        "print(str(years), \"年以後，存款加倍，為\", int(x),\"元\")"
      ],
      "metadata": {
        "colab": {
          "base_uri": "https://localhost:8080/"
        },
        "id": "7XVSgN43pF4U",
        "outputId": "cd14b4d1-42b3-4ab7-cfe8-1616c010b1d3"
      },
      "execution_count": 34,
      "outputs": [
        {
          "output_type": "stream",
          "name": "stdout",
          "text": [
            "116 年以後，存款加倍，為 20015 元\n"
          ]
        }
      ]
    },
    {
      "cell_type": "markdown",
      "source": [
        "# 帳號密碼判斷"
      ],
      "metadata": {
        "id": "FRe7_wuqpHeN"
      }
    },
    {
      "cell_type": "code",
      "source": [
        "id=\"tony\"\n",
        "pwd=\"1234\"\n",
        "while True:\n",
        "    x=input(\"請輸入帳號：\")\n",
        "    y=input(\"請輸入密碼：\")\n",
        "    if (x==id and y==pwd):\n",
        "        print(\"歡迎登入\")\n",
        "        break\n",
        "    else:\n",
        "        print(\"帳號或密碼輸入錯誤\")"
      ],
      "metadata": {
        "colab": {
          "base_uri": "https://localhost:8080/"
        },
        "id": "vzgUT60JpJc1",
        "outputId": "a326ce48-db72-4eb4-b5d3-c681aedef2be"
      },
      "execution_count": 35,
      "outputs": [
        {
          "output_type": "stream",
          "name": "stdout",
          "text": [
            "請輸入帳號：abc\n",
            "請輸入密碼：567\n",
            "帳號或密碼輸入錯誤\n",
            "請輸入帳號：tony\n",
            "請輸入密碼：1234\n",
            "歡迎登入\n"
          ]
        }
      ]
    },
    {
      "cell_type": "markdown",
      "source": [
        "# 亂數"
      ],
      "metadata": {
        "id": "Y9iDeU8DpSWF"
      }
    },
    {
      "cell_type": "code",
      "source": [
        "import random\n",
        "for i in range(0,10):\n",
        "    print(random.randint(1,9))"
      ],
      "metadata": {
        "colab": {
          "base_uri": "https://localhost:8080/"
        },
        "id": "FFNRx3qVpT0r",
        "outputId": "e55d2994-37b7-454c-8704-9c26a8cfecb2"
      },
      "execution_count": 36,
      "outputs": [
        {
          "output_type": "stream",
          "name": "stdout",
          "text": [
            "3\n",
            "4\n",
            "1\n",
            "7\n",
            "4\n",
            "4\n",
            "4\n",
            "4\n",
            "9\n",
            "5\n"
          ]
        }
      ]
    },
    {
      "cell_type": "markdown",
      "source": [
        "# 猜數字"
      ],
      "metadata": {
        "id": "5xbsPIefpVhG"
      }
    },
    {
      "cell_type": "code",
      "source": [
        "6\n",
        "import random\n",
        "number=random.randint(1,20)\n",
        "while True:\n",
        "    guess=int(input(\"請輸入1~20之間的數字-->\"))\n",
        "    if guess == number:\n",
        "        print(\"你猜對了，數字是\", number)\n",
        "        break\n",
        "    else:\n",
        "        print(\"你猜錯了\")\n",
        "        "
      ],
      "metadata": {
        "colab": {
          "base_uri": "https://localhost:8080/"
        },
        "id": "bezVQopLpWF-",
        "outputId": "0e7a07ab-1fc4-4e2f-9e4e-56a948199eb5"
      },
      "execution_count": 37,
      "outputs": [
        {
          "output_type": "stream",
          "name": "stdout",
          "text": [
            "請輸入1~20之間的數字-->5\n",
            "你猜錯了\n",
            "請輸入1~20之間的數字-->6\n",
            "你猜錯了\n",
            "請輸入1~20之間的數字-->7\n",
            "你猜對了，數字是 7\n"
          ]
        }
      ]
    },
    {
      "cell_type": "markdown",
      "source": [
        "# ***期末考***"
      ],
      "metadata": {
        "id": "1aCB77yjnies"
      }
    },
    {
      "cell_type": "markdown",
      "source": [
        "# **Untitled3-1**"
      ],
      "metadata": {
        "id": "XQDRXSDUlJdU"
      }
    },
    {
      "cell_type": "markdown",
      "source": [
        "# Tuple (元組)<br>\n",
        "tuple(元組)可視為不可改變的串列，tuple跟list很像，但是我們不能新增、刪除或更新tuple的元素。tuple的好處有：\n",
        "\n",
        "\n",
        "1.   佔用較少空間\n",
        "2.   可當作dictionary(字典)的鍵值\n",
        "3.   可當作函式引數\n",
        "\n",
        "\n",
        "\n"
      ],
      "metadata": {
        "id": "c8nH45M_lM1_"
      }
    },
    {
      "cell_type": "code",
      "source": [
        "a_tuple=('python', 'js', 'SQL')\n",
        "print(a_tuple)\n",
        "b_list=['go', 'c#', 'vb']\n",
        "b_tuple=tuple(b_list)\n",
        "print(b_tuple)\n",
        "print(b_tuple[0])"
      ],
      "metadata": {
        "colab": {
          "base_uri": "https://localhost:8080/"
        },
        "id": "2NfARxfTlMTy",
        "outputId": "3629713f-229f-4b34-f0b6-8464dfe3bbfc"
      },
      "execution_count": 1,
      "outputs": [
        {
          "output_type": "stream",
          "name": "stdout",
          "text": [
            "('python', 'js', 'SQL')\n",
            "('go', 'c#', 'vb')\n",
            "go\n"
          ]
        }
      ]
    },
    {
      "cell_type": "markdown",
      "source": [
        "# 字典(dictionary - dict)為帶有鍵值(key)的串列(list)"
      ],
      "metadata": {
        "id": "IrrWagJ9lhB9"
      }
    },
    {
      "cell_type": "code",
      "source": [
        "languages = {}\n",
        "languages = {'name':'python', 'version':'3.7'} #索引值(鍵值)可以自訂\n",
        "print(languages['name'])\n",
        "print(languages['version'])\n",
        "a={0:'python', 1:'java', 2:'SQL'}\n",
        "print(a[0])\n",
        "print(a[1])\n",
        "print(a[2])\n",
        "print(languages)\n",
        "print(languages.keys())\n",
        "print(languages.values())\n",
        "print(languages.items())\n",
        "print('name' in languages)"
      ],
      "metadata": {
        "colab": {
          "base_uri": "https://localhost:8080/"
        },
        "id": "V7oES6fWlhdw",
        "outputId": "b5d50c23-f218-4a5b-daff-fa72bc83af65"
      },
      "execution_count": 2,
      "outputs": [
        {
          "output_type": "stream",
          "name": "stdout",
          "text": [
            "python\n",
            "3.7\n",
            "python\n",
            "java\n",
            "SQL\n",
            "{'name': 'python', 'version': '3.7'}\n",
            "dict_keys(['name', 'version'])\n",
            "dict_values(['python', '3.7'])\n",
            "dict_items([('name', 'python'), ('version', '3.7')])\n",
            "True\n"
          ]
        }
      ]
    },
    {
      "cell_type": "markdown",
      "source": [
        "# **Untitled3**"
      ],
      "metadata": {
        "id": "DkfDZlZ7Bt7S"
      }
    },
    {
      "cell_type": "markdown",
      "source": [
        "# Python物件\n",
        "List[串列] Tuple(元組) Dictionary{字典} Sets{集合}<br>\n",
        "List[串列]<br>\n"
      ],
      "metadata": {
        "id": "JaUHixItMHMz"
      }
    },
    {
      "cell_type": "markdown",
      "source": [
        "# 使用中括號[]包裹元素"
      ],
      "metadata": {
        "id": "BstDEoQeMkc4"
      }
    },
    {
      "cell_type": "code",
      "source": [
        "expenses = [1138, 101, 12, 300, 2049]\n",
        "print(sum(expenses))"
      ],
      "metadata": {
        "colab": {
          "base_uri": "https://localhost:8080/"
        },
        "id": "2hrAHQWQMajF",
        "outputId": "3ccf9fc9-c1e1-4ea9-98a8-2fa61aadf4c4"
      },
      "execution_count": 4,
      "outputs": [
        {
          "output_type": "stream",
          "name": "stdout",
          "text": [
            "3600\n"
          ]
        }
      ]
    },
    {
      "cell_type": "markdown",
      "source": [
        "# 索引"
      ],
      "metadata": {
        "id": "Shd0PRuQMoaB"
      }
    },
    {
      "cell_type": "code",
      "source": [
        "expenses = [1138, 101, 12, 300, 2049]\n",
        "print(expenses[0]) #索引從0開始\n",
        "print(expenses[1])\n",
        "print(expenses[-1]) #倒數第一個\n",
        "print(expenses[-2])"
      ],
      "metadata": {
        "colab": {
          "base_uri": "https://localhost:8080/"
        },
        "id": "C6FR0D_EMmFQ",
        "outputId": "34ce2423-fb81-4d73-c038-fa595f854d81"
      },
      "execution_count": null,
      "outputs": [
        {
          "output_type": "stream",
          "name": "stdout",
          "text": [
            "1138\n",
            "101\n",
            "2049\n",
            "300\n"
          ]
        }
      ]
    },
    {
      "cell_type": "code",
      "source": [
        "my_list0 = [] #空串列\n",
        "my_list1 = list() \n",
        "my_list2 = ['python', 'javascript', 'C#']\n",
        "print(my_list2[0])"
      ],
      "metadata": {
        "colab": {
          "base_uri": "https://localhost:8080/"
        },
        "id": "VQKVwP5iMr42",
        "outputId": "4e00f36e-3750-41e7-e702-3c70140d48f2"
      },
      "execution_count": null,
      "outputs": [
        {
          "output_type": "stream",
          "name": "stdout",
          "text": [
            "python\n"
          ]
        }
      ]
    },
    {
      "cell_type": "markdown",
      "source": [
        "# list的長度"
      ],
      "metadata": {
        "id": "lxk_-DJiMuk6"
      }
    },
    {
      "cell_type": "code",
      "source": [
        "my_list2 = ['python', 'javascript', 'C#']\n",
        "print(len(my_list2))\n",
        "print(len(my_list2[0]))"
      ],
      "metadata": {
        "colab": {
          "base_uri": "https://localhost:8080/"
        },
        "id": "E_vNtKb2MziS",
        "outputId": "0cbf2a5d-69a1-4367-8c5d-3ee0a287aaab"
      },
      "execution_count": null,
      "outputs": [
        {
          "output_type": "stream",
          "name": "stdout",
          "text": [
            "3\n",
            "6\n"
          ]
        }
      ]
    },
    {
      "cell_type": "markdown",
      "source": [
        "# 附加"
      ],
      "metadata": {
        "id": "x5hxPvAVM1y7"
      }
    },
    {
      "cell_type": "code",
      "source": [
        "my_list2 = ['python', 'javascript', 'C#']\n",
        "my_list2.append('java')\n",
        "print(my_list2)"
      ],
      "metadata": {
        "colab": {
          "base_uri": "https://localhost:8080/"
        },
        "id": "OvVcccFsM2UP",
        "outputId": "34448a81-98fb-4ff9-c6db-b4f456331a85"
      },
      "execution_count": null,
      "outputs": [
        {
          "output_type": "stream",
          "name": "stdout",
          "text": [
            "['python', 'javascript', 'C#', 'java']\n"
          ]
        }
      ]
    },
    {
      "cell_type": "code",
      "source": [
        "my_list2 = ['python', 'javascript', 'C#']\n",
        "my_list2.insert(1,'java')\n",
        "print(my_list2)"
      ],
      "metadata": {
        "colab": {
          "base_uri": "https://localhost:8080/"
        },
        "id": "gXVKGUahM42w",
        "outputId": "242e3505-4b73-4daf-cf2f-f7e9272afbf6"
      },
      "execution_count": null,
      "outputs": [
        {
          "output_type": "stream",
          "name": "stdout",
          "text": [
            "['python', 'java', 'javascript', 'C#']\n"
          ]
        }
      ]
    },
    {
      "cell_type": "markdown",
      "source": [
        "# 刪除"
      ],
      "metadata": {
        "id": "wZzwzFmCM6ro"
      }
    },
    {
      "cell_type": "code",
      "source": [
        "my_list2 = ['python', 'javascript', 'C#']\n",
        "my_list2.remove('python') #移除指定元素\n",
        "print(my_list2)\n",
        "del my_list2[-1] #刪除指定位置的元素\n",
        "print(my_list2)\n",
        "my_list2.clear() #清除全部\n",
        "print(my_list2)"
      ],
      "metadata": {
        "colab": {
          "base_uri": "https://localhost:8080/"
        },
        "id": "obF3k-YPM9UO",
        "outputId": "c4cb1933-d142-4a0f-e0ad-c92e5681a0cf"
      },
      "execution_count": null,
      "outputs": [
        {
          "output_type": "stream",
          "name": "stdout",
          "text": [
            "['javascript', 'C#']\n",
            "['javascript']\n",
            "[]\n"
          ]
        }
      ]
    },
    {
      "cell_type": "code",
      "source": [
        "a=[1,2]\n",
        "print(a*5)"
      ],
      "metadata": {
        "colab": {
          "base_uri": "https://localhost:8080/"
        },
        "id": "0J1vkQMAM_Ea",
        "outputId": "f60455bd-127a-4674-c222-30f4923e3734"
      },
      "execution_count": null,
      "outputs": [
        {
          "output_type": "stream",
          "name": "stdout",
          "text": [
            "[1, 2, 1, 2, 1, 2, 1, 2, 1, 2]\n"
          ]
        }
      ]
    },
    {
      "cell_type": "markdown",
      "source": [
        "# list取值"
      ],
      "metadata": {
        "id": "kYc7P-PuNAvi"
      }
    },
    {
      "cell_type": "code",
      "source": [
        "a=[1,2,3,4,5,6,7,8,9]\n",
        "b=a[0:3] #範圍取值，0,1,2不包含3\n",
        "print(b)\n",
        "c=a[0:9:2] #間隔2取值\n",
        "print(c)\n",
        "d = a[0: ]\n",
        "print(d)\n",
        "e = a[ :9]\n",
        "print(e)\n",
        "f = a[:] #取全部值\n",
        "print(f)"
      ],
      "metadata": {
        "colab": {
          "base_uri": "https://localhost:8080/"
        },
        "id": "OWklXD-yNBdo",
        "outputId": "cb304ccf-a70f-4629-b146-1daf7c59e59a"
      },
      "execution_count": null,
      "outputs": [
        {
          "output_type": "stream",
          "name": "stdout",
          "text": [
            "[1, 2, 3]\n",
            "[1, 3, 5, 7, 9]\n",
            "[1, 2, 3, 4, 5, 6, 7, 8, 9]\n",
            "[1, 2, 3, 4, 5, 6, 7, 8, 9]\n",
            "[1, 2, 3, 4, 5, 6, 7, 8, 9]\n"
          ]
        }
      ]
    },
    {
      "cell_type": "code",
      "source": [
        "a=[1,2,3,4,5,6,7,8,9]\n",
        "del a[7:9] #刪除某範圍值, 7, 8\n",
        "print(a)\n",
        "print(min(a)) #最小值\n",
        "print(max(a)) #最大值\n",
        "print(a.index(1)) #找出1所在的第一個索引值\n",
        "b=[1,0,0,1,1,1]\n",
        "print(b.count(1)) #1出現的次數\n",
        "a.reverse() #串列反轉\n",
        "print(a)\n",
        "a.sort() #串列由小到大排序,a的值會被改變\n",
        "print(a)"
      ],
      "metadata": {
        "colab": {
          "base_uri": "https://localhost:8080/"
        },
        "id": "OUmDrVHGNDw1",
        "outputId": "e9636f81-21db-43eb-98a5-3dad586e30ac"
      },
      "execution_count": null,
      "outputs": [
        {
          "output_type": "stream",
          "name": "stdout",
          "text": [
            "[1, 2, 3, 4, 5, 6, 7]\n",
            "1\n",
            "7\n",
            "0\n",
            "4\n",
            "[7, 6, 5, 4, 3, 2, 1]\n",
            "[1, 2, 3, 4, 5, 6, 7]\n"
          ]
        }
      ]
    },
    {
      "cell_type": "code",
      "source": [
        "expenses = [1138, 101, 12, 300, 2049]\n",
        "s=sorted(expenses) #expenses的值不會變\n",
        "print(s, expenses)"
      ],
      "metadata": {
        "id": "5qmNFHb9NFO8"
      },
      "execution_count": null,
      "outputs": []
    },
    {
      "cell_type": "markdown",
      "source": [
        "5/3"
      ],
      "metadata": {
        "id": "KoUNOKFhNKb0"
      }
    },
    {
      "cell_type": "code",
      "execution_count": null,
      "metadata": {
        "colab": {
          "base_uri": "https://localhost:8080/"
        },
        "id": "S-FskiS55Yiq",
        "outputId": "12f11c6c-4b47-45e8-9959-f5392e27e65c"
      },
      "outputs": [
        {
          "output_type": "stream",
          "name": "stdout",
          "text": [
            "90\n",
            "70\n",
            "95\n",
            "95\n"
          ]
        }
      ],
      "source": [
        "#List[串列]\n",
        "score=[90,70,80,88,95]\n",
        "print(score[0])\n",
        "print(score[1])\n",
        "print(score[4])\n",
        "print(score[-1]) #-1從最後面屬過來第一個"
      ]
    },
    {
      "cell_type": "code",
      "source": [
        "score=[90,70,80,88,95]\n",
        "print(score[0:3])\n",
        "print(score[:3])\n",
        "print(score[3:])\n",
        "print(score[:])"
      ],
      "metadata": {
        "colab": {
          "base_uri": "https://localhost:8080/"
        },
        "id": "mqIoinj9Br5T",
        "outputId": "8325de91-41f8-443e-9da1-ef07edb3e837"
      },
      "execution_count": null,
      "outputs": [
        {
          "output_type": "stream",
          "name": "stdout",
          "text": [
            "[90, 70, 80]\n",
            "[90, 70, 80]\n",
            "[88, 95]\n",
            "[90, 70, 80, 88, 95]\n"
          ]
        }
      ]
    },
    {
      "cell_type": "code",
      "source": [
        "score=[90,70,80,88,95]\n",
        "print(score[0:5:2])\n",
        "print(score[::2])\n",
        "print(score[4:0:-1])\n",
        "print(score[0:4:-1])"
      ],
      "metadata": {
        "colab": {
          "base_uri": "https://localhost:8080/"
        },
        "id": "N0AyfCIlD3Qy",
        "outputId": "9771108c-6ca6-4cf0-db46-4b5cafc348a9"
      },
      "execution_count": null,
      "outputs": [
        {
          "output_type": "stream",
          "name": "stdout",
          "text": [
            "[90, 80, 95]\n",
            "[90, 80, 95]\n",
            "[95, 88, 80, 70]\n",
            "[]\n"
          ]
        }
      ]
    },
    {
      "cell_type": "code",
      "source": [
        "astr=\"abcdefghijklmopqrstuvwxyz\"\n",
        "print(astr[0])\n",
        "print(astr[-1])\n",
        "print(astr[5:20])\n",
        "print(astr[5:20:3])"
      ],
      "metadata": {
        "colab": {
          "base_uri": "https://localhost:8080/"
        },
        "id": "Ryh6zdpLFpgR",
        "outputId": "65fcd57f-0419-487c-bcfa-f4f0f4af57ff"
      },
      "execution_count": null,
      "outputs": [
        {
          "output_type": "stream",
          "name": "stdout",
          "text": [
            "a\n",
            "z\n",
            "fghijklmopqrstu\n",
            "filps\n"
          ]
        }
      ]
    },
    {
      "cell_type": "markdown",
      "source": [
        "# **Untitled4**<br>\n",
        "# numpy套件(numeric python)"
      ],
      "metadata": {
        "id": "h-U1u_D5NTZw"
      }
    },
    {
      "cell_type": "markdown",
      "source": [
        "為什麼需要numpy?\n",
        "\n",
        "\n",
        "*   numpy由c撰寫，速度快python 10~1000倍以上\n",
        "*   numpy儲存結果較正確，python數字儲存不正確\n",
        "*   numpy節省記憶體儲存空間\n",
        "*   numpy的向量(矩陣計算)速度快\n",
        "*   numpy的取值方便\n",
        "\n",
        "\n",
        "\n",
        "\n",
        "\n",
        "\n"
      ],
      "metadata": {
        "id": "-bB8s1ttNiXt"
      }
    },
    {
      "cell_type": "code",
      "source": [
        "a_list=[1,2,3,4,5]\n",
        "print(a_list*3)"
      ],
      "metadata": {
        "colab": {
          "base_uri": "https://localhost:8080/"
        },
        "id": "8ieY7OXEN7cx",
        "outputId": "898bff67-6ca2-4617-df10-e66cdd4adf93"
      },
      "execution_count": null,
      "outputs": [
        {
          "output_type": "stream",
          "name": "stdout",
          "text": [
            "[1, 2, 3, 4, 5, 1, 2, 3, 4, 5, 1, 2, 3, 4, 5]\n"
          ]
        }
      ]
    },
    {
      "cell_type": "code",
      "source": [
        "#numpy套件的ndarray型態,提供element-wise的操作\n",
        "import numpy as np\n",
        "a=np.array([1,2,3,4,5])\n",
        "print(a*3)"
      ],
      "metadata": {
        "id": "jTA9ta7EN9hI"
      },
      "execution_count": null,
      "outputs": []
    },
    {
      "cell_type": "code",
      "source": [
        "import numpy as np\n",
        "z=np.zeros(6)\n",
        "print(z)\n",
        "print(np.empty((2,3,4)))\n",
        "print(np.arange(10))"
      ],
      "metadata": {
        "colab": {
          "base_uri": "https://localhost:8080/"
        },
        "id": "rEitLV0RO787",
        "outputId": "b2eaa70a-c086-40aa-fd52-e5ecfa6804ea"
      },
      "execution_count": null,
      "outputs": [
        {
          "output_type": "stream",
          "name": "stdout",
          "text": [
            "[0. 0. 0. 0. 0. 0.]\n",
            "[[[1.32048490e-316 6.76869935e-322 0.00000000e+000 0.00000000e+000]\n",
            "  [0.00000000e+000 5.30276956e+180 6.00736842e-067 4.09940685e+097]\n",
            "  [3.70304290e-033 4.09868439e+126 4.25223142e+180 7.48543529e+247]]\n",
            "\n",
            " [[2.32363010e+251 6.11130817e+223 2.59903818e-144 2.14828425e+184]\n",
            "  [4.90483246e-062 4.51427601e-090 8.84738251e+165 2.59027859e-144]\n",
            "  [1.16442250e-028 9.44872517e-143 6.17582057e-322 0.00000000e+000]]]\n",
            "[0 1 2 3 4 5 6 7 8 9]\n"
          ]
        }
      ]
    },
    {
      "cell_type": "markdown",
      "source": [
        "# **ndarray的進階操作**"
      ],
      "metadata": {
        "id": "-Dh-h4r4O-vv"
      }
    },
    {
      "cell_type": "code",
      "source": [
        "my_array=np.arange(10)\n",
        "print(my_array)\n",
        "print(my_array[0])\n",
        "print(my_array[0:5])"
      ],
      "metadata": {
        "colab": {
          "base_uri": "https://localhost:8080/"
        },
        "id": "2xbehT4wPAzT",
        "outputId": "bc8ba49d-c6a8-432f-91eb-b4c279cc4bed"
      },
      "execution_count": null,
      "outputs": [
        {
          "output_type": "stream",
          "name": "stdout",
          "text": [
            "[0 1 2 3 4 5 6 7 8 9]\n",
            "0\n",
            "[0 1 2 3 4]\n"
          ]
        }
      ]
    },
    {
      "cell_type": "markdown",
      "source": [
        "# 2維資料取值"
      ],
      "metadata": {
        "id": "ZWaLyqVzPDMR"
      }
    },
    {
      "cell_type": "code",
      "source": [
        "my_2d_array=np.array([np.arange(0,5),np.arange(5,10)])\n",
        "print(my_2d_array)\n",
        "print(my_2d_array[1,:])\n",
        "print(my_2d_array[:,1])\n",
        "print(my_2d_array[1,1])"
      ],
      "metadata": {
        "colab": {
          "base_uri": "https://localhost:8080/"
        },
        "id": "B4YAiypBPE8k",
        "outputId": "c135f979-d8a7-41a6-bd8c-047f418cb4c4"
      },
      "execution_count": null,
      "outputs": [
        {
          "output_type": "stream",
          "name": "stdout",
          "text": [
            "[[0 1 2 3 4]\n",
            " [5 6 7 8 9]]\n",
            "[5 6 7 8 9]\n",
            "[1 6]\n",
            "6\n"
          ]
        }
      ]
    },
    {
      "cell_type": "code",
      "source": [
        "my_array=np.arange(0,10)\n",
        "print(my_array)\n",
        "print(my_array.shape)\n",
        "my_2d_array=my_array.reshape(2,5)\n",
        "print(my_2d_array)\n",
        "print((np.arange(0,100).reshape(10,10)))"
      ],
      "metadata": {
        "colab": {
          "base_uri": "https://localhost:8080/"
        },
        "id": "COUnmwDWPGxP",
        "outputId": "a3701796-ffa9-483f-dc9d-192560eee143"
      },
      "execution_count": null,
      "outputs": [
        {
          "output_type": "stream",
          "name": "stdout",
          "text": [
            "[0 1 2 3 4 5 6 7 8 9]\n",
            "(10,)\n",
            "[[0 1 2 3 4]\n",
            " [5 6 7 8 9]]\n",
            "[[ 0  1  2  3  4  5  6  7  8  9]\n",
            " [10 11 12 13 14 15 16 17 18 19]\n",
            " [20 21 22 23 24 25 26 27 28 29]\n",
            " [30 31 32 33 34 35 36 37 38 39]\n",
            " [40 41 42 43 44 45 46 47 48 49]\n",
            " [50 51 52 53 54 55 56 57 58 59]\n",
            " [60 61 62 63 64 65 66 67 68 69]\n",
            " [70 71 72 73 74 75 76 77 78 79]\n",
            " [80 81 82 83 84 85 86 87 88 89]\n",
            " [90 91 92 93 94 95 96 97 98 99]]\n"
          ]
        }
      ]
    },
    {
      "cell_type": "markdown",
      "source": [
        "# numpy的空值nan"
      ],
      "metadata": {
        "id": "kXfNxslXPJ2Q"
      }
    },
    {
      "cell_type": "code",
      "source": [
        "b=np.array([56, 8, 19, 14, np.nan])\n",
        "print(b)"
      ],
      "metadata": {
        "colab": {
          "base_uri": "https://localhost:8080/"
        },
        "id": "VgFO7vK0PI2L",
        "outputId": "6d429385-c614-451b-a683-a8fc8d6eaf16"
      },
      "execution_count": null,
      "outputs": [
        {
          "output_type": "stream",
          "name": "stdout",
          "text": [
            "[56.  8. 19. 14. nan]\n"
          ]
        }
      ]
    },
    {
      "cell_type": "markdown",
      "source": [
        "# **Untitled5** "
      ],
      "metadata": {
        "id": "fQE5caWvPR0j"
      }
    },
    {
      "cell_type": "markdown",
      "source": [
        "# 函式\n",
        "\n",
        "*   獨立的一組程式碼，可以重複使用\n",
        "*   通常可以有0-多個輸入參數，0-1輸出\n",
        "*   函式輸入參數可以有預設值"
      ],
      "metadata": {
        "id": "htWkfKeNPeZQ"
      }
    },
    {
      "cell_type": "code",
      "source": [
        "#傳統的程式寫法\n",
        "import math\n",
        "radius=eval(input(\"請輸入圓的半徑\"))\n",
        "area=radius*radius*math.pi\n",
        "print(\"圓的面積:\",area)"
      ],
      "metadata": {
        "colab": {
          "base_uri": "https://localhost:8080/"
        },
        "id": "F46w0a80Phpm",
        "outputId": "ec7e16f8-d6da-45c5-a88b-bfb870f5256d"
      },
      "execution_count": null,
      "outputs": [
        {
          "output_type": "stream",
          "name": "stdout",
          "text": [
            "請輸入圓的半徑10\n",
            "圓的面積: 314.1592653589793\n"
          ]
        }
      ]
    },
    {
      "cell_type": "markdown",
      "source": [
        "# 錯誤處理\n",
        "try;<br>\n",
        "(需要檢測的程式碼)<br>\n",
        "except;<br>\n",
        "(錯誤的處理方式)<br>\n",
        "else;<br>\n",
        "(如果沒有產生錯誤的處理方式)<br>\n",
        "finally;<br>\n",
        "(不管錯誤或執行正確，皆會進入處理方式)<br>"
      ],
      "metadata": {
        "id": "ju2rFkH9Pk1W"
      }
    },
    {
      "cell_type": "code",
      "source": [
        "try:\n",
        "  a=5\n",
        "  b=10\n",
        "  if a>b:\n",
        "    print(\"a<b\")\n",
        "except NameError:\n",
        "  print(\"名稱錯誤\")\n",
        "except ZeroDivisionError:\n",
        "  print(\"除以0錯誤\")  \n",
        "except:\n",
        "  print(\"錯誤產生\")\n",
        "else:\n",
        "  print(\"程式正確沒有錯誤\")\n",
        "finally:\n",
        "  print(\"程式結束\")"
      ],
      "metadata": {
        "colab": {
          "base_uri": "https://localhost:8080/"
        },
        "id": "BmXxUqgHPjyq",
        "outputId": "73552444-0c7b-4199-e138-76ae0174cf3f"
      },
      "execution_count": null,
      "outputs": [
        {
          "output_type": "stream",
          "name": "stdout",
          "text": [
            "程式正確沒有錯誤\n",
            "程式結束\n"
          ]
        }
      ]
    },
    {
      "cell_type": "markdown",
      "source": [
        "# **Untitled6** **檔案處理**\n",
        "*   os套件:用來處理目錄與文件，以及檔案的讀寫"
      ],
      "metadata": {
        "id": "CX7IiGXZP34b"
      }
    },
    {
      "cell_type": "code",
      "source": [
        "import os\n",
        "os.getcwd() #回傳目前的工作目錄"
      ],
      "metadata": {
        "colab": {
          "base_uri": "https://localhost:8080/",
          "height": 36
        },
        "id": "BrBER9tBQdeM",
        "outputId": "c6b02890-cccb-4667-e961-91b21525326e"
      },
      "execution_count": null,
      "outputs": [
        {
          "output_type": "execute_result",
          "data": {
            "text/plain": [
              "'/content'"
            ],
            "application/vnd.google.colaboratory.intrinsic+json": {
              "type": "string"
            }
          },
          "metadata": {},
          "execution_count": 32
        }
      ]
    },
    {
      "cell_type": "code",
      "source": [
        "os.listdir(\".\") #列出目錄下所有的檔案"
      ],
      "metadata": {
        "colab": {
          "base_uri": "https://localhost:8080/"
        },
        "id": "QAOKv78YQf4U",
        "outputId": "73d0d6a6-1972-4f5b-8a8d-156ff88581f6"
      },
      "execution_count": null,
      "outputs": [
        {
          "output_type": "execute_result",
          "data": {
            "text/plain": [
              "['.config', 'sample_data']"
            ]
          },
          "metadata": {},
          "execution_count": 34
        }
      ]
    },
    {
      "cell_type": "code",
      "source": [
        "os.makedirs(\"test\") #新增test目錄"
      ],
      "metadata": {
        "id": "Lumdr3TvQhBd"
      },
      "execution_count": null,
      "outputs": []
    },
    {
      "cell_type": "code",
      "source": [
        "os.rmdir(\"test\") #移除test目錄\n",
        "os.listdir(\".\")"
      ],
      "metadata": {
        "colab": {
          "base_uri": "https://localhost:8080/"
        },
        "id": "O5WXfo-ZQiHq",
        "outputId": "36b299e8-f530-4b89-ee44-215aa80ad449"
      },
      "execution_count": null,
      "outputs": [
        {
          "output_type": "execute_result",
          "data": {
            "text/plain": [
              "['.config', 'sample_data']"
            ]
          },
          "metadata": {},
          "execution_count": 36
        }
      ]
    },
    {
      "cell_type": "markdown",
      "source": [
        "# 檔案處理\n",
        "os套件有自己的檔案處理命令，而比較常用的是python內建的open\n",
        "*   python也有自己處理檔案的函式open(比較常用)     \n",
        "*   w=可寫(預設建立檔案)若檔案存在則會清除舊檔案\n",
        "*   w+=可寫可讀(預設建立檔案)若檔案存在則會清除舊檔案\n",
        "*   r=可讀\n",
        "*   r+=可寫可讀 但寫入資料指向開頭\n",
        "*   a=可寫不能讀 但寫入資料指向尾端\n",
        "*   a+=可寫可讀 但寫入資料指向尾端\n",
        "*   b=轉進2進為文件\n",
        "*   ab+=2進為文件的讀寫 寫入資料指向尾端"
      ],
      "metadata": {
        "id": "HEKkRKRAQohi"
      }
    },
    {
      "cell_type": "code",
      "source": [
        "# 新增檔案\n",
        "a=open(\"a.txt\",\"w\")\n",
        "a.write(\"This is line1\")\n",
        "a.write(\"This is line2\\n\")\n",
        "a.write(\"This is line3\\n\")\n",
        "a.close()"
      ],
      "metadata": {
        "id": "yMaL40HfQrVC"
      },
      "execution_count": null,
      "outputs": []
    },
    {
      "cell_type": "code",
      "source": [
        "os.path.isfile(\"a.txt\")"
      ],
      "metadata": {
        "colab": {
          "base_uri": "https://localhost:8080/"
        },
        "id": "cAEg0oOwQyft",
        "outputId": "043d3522-42e5-445d-90e8-6999503ddcd3"
      },
      "execution_count": null,
      "outputs": [
        {
          "output_type": "execute_result",
          "data": {
            "text/plain": [
              "True"
            ]
          },
          "metadata": {},
          "execution_count": 41
        }
      ]
    },
    {
      "cell_type": "code",
      "source": [
        "a=open(\"a.txt\",\"r\")\n",
        "print(a.readlines()) #一次讀取多行，與a.read()命令相同\n",
        "a.close()"
      ],
      "metadata": {
        "colab": {
          "base_uri": "https://localhost:8080/"
        },
        "id": "5vd57EPLQtVa",
        "outputId": "79c40155-7b16-4c63-a107-7dc907d1e6f6"
      },
      "execution_count": null,
      "outputs": [
        {
          "output_type": "stream",
          "name": "stdout",
          "text": [
            "['This is line1This is line2\\n', 'This is line3\\n']\n"
          ]
        }
      ]
    },
    {
      "cell_type": "code",
      "source": [
        "#加上檔案是否存在的判斷\n",
        "if os.path.isfile(\"a.txt\"):\n",
        "  a=open(\"a.txt\",\"r\")\n",
        "  print(a.readlines())\n",
        "  a.close()\n",
        "else:\n",
        "  print(\"檔案不存在\")"
      ],
      "metadata": {
        "colab": {
          "base_uri": "https://localhost:8080/"
        },
        "id": "BWengm8LQ0A3",
        "outputId": "822abcd5-a059-4ede-fb14-470ed2a2c31f"
      },
      "execution_count": null,
      "outputs": [
        {
          "output_type": "stream",
          "name": "stdout",
          "text": [
            "['This is line1This is line2\\n', 'This is line3\\n']\n"
          ]
        }
      ]
    },
    {
      "cell_type": "markdown",
      "source": [
        "# 附加檔案"
      ],
      "metadata": {
        "id": "CKuFwtqRQ01I"
      }
    },
    {
      "cell_type": "code",
      "source": [
        "a=open(\"a.txt\",\"a\") #參數\"a\"會把寫入資訊附加在檔案尾巴\n",
        "a.write(\"This is line4\\n\")\n",
        "a.close()"
      ],
      "metadata": {
        "id": "47G9AS4CQ2cO"
      },
      "execution_count": null,
      "outputs": []
    },
    {
      "cell_type": "code",
      "source": [
        "a=open(\"a.txt\",\"r\")\n",
        "print(a.readlines())\n",
        "a.close()"
      ],
      "metadata": {
        "colab": {
          "base_uri": "https://localhost:8080/"
        },
        "id": "gFQgfgd3Q4ka",
        "outputId": "3311cc6f-00e8-4983-bac7-e3736896c6bb"
      },
      "execution_count": null,
      "outputs": [
        {
          "output_type": "stream",
          "name": "stdout",
          "text": [
            "['This is line1This is line2\\n', 'This is line3\\n', 'This is line4\\n']\n"
          ]
        }
      ]
    },
    {
      "cell_type": "code",
      "source": [
        "a=open(\"a.txt\",\"r+\") #參數\"a\"會把寫入資訊附加在檔案尾巴\n",
        "a.write(\"This is line5\\n\")\n",
        "a.close()"
      ],
      "metadata": {
        "id": "28pLpvRuQ6fV"
      },
      "execution_count": null,
      "outputs": []
    },
    {
      "cell_type": "code",
      "source": [
        "a=open(\"a.txt\",\"r\")\n",
        "print(a.readlines())\n",
        "a.close()"
      ],
      "metadata": {
        "colab": {
          "base_uri": "https://localhost:8080/"
        },
        "id": "JApgD0qEQ78-",
        "outputId": "d4288e37-e80c-4867-fcb9-0dfc27d6ec43"
      },
      "execution_count": null,
      "outputs": [
        {
          "output_type": "stream",
          "name": "stdout",
          "text": [
            "['This is line5\\n', 'his is line2\\n', 'This is line3\\n', 'This is line4\\n']\n"
          ]
        }
      ]
    },
    {
      "cell_type": "markdown",
      "source": [
        "# **Untitled7 錯誤處理**"
      ],
      "metadata": {
        "id": "X1MGM4VkRHnL"
      }
    },
    {
      "cell_type": "markdown",
      "source": [
        "try:<br>\n",
        "except:<br>\n",
        "else:<br>\n",
        "finally:<br>"
      ],
      "metadata": {
        "id": "9_2-VvjtRLOw"
      }
    },
    {
      "cell_type": "code",
      "source": [
        "a=10\n",
        "b=20\n",
        "if a<b:\n",
        "    print(n)"
      ],
      "metadata": {
        "colab": {
          "base_uri": "https://localhost:8080/",
          "height": 208
        },
        "id": "V1C4fyuyRQkD",
        "outputId": "b0ce28e2-6dc3-4b90-bec6-edf460f2fe5e"
      },
      "execution_count": null,
      "outputs": [
        {
          "output_type": "error",
          "ename": "NameError",
          "evalue": "ignored",
          "traceback": [
            "\u001b[0;31m---------------------------------------------------------------------------\u001b[0m",
            "\u001b[0;31mNameError\u001b[0m                                 Traceback (most recent call last)",
            "\u001b[0;32m<ipython-input-47-c19f432ee023>\u001b[0m in \u001b[0;36m<module>\u001b[0;34m()\u001b[0m\n\u001b[1;32m      2\u001b[0m \u001b[0mb\u001b[0m\u001b[0;34m=\u001b[0m\u001b[0;36m20\u001b[0m\u001b[0;34m\u001b[0m\u001b[0;34m\u001b[0m\u001b[0m\n\u001b[1;32m      3\u001b[0m \u001b[0;32mif\u001b[0m \u001b[0ma\u001b[0m\u001b[0;34m<\u001b[0m\u001b[0mb\u001b[0m\u001b[0;34m:\u001b[0m\u001b[0;34m\u001b[0m\u001b[0;34m\u001b[0m\u001b[0m\n\u001b[0;32m----> 4\u001b[0;31m     \u001b[0mprint\u001b[0m\u001b[0;34m(\u001b[0m\u001b[0mn\u001b[0m\u001b[0;34m)\u001b[0m\u001b[0;34m\u001b[0m\u001b[0;34m\u001b[0m\u001b[0m\n\u001b[0m",
            "\u001b[0;31mNameError\u001b[0m: name 'n' is not defined"
          ]
        }
      ]
    },
    {
      "cell_type": "code",
      "source": [
        "a=10\n",
        "b=20\n",
        "try:\n",
        "    if a<b:\n",
        "        print(n)\n",
        "except:\n",
        "    print(\"錯誤產生\")"
      ],
      "metadata": {
        "colab": {
          "base_uri": "https://localhost:8080/"
        },
        "id": "GpIOpphERS7M",
        "outputId": "190f3f82-2a29-48f1-9eed-2debf5f094e7"
      },
      "execution_count": null,
      "outputs": [
        {
          "output_type": "stream",
          "name": "stdout",
          "text": [
            "錯誤產生\n"
          ]
        }
      ]
    },
    {
      "cell_type": "markdown",
      "source": [
        "# 指定錯誤類別處理"
      ],
      "metadata": {
        "id": "W1cY8E45RVzO"
      }
    },
    {
      "cell_type": "code",
      "source": [
        "a=10\n",
        "b=20\n",
        "try:\n",
        "    if a<b:\n",
        "        print(n)\n",
        "except NameError as e:\n",
        "    print(\"錯誤產生, 錯誤原因：\",e)\n",
        "except ZeroDivisionError:\n",
        "    print(\"除以0錯誤\")"
      ],
      "metadata": {
        "colab": {
          "base_uri": "https://localhost:8080/"
        },
        "id": "ySL7lY8aRXEk",
        "outputId": "1343069b-3a11-475d-ed9d-cc9245a477d8"
      },
      "execution_count": null,
      "outputs": [
        {
          "output_type": "stream",
          "name": "stdout",
          "text": [
            "錯誤產生, 錯誤原因： name 'n' is not defined\n"
          ]
        }
      ]
    },
    {
      "cell_type": "markdown",
      "source": [
        "# else<br>\n",
        "沒有錯誤產生會執行的部分"
      ],
      "metadata": {
        "id": "lxBYi0RFRZhs"
      }
    },
    {
      "cell_type": "code",
      "source": [
        "a=10\n",
        "b=20\n",
        "try:\n",
        "    if a>b: #改變比較條件，讓錯誤不發生\n",
        "        print(n)\n",
        "except:\n",
        "    print(\"錯誤發生\")\n",
        "else:\n",
        "    print(\"沒有錯誤發生時會執行的部分\")"
      ],
      "metadata": {
        "colab": {
          "base_uri": "https://localhost:8080/"
        },
        "id": "xu_k9TWORgOD",
        "outputId": "9a64accd-4076-441c-a32a-c1925ad95f16"
      },
      "execution_count": null,
      "outputs": [
        {
          "output_type": "stream",
          "name": "stdout",
          "text": [
            "沒有錯誤發生時會執行的部分\n"
          ]
        }
      ]
    },
    {
      "cell_type": "code",
      "source": [
        "a=10\n",
        "b=20\n",
        "try:\n",
        "    if a>b: #改變比較條件，讓錯誤不發生\n",
        "        print(n)\n",
        "except:\n",
        "    print(\"錯誤發生\")\n",
        "else:\n",
        "    print(\"沒有錯誤發生時會執行的部分\")\n",
        "finally:\n",
        "    print(\"不管有沒有錯誤一定會執行的部分\")"
      ],
      "metadata": {
        "id": "z2vOy4LkRieC"
      },
      "execution_count": null,
      "outputs": []
    }
  ]
}